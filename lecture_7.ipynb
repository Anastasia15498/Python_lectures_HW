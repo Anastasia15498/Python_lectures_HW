{
 "cells": [
  {
   "cell_type": "markdown",
   "id": "60a3c6a8",
   "metadata": {},
   "source": [
    "# Как работает сборщик мусора"
   ]
  },
  {
   "cell_type": "markdown",
   "id": "83ed0c09",
   "metadata": {},
   "source": [
    "CPython (стандартный интерпретатор Python) использует два механизма для сборки мусора — подсчет ссылок на объекты и generational garbage collector (модуль gc в стандартной библиотеке Python).\n",
    "\n",
    "### Алгоритм подсчета ссылок\n",
    "\n",
    "В Python все переменные являются ссылками на объекты. Естественно, на один объект может ссылаться несколько переменных.\n",
    "\n",
    "\n",
    "Так выглядит структура CPython, на основе которой реализованы другие, более сложные примитивы CPython. Здесь переменная **ob_refcnt** — переменная, которая увеличивается каждый раз, когда на данный объект создается ссылка."
   ]
  },
  {
   "cell_type": "raw",
   "id": "00be66f6",
   "metadata": {},
   "source": [
    "typedef struct _object {\n",
    "    _PyObject_HEAD_EXTRA\n",
    "    Py_ssize_t ob_refcnt;\n",
    "    PyTypeObject *ob_type;\n",
    "} PyObject;\n"
   ]
  },
  {
   "cell_type": "markdown",
   "id": "eb8b2782",
   "metadata": {},
   "source": [
    "Когда эта связь пропадает, естественно, счетчик ссылки объекта уменьшается.\n",
    "\n",
    "Каждый раз, когда счетчик ссылок становится равным нулю, запускается механизм уничтожения объекта, при этом удаляются и ссылки, которые этот объект имел к другим объектам, таким образом, уничтожение одного объекта может повлечь волну удалений других объектов.\n",
    "\n",
    "Основной проблемой, которой обладает алгоритм подсчета ссылок, является невозможность разрешения циклических зависимостей. Эту проблему призван решить generational garbage collector.\n",
    "\n",
    "с помощью функции **sys.getrefcount()**, всегда можно узнать количество ссылок на объект."
   ]
  },
  {
   "cell_type": "code",
   "execution_count": 1,
   "id": "5d37d3c3",
   "metadata": {},
   "outputs": [
    {
     "name": "stdout",
     "output_type": "stream",
     "text": [
      "2\n",
      "3\n"
     ]
    }
   ],
   "source": [
    "import sys\n",
    "test_list = [1,2,3]\n",
    "print(sys.getrefcount(test_list))\n",
    "test_list_2 = test_list\n",
    "print(sys.getrefcount(test_list_2))"
   ]
  },
  {
   "cell_type": "markdown",
   "id": "f5ade3bb",
   "metadata": {},
   "source": [
    "Функция **sys.getrefcount()** обычно возвращает количество ссылок большее на единицу, чем ожидалось.\n",
    "\n",
    "Это связано с созданием временной ссылки на аргумент, который передается в функцию."
   ]
  },
  {
   "cell_type": "markdown",
   "id": "4bbe7117",
   "metadata": {},
   "source": [
    "### Generational garbage collector (GC)\n",
    "\n",
    "Циклическая ссылка — это когда один или несколько объектов ссылаются друг на друга."
   ]
  },
  {
   "cell_type": "code",
   "execution_count": 2,
   "id": "25bb02f3",
   "metadata": {},
   "outputs": [],
   "source": [
    "a = []\n",
    "a.append(a) #Здесь список ссылается сам на себя."
   ]
  },
  {
   "cell_type": "code",
   "execution_count": 3,
   "id": "d31acc88",
   "metadata": {},
   "outputs": [],
   "source": [
    "# Здесь словари ссылаются друг на друга.\n",
    "a = {}\n",
    "b = {}\n",
    "a[\"b\"] = b\n",
    "b[\"a\"] = a"
   ]
  },
  {
   "cell_type": "markdown",
   "id": "e9aaedc1",
   "metadata": {},
   "source": [
    "Если вызвать метод del(), то произойдет удаление ссылок на объекты. Если бы не было GC, то объекты так бы и остались висеть в памяти, хотя и были бы недоступны для разработчика.\n",
    "\n",
    "GC все объекты разделяет на три поколения. Изначально все объекты помещаются в первое поколение, живут там некоторое время и большинство из них очищается, остальная часть перемещается во второе поколение и потом в третье. Чем выше поколение, тем реже оно сканируется на мусор. \n",
    "\n",
    "Для выявления циклических ссылок GC итерирует каждый объект в поколении и временно удаляет все ссылки, на которые этот объект ссылается. После полного обхода, все обьекты, у которых счетчик ссылок меньше двух, считаются недоступными и удаляются.\n",
    "\n",
    "GC как модуль предоставляет возможность управлять сборщиком мусора для циклических ссылок."
   ]
  },
  {
   "cell_type": "code",
   "execution_count": 5,
   "id": "35dfbee3",
   "metadata": {
    "scrolled": true
   },
   "outputs": [
    {
     "data": {
      "text/plain": [
       "36"
      ]
     },
     "execution_count": 5,
     "metadata": {},
     "output_type": "execute_result"
    }
   ],
   "source": [
    "import gc\n",
    "gc.enable() # включение сборщика мусора\n",
    "gc.disable() # выключение сборщика мусора\n",
    "gc.collect(generation=2) # явно инициирует проход сборщика мусора до его автоматического запуска"
   ]
  },
  {
   "cell_type": "markdown",
   "id": "2fb14a28",
   "metadata": {},
   "source": [
    "***Полезная ссылка***\n",
    "\n",
    "[Более подробно о возможностях модуля gc можно прочитать тут][1]\n",
    "\n",
    "[1]:https://docs.python.org/3/library/gc.html"
   ]
  },
  {
   "cell_type": "markdown",
   "id": "9c9f7873",
   "metadata": {},
   "source": [
    "# Менеджмент памяти\n",
    "\n",
    "Если новый создаваемый объект занимает в памяти больше, чем 512 байт, то Python отправляет его на стандартный С-аллокатор.\n",
    "\n",
    "Для оптимизации выделения памяти под небольшие объекты размером менее 512 байт, Python заранее выделяет большие блоки памяти, которые разделены на три уровня — арены, пулы, блоки.\n",
    "\n",
    "**Блок** — это участок памяти определенного размера, каждый блок содержит только один Python-объект фиксированного размера, кратного 8. Размер блока от 8 до 512 байт.\n",
    "\n",
    "**Пул** — это коллекция блоков одинакового размера. Обычно размер пула — это 4 КБ. Если объект уничтожается, то занимаемая им память не отдается операционной системе, а сохраняется для будущих объектов такого же размера.\n",
    "\n",
    "Пул и блоки не выделяют память напрямую, а используют память, выделенную аренами\n",
    "\n",
    "**Арена** — участок памяти в 256 КБ, выделенный из кучи операционной системы, которая вмещает в себя 64 пула.\n",
    "\n",
    "Схематично арена выглядит так:\n",
    "\n",
    "|        |Arena   |   |\n",
    "|--------|------|--------|\n",
    "| Pool(4kB)|Pool(4kB) | Pool(4kB)|\n",
    "|Pool(4kB)|Pool(4kB)|Pool(4kB)|\n",
    "|Pool(4kB)|FreePool(4kB)|FreePool(4kB)|\n",
    "|...|...|...|\n"
   ]
  },
  {
   "cell_type": "markdown",
   "id": "577f45be",
   "metadata": {},
   "source": [
    "# Основы процессов и потоков\n",
    "\n",
    "**Процесс** — это часть виртуальной памяти и ресурсов, которые операционная система выделяет для выполнения программы.\n",
    "\n",
    "Каждый процесс выполняется в отдельном адресном пространстве и не может получить доступ к ресурсам другого процесса. \n",
    "\n",
    "**Поток** — это отдельная «нить» (поток) выполнения внутри процесса. \n",
    "\n",
    "У каждой программы есть как минимум один процесс, а у каждого процесса — минимум один поток, который называют главным. \n",
    "\n",
    "Разница между потоками и процессами состоит в том, что потоки используют память, выделенную под процесс, процессы в свою очередь обмениваются данными между собой только с помощью механизмов межпроцессного взаимодействия, а потоки обращаются к ресурсам друг друга напрямую. \n",
    "\n",
    "**Многопоточность** — это разбиение процесса программы на множество потоков, которые работают параллельно друг с другом. Например, одновременное получение нескольких html-страниц с разных сайтов.\n",
    "\n",
    "**Многопроцессорность** — это разбиение программы на несколько независимых процессов. Например, один процесс в программе реализует основную бизнес-логику, другой процесс запускает веб-сервер, необходимый для мониторинга жизни приложения."
   ]
  },
  {
   "cell_type": "markdown",
   "id": "67f31df8",
   "metadata": {},
   "source": [
    " *в Python и его стандартном интерпретаторе CPython только кажется, что потоки выполняются параллельно, на самом деле они выполняются последовательно. Это связано с GIL (Global Interpreter Lock), который ограничивает Python на один запущенный поток в единицу времени.*\n",
    " \n",
    " **GIL — это блокировка самого интерпретатора Python. То есть, она является единственной блокировкой в системе и позволяет решить проблему взаимоблокировок, но в свою очередь делает все приложения однопоточными.**"
   ]
  },
  {
   "cell_type": "markdown",
   "id": "29c9b5ab",
   "metadata": {},
   "source": [
    "#### Так хорошо ли GIL или плохо?\n",
    "**В не зависимости от количества ядер процессора, любая многопоточная программа на Python не сможет раскрыть потенциал и будет работать даже медленнее однопоточной за счет переключения GIL между потоками.**\n",
    "\n",
    "Если разделить все программы на CPU-зависимые (обработка изображений, умножение матриц) и I/O-зависимые (связь по сети, обращение к БД), то можно понять, что использование потоков и GIL не несет ничего критического при I/O-операциях, т.к. время, затраченное Python на переключение потоков, будет компенсировано временем I/O-операций. \n",
    "\n",
    "Модуль **threading** отвечает за создание и работу с потоками"
   ]
  },
  {
   "cell_type": "code",
   "execution_count": 3,
   "id": "b3f2e9a9",
   "metadata": {},
   "outputs": [
    {
     "name": "stdout",
     "output_type": "stream",
     "text": [
      "before create Thread\n",
      "before running Thread\n",
      "1  - thread starting\n",
      "Wait thread finish\n",
      "all done\n",
      "1  - after sleep\n"
     ]
    }
   ],
   "source": [
    "import threading\n",
    "import time\n",
    "def thread_function(name):\n",
    "    print(name, \" - thread starting\")\n",
    "    time.sleep(3)\n",
    "    print(name, \" - after sleep\")\n",
    "\n",
    "if __name__ == \"__main__\":\n",
    "    print(\"before create Thread\")\n",
    "    x = threading.Thread(target=thread_function, args=(1,))\n",
    "    print(\"before running Thread\")\n",
    "    x.start()\n",
    "    print(\"Wait thread finish\")\n",
    "    #x.join() # указание основному потоку дождаться завершения потока x.\n",
    "    print(\"all done\")"
   ]
  },
  {
   "cell_type": "markdown",
   "id": "40aa2a6a",
   "metadata": {},
   "source": [
    "В данном примере:\n",
    "\n",
    "1. Мы импортируем модуль **threading.**\n",
    "2. Создаем объект класса **Thread**, передавая ему на вход функцию, с которой он начнет работу, и аргументы для этой функции. \n",
    "3. Методом **start()** можно запустить поток, и, когда он завершит выполнение функции **thread_function()**, он автоматически завершится.\n",
    "\n",
    "Также во время создания объекта класса **Thread** можно передать параметр **daemon=True**, который позволит создать daemon-поток."
   ]
  },
  {
   "cell_type": "markdown",
   "id": "46091376",
   "metadata": {},
   "source": [
    "x.join() — это указание основному потоку дождаться завершения потока x. Это может быть полезно в случае, когда дочерние потоки делают какую-то работу, а основной поток впоследствии работает с данными, которые подготовили дочерние потоки."
   ]
  },
  {
   "cell_type": "code",
   "execution_count": 2,
   "id": "a7d22f6d",
   "metadata": {},
   "outputs": [],
   "source": [
    "x = threading.Thread(target=thread_function, args=(1,), daemon=True)"
   ]
  },
  {
   "cell_type": "markdown",
   "id": "f4402f7a",
   "metadata": {},
   "source": [
    "В теории daemon-процесс — это процесс, который работает в фоновом режиме."
   ]
  },
  {
   "cell_type": "markdown",
   "id": "6e7d8156",
   "metadata": {},
   "source": [
    "для запуска нескольких потоков можно комбинировать потоки, помещая в список"
   ]
  },
  {
   "cell_type": "code",
   "execution_count": 8,
   "id": "5376b1ef",
   "metadata": {},
   "outputs": [
    {
     "name": "stdout",
     "output_type": "stream",
     "text": [
      "create thread -  0\n",
      "0  - thread start\n",
      "create thread -  1\n",
      "1  - thread start\n",
      "create thread -  2\n",
      "2  - thread start\n",
      "before join -  0\n",
      "0 - thread job's done\n",
      "after join -  0\n",
      "before join -  1\n",
      "1 - thread job's done\n",
      "after join -  1\n",
      "before join -  2\n",
      "2 - thread job's done\n",
      "after join -  2\n"
     ]
    }
   ],
   "source": [
    "import threading\n",
    "import time\n",
    "def thread_function(name):\n",
    "    print(name, \" - thread start\")\n",
    "    time.sleep(2)\n",
    "    print(name, \"- thread job's done\")\n",
    "if __name__ == \"__main__\":\n",
    "    threads = []\n",
    "    for index in range(3):\n",
    "        print(\"create thread - \", index)\n",
    "        x = threading.Thread(target=thread_function, args=(index,))\n",
    "        threads.append(x)\n",
    "        x.start()\n",
    "\n",
    "    for index, thread in enumerate(threads):\n",
    "        print(\"before join - \", index)\n",
    "        thread.join()\n",
    "        print(\"after join - \", index)"
   ]
  },
  {
   "cell_type": "markdown",
   "id": "7f32d127",
   "metadata": {},
   "source": [
    "Помимо создания нескольких потоков и хранения их в списке, в Python есть возможность использовать ThreadPoolExecutor, который позволяет создать N потоков более просто."
   ]
  },
  {
   "cell_type": "code",
   "execution_count": 12,
   "id": "0e0a5471",
   "metadata": {},
   "outputs": [
    {
     "name": "stdout",
     "output_type": "stream",
     "text": [
      "thread_function Executed <Thread(ThreadPoolExecutor-3_1, started 24448)>\n",
      "thread_function Executed <Thread(ThreadPoolExecutor-3_0, started 26684)>\n"
     ]
    }
   ],
   "source": [
    "from concurrent.futures import ThreadPoolExecutor\n",
    "import threading\n",
    "import time\n",
    "def thread_function():\n",
    "    time.sleep(2)\n",
    "    print(\"thread_function Executed {}\".format(threading.current_thread()))\n",
    "def main():\n",
    "    executor = ThreadPoolExecutor(max_workers=3)\n",
    "    task1 = executor.submit(thread_function)\n",
    "    task2 = executor.submit(thread_function)\n",
    "if __name__ == '__main__':\n",
    "    main()"
   ]
  },
  {
   "cell_type": "markdown",
   "id": "6063ea66",
   "metadata": {},
   "source": [
    "В этом примере создается ThreadPoolExecutor, с количеством потоков равным 3, и с помощью объекта executor передается функция, которую нужно выполнить. Как видно из вывода, разные потоки выполняют эту функцию."
   ]
  },
  {
   "cell_type": "markdown",
   "id": "ebaab458",
   "metadata": {},
   "source": [
    "# Примитивы синхронизации потоков"
   ]
  },
  {
   "cell_type": "code",
   "execution_count": null,
   "id": "519bb7b3",
   "metadata": {},
   "outputs": [],
   "source": [
    "class DataBase:\n",
    "    def __init__(self):\n",
    "        self.value = 0\n",
    "    def update(self, name):\n",
    "        print(name, \" - start thread\")\n",
    "        local_copy = self.value\n",
    "        local_copy += 1\n",
    "        time.sleep(0.1)\n",
    "        self.value = local_copy\n",
    "        print(name, \" - finish thread\")"
   ]
  },
  {
   "cell_type": "markdown",
   "id": "a8715982",
   "metadata": {},
   "source": [
    "**Lock** — это блокировка, которая может одновременно удерживаться только одним потоком."
   ]
  },
  {
   "cell_type": "code",
   "execution_count": 13,
   "id": "ef7856cc",
   "metadata": {},
   "outputs": [],
   "source": [
    "lock = threading.Lock()\n",
    "lock.acquire() # Выполнит блокировку данного участка кода\n",
    "# какой-то код\n",
    "lock.release() # освобождение блокировки"
   ]
  },
  {
   "cell_type": "markdown",
   "id": "c4f57be9",
   "metadata": {},
   "source": [
    " можно использовать контекстный менеджер и не беспокоиться о необходимости выполнять явную блокировку / разблокировку."
   ]
  },
  {
   "cell_type": "raw",
   "id": "c7e262fb",
   "metadata": {},
   "source": [
    " with self._lock:\n",
    "    local_copy = self.value\n",
    "    local_copy += 1\n",
    "    time.sleep(0.1)\n",
    "    self.value = local_copy"
   ]
  },
  {
   "cell_type": "markdown",
   "id": "dfa4cdbb",
   "metadata": {},
   "source": [
    "**Семафор** (связка из блокировки и счётчика потоков) чем-то похож на Lock с той лишь разницей, что в него встроен счетчик, который блокирует доступ в случае превышения числа потоков, которые удерживают семафор. "
   ]
  },
  {
   "cell_type": "code",
   "execution_count": null,
   "id": "e1a2c94e",
   "metadata": {},
   "outputs": [],
   "source": [
    "import threading\n",
    "max_connections = 10\n",
    "semaphore = threading.BoundedSemaphore(max_connections)\n",
    "semaphore.acquire() # уменьшает счетчик (-1)\n",
    "... доступ к общим ресурсам\n",
    "semaphore.release() # увеличивает счетчик (+1)"
   ]
  },
  {
   "cell_type": "markdown",
   "id": "cf46d00a",
   "metadata": {},
   "source": [
    "С каждым acquire() счетчик уменьшается, с release() — увеличивается, но когда счетчик равен 0, новый поток будет вынужден ждать, пока не освободится место для него.\n",
    "\n",
    "Так же во время разработки программы с многопоточностью удобно использовать модуль Queue, который реализует механизм очередей с поддержкой threadsafe. Это означает, что, используя очередь, можно безопасно обмениваться информацией между потоками."
   ]
  },
  {
   "cell_type": "code",
   "execution_count": 19,
   "id": "374d8fa3",
   "metadata": {},
   "outputs": [
    {
     "name": "stdout",
     "output_type": "stream",
     "text": [
      "get task -  0\n",
      "get task -  1\n",
      "my task is 1 i am  <Thread(Thread-34, started daemon 9080)>\n",
      "get task -  2\n",
      "my task is 0 i am  <Thread(Thread-35, started daemon 13812)>\n",
      "get task -  3\n",
      "my task is 2 i am  <Thread(Thread-34, started daemon 9080)>\n",
      "get task -  4\n",
      "my task is 3 i am  <Thread(Thread-35, started daemon 13812)>\n",
      "my task is 4 i am  <Thread(Thread-34, started daemon 9080)>\n"
     ]
    }
   ],
   "source": [
    "import threading\n",
    "import time\n",
    "from queue import Queue\n",
    "from threading import Thread\n",
    "num_worker_threads=2\n",
    "def do_work(item):\n",
    "    time.sleep(1)\n",
    "    print(\"my task is\", item, \"i am \", threading.current_thread())\n",
    "\n",
    "def worker():\n",
    "    while True:        \n",
    "        item = q.get() # получаем задание из \n",
    "        print(\"get task - \", item)\n",
    "        do_work(item) # выполняем работу\n",
    "        q.task_done() # сообщаем о завершении работы\n",
    "q = Queue()\n",
    "for i in range(num_worker_threads): # Создаем и запускаем потоки\n",
    "    t = Thread(target=worker)\n",
    "    t.setDaemon(True)\n",
    "    t.start()\n",
    "for item in range(0, 5): # помещаем задания в очередь\n",
    "    q.put(item)\n",
    "q.join() # Ждем, пока не будут выполнены все задания"
   ]
  },
  {
   "cell_type": "markdown",
   "id": "c60fca35",
   "metadata": {},
   "source": [
    "апускаем несколько потоков, создаем очередь и помещаем в нее задания. Потоки, используя безопасный метод q.get(), получают задания и выполняют их."
   ]
  },
  {
   "cell_type": "markdown",
   "id": "8f28037c",
   "metadata": {},
   "source": [
    "# Модуль multiprocessing"
   ]
  },
  {
   "cell_type": "markdown",
   "id": "d66b10d0",
   "metadata": {},
   "source": [
    "Модуль multiprocessing несет в себе возможность создавать процессы таким же образом, как и потоки из модуля threading. Таким образом, можно обойти GIL и получить настоящую параллельную работу. \n",
    "\n",
    "пример"
   ]
  },
  {
   "cell_type": "code",
   "execution_count": 69,
   "id": "9beb536a",
   "metadata": {},
   "outputs": [],
   "source": [
    "import os\n",
    "from multiprocessing import Process, current_process\n",
    "def foo(number):\n",
    "    proc_name = current_process().name\n",
    "    return '{0} {1}'.format(number, proc_name)\n",
    "    \n",
    "if __name__ == '__main__':\n",
    "    random_numbers = [5, 10, 15, 20, 25]\n",
    "    process_list = []\n",
    "    proc = Process(target=foo, args=(5,))\n",
    "    for index, number in enumerate(random_numbers):\n",
    "        proc = Process(target=foo, args=(number,))\n",
    "        process_list.append(proc)\n",
    "        proc.start()   \n",
    "    proc = Process(target=foo, name='Test', args=(2,))\n",
    "    proc.start()\n",
    "    process_list.append(proc)\n",
    "    for proc in process_list:\n",
    "        proc.join()"
   ]
  },
  {
   "cell_type": "code",
   "execution_count": 68,
   "id": "9e86fd23",
   "metadata": {
    "scrolled": true
   },
   "outputs": [
    {
     "data": {
      "text/plain": [
       "[<Process name='Process-160' pid=23604 parent=14472 stopped exitcode=1>,\n",
       " <Process name='Process-161' pid=27224 parent=14472 stopped exitcode=1>,\n",
       " <Process name='Process-162' pid=27972 parent=14472 stopped exitcode=1>,\n",
       " <Process name='Process-163' pid=1568 parent=14472 stopped exitcode=1>,\n",
       " <Process name='Process-164' pid=28272 parent=14472 stopped exitcode=1>,\n",
       " <Process name='Test' pid=27336 parent=14472 stopped exitcode=1>]"
      ]
     },
     "execution_count": 68,
     "metadata": {},
     "output_type": "execute_result"
    }
   ],
   "source": [
    "process_list"
   ]
  },
  {
   "cell_type": "markdown",
   "id": "23721d65",
   "metadata": {},
   "source": [
    "Класс Process в качестве аргументов принимает:\n",
    "\n",
    "Target — функцию, которая будет выполняться при запуске процесса.\n",
    "Name — имя процесса, доступного через функцию current_process().\n",
    "args — аргументы для функции target()."
   ]
  },
  {
   "cell_type": "markdown",
   "id": "eff98fc9",
   "metadata": {},
   "source": [
    "процессы поддерживают Lock для блокировки доступа к ресурсам."
   ]
  },
  {
   "cell_type": "code",
   "execution_count": 72,
   "id": "143fb901",
   "metadata": {},
   "outputs": [
    {
     "name": "stdout",
     "output_type": "stream",
     "text": [
      "<Process name='Process-176' pid=15516 parent=14472 started>\n",
      "<Process name='Process-177' pid=14532 parent=14472 started>\n",
      "<Process name='Process-178' pid=25328 parent=14472 started>\n"
     ]
    }
   ],
   "source": [
    "from multiprocessing import Process, Lock, current_process\n",
    "def print_function(item, lock):\n",
    "    lock.acquire()\n",
    "    try:\n",
    "        print(item, current_process())\n",
    "    finally:\n",
    "        lock.release()\n",
    "if __name__ == '__main__':\n",
    "    lock = Lock()\n",
    "    items = ['test1', 'test2', \"test3\"]    \n",
    "    for item in items:\n",
    "        p = Process(target=print_function, args=(item, lock))\n",
    "        p.start()\n"
   ]
  },
  {
   "cell_type": "markdown",
   "id": "f7f300d3",
   "metadata": {},
   "source": [
    "По примеру можем видеть, что, благодаря Lock, процессы работают с функцией по очереди.\n",
    "\n",
    "Аналогом ThreadPoolExecutor является класс Pool, который позволяет запустить несколько процессов одновременно."
   ]
  },
  {
   "cell_type": "code",
   "execution_count": null,
   "id": "33eca493",
   "metadata": {},
   "outputs": [],
   "source": [
    "from multiprocessing import Pool\n",
    "def calc(number):\n",
    "    return number * 2\n",
    "\n",
    "if __name__ == '__main__':\n",
    "    numbers = [5, 10, 20]\n",
    "    pool = Pool(processes=3)\n",
    "    print(pool.map(calc, numbers))"
   ]
  },
  {
   "cell_type": "markdown",
   "id": "a7019ff5",
   "metadata": {},
   "source": [
    "Мы создаем экземпляр класса Pool, указываем в processes, что хотим создать 3 процесса, а затем с помощью pool.map() передаем функцию для исполнения и список numbers, где впоследствии каждый из элементов списка будет подан на вход функции doubler().\n",
    "\n",
    "Для связи между процессами можно использовать класс Queue, который так же реализован в модуле multiprocessing"
   ]
  },
  {
   "cell_type": "code",
   "execution_count": null,
   "id": "2107609d",
   "metadata": {},
   "outputs": [],
   "source": [
    "from multiprocessing import Process, Queue\n",
    "stop_number = -1 \n",
    "def task_creator(data, q):\n",
    "    for item in data:\n",
    "        q.put(item)\n",
    "def consmuer(q):\n",
    "    while True:\n",
    "        data = q.get()\n",
    "        print('data: {}'.format(data))\n",
    "        processed = data * 2\n",
    "        print(processed)\n",
    "        if data is stop_number:\n",
    "            break\n",
    "if __name__ == '__main__':\n",
    "    q = Queue()\n",
    "    data = [5, 10, 13, -1]   \n",
    "    process_one = Process(target=task_creator, args=(data, q))\n",
    "    process_two = Process(target=consmuer, args=(q,))\n",
    "    process_one.start()\n",
    "    process_two.start()\n",
    "    q.close()\n",
    "    q.join_thread()\n",
    "    process_one.join()\n",
    "    process_two.join()"
   ]
  },
  {
   "cell_type": "markdown",
   "id": "d2f78c0d",
   "metadata": {},
   "source": [
    "Здесь мы создаем два процесса и очередь. Один процесс при старте кладет данные в очередь, а другой считывает ее и выводит на экран. \n",
    "\n",
    "Очереди удобны, когда нужно связать между собой несколько процессов, например, одни кладут в очередь, другие обрабатывают.\n",
    "\n",
    "Но в модуле multiprocessing так же есть класс Pipe, который позволяет связать между собой только два процесса."
   ]
  },
  {
   "cell_type": "code",
   "execution_count": null,
   "id": "67aeac82",
   "metadata": {},
   "outputs": [],
   "source": [
    "import multiprocessing  \n",
    "def sender(conn, msgs):\n",
    "    for msg in msgs:\n",
    "        conn.send(msg)\n",
    "        print(\"Sent the message: {}\".format(msg))\n",
    "    conn.close()\n",
    "\n",
    "def receiver(conn):\n",
    "    while 1:\n",
    "        msg = conn.recv()\n",
    "        if msg == \"END\":\n",
    "            break\n",
    "        print(\"Received the message: {}\".format(msg))\n",
    "\n",
    "if __name__ == \"__main__\":\n",
    "    msgs = [\"START\", \"END\"]\n",
    "    parent_conn, child_conn = multiprocessing.Pipe()\n",
    "    p1 = multiprocessing.Process(target=sender, args=(parent_conn,msgs))\n",
    "    p2 = multiprocessing.Process(target=receiver, args=(child_conn,))  \n",
    "    p1.start()\n",
    "    p2.start() \n",
    "    p1.join()\n",
    "    p2.join()"
   ]
  },
  {
   "cell_type": "markdown",
   "id": "5282fe70",
   "metadata": {},
   "source": [
    "В этом примере мы создаем два процесса, связываем их с помощью Pipe и организуем простую передачу текстовых сообщений от одного к другому.\n",
    "\n",
    "Pipe возвращает два объекта — parent_conn и child_conn.\n",
    "\n",
    "parent_conn — объект, который отправляет данные через Pipe.\n",
    "\n",
    "child_conn — объект, которые принимает данные из Pipe.\n",
    "\n",
    "Pipe полезно использовать, когда один процесс работает в фоне, например, мониторит доступность сети, а другой процесс хочет сходить по какому-нибудь адресу и спрашивает о доступности сети у другого процесса, а потом принимает на основе этого решение."
   ]
  },
  {
   "cell_type": "markdown",
   "id": "8fff8a95",
   "metadata": {},
   "source": [
    "\n",
    "**Задание 1**\n",
    "\n",
    "Для тренировки навыка многопоточного программирования предлагаем решить классическую задачу об обедающих философах.\n",
    "\n",
    "Пять безмолвных философов сидят вокруг круглого стола, перед каждым философом стоит тарелка спагетти. Вилки лежат на столе между каждой парой ближайших философов.\n",
    "\n",
    "Каждый философ может либо есть, либо размышлять. Прием пищи не ограничен количеством оставшихся спагетти — подразумевается бесконечный запас. Тем не менее, философ может есть только тогда, когда держит две вилки — взятую справа и слева (альтернативная формулировка проблемы подразумевает миски с рисом и палочки для еды вместо тарелок со спагетти и вилок).\n",
    "\n",
    "Каждый философ может взять ближайшую вилку (если она доступна) или положить — если он уже держит её. Взятие каждой вилки и возвращение ее на стол являются раздельными действиями, которые должны выполняться одно за другим.\n",
    "\n",
    "Вопрос задачи заключается в том, чтобы разработать модель поведения (параллельный алгоритм), при котором ни один из философов не будет голодать, то есть будет вечно чередовать приём пищи и размышления."
   ]
  },
  {
   "cell_type": "code",
   "execution_count": null,
   "id": "c5787c08",
   "metadata": {},
   "outputs": [],
   "source": []
  },
  {
   "cell_type": "code",
   "execution_count": null,
   "id": "ee592554",
   "metadata": {},
   "outputs": [],
   "source": []
  },
  {
   "cell_type": "code",
   "execution_count": null,
   "id": "08e4354e",
   "metadata": {},
   "outputs": [],
   "source": []
  },
  {
   "cell_type": "code",
   "execution_count": null,
   "id": "7840b173",
   "metadata": {},
   "outputs": [],
   "source": []
  },
  {
   "cell_type": "code",
   "execution_count": null,
   "id": "e6e9604d",
   "metadata": {},
   "outputs": [],
   "source": []
  },
  {
   "cell_type": "code",
   "execution_count": null,
   "id": "18d15524",
   "metadata": {},
   "outputs": [],
   "source": []
  },
  {
   "cell_type": "code",
   "execution_count": null,
   "id": "16d6a670",
   "metadata": {},
   "outputs": [],
   "source": []
  },
  {
   "cell_type": "code",
   "execution_count": null,
   "id": "7a111e00",
   "metadata": {},
   "outputs": [],
   "source": []
  },
  {
   "cell_type": "code",
   "execution_count": null,
   "id": "c6fe941d",
   "metadata": {},
   "outputs": [],
   "source": []
  },
  {
   "cell_type": "code",
   "execution_count": 4,
   "id": "71f71c80",
   "metadata": {},
   "outputs": [
    {
     "name": "stdout",
     "output_type": "stream",
     "text": [
      "Mark is hungry\n",
      "Mark start eating\n",
      "Niche is hungry\n",
      "Niche start eating\n",
      "Kant is hungry\n",
      "Sokrat is hungryAristotel is hungry\n",
      "\n",
      "Mark stop eating, start thinkingKant start eating\n",
      "\n",
      "Niche stop eating, start thinking\n",
      "Mark is hungry\n",
      "Niche is hungry\n",
      "Kant stop eating, start thinking\n",
      "Kant is hungry\n",
      "finish\n"
     ]
    }
   ],
   "source": [
    "import threading\n",
    "import time\n",
    "import random\n",
    "\n",
    "class Philosopher(threading.Thread):\n",
    "    running = True\n",
    "    def __init__(self, name, left_fork, right_fork):\n",
    "        threading.Thread.__init__(self)\n",
    "        self.name = name\n",
    "        self.left_fork = left_fork\n",
    "        self.right_fork = right_fork\n",
    "    def run(self):\n",
    "        while self.running ==True:\n",
    "            time.sleep(random.uniform(5,10))\n",
    "            print(f\"{self.name} is hungry\")\n",
    "            self.dine()\n",
    "    def dine(self):\n",
    "        while self.running:\n",
    "            self.left_fork.acquire()\n",
    "            if not self.right_fork.locked():\n",
    "                self.right_fork.acquire()\n",
    "                break\n",
    "            else:\n",
    "                self.left_fork.release()\n",
    "        else:\n",
    "            return\n",
    "        self.start_dining()\n",
    "        self.left_fork.release()\n",
    "        print(f'{self.name} stop eating, start thinking')\n",
    "\n",
    "        \n",
    "    def start_dining(self):\n",
    "        print(f'{self.name} start eating')\n",
    "        time.sleep(random.uniform(10,20))\n",
    "\n",
    "def start():\n",
    "    forks = [threading.Lock() for n in range(5)] \n",
    "    philosoohes_name = ['Sokrat','Niche', 'Aristotel','Kant','Mark']\n",
    "\n",
    "    philosophers = [Philosopher(philosoohes_name[i], forks[i%5], forks[(i+1)%5]) for i in  range(5)]\n",
    "    Philosopher.running = True\n",
    "    \n",
    "    for p in philosophers:\n",
    "        p.start()\n",
    "    time.sleep(50)\n",
    "    Philosopher.running = False\n",
    "    print('finish')\n",
    "    \n",
    "start()"
   ]
  },
  {
   "cell_type": "code",
   "execution_count": null,
   "id": "b2084e94",
   "metadata": {},
   "outputs": [],
   "source": []
  }
 ],
 "metadata": {
  "kernelspec": {
   "display_name": "Python 3 (ipykernel)",
   "language": "python",
   "name": "python3"
  },
  "language_info": {
   "codemirror_mode": {
    "name": "ipython",
    "version": 3
   },
   "file_extension": ".py",
   "mimetype": "text/x-python",
   "name": "python",
   "nbconvert_exporter": "python",
   "pygments_lexer": "ipython3",
   "version": "3.9.7"
  }
 },
 "nbformat": 4,
 "nbformat_minor": 5
}
