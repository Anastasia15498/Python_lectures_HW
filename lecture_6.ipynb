{
 "cells": [
  {
   "cell_type": "markdown",
   "metadata": {},
   "source": [
    "[![Open In Colab](https://colab.research.google.com/assets/colab-badge.svg)](https://colab.research.google.com/github/lectures-python/Python_lectures_HW/blob/main/lecture_6.ipynb)"
   ]
  },
  {
   "cell_type": "markdown",
   "metadata": {},
   "source": [
    "# Модули"
   ]
  },
  {
   "cell_type": "markdown",
   "metadata": {},
   "source": [
    "Для создания самого простого модуля на Python достаточно:\n",
    "- создать файл с расширением.py\n",
    "- написать синтаксически правильный код "
   ]
  },
  {
   "cell_type": "raw",
   "metadata": {},
   "source": [
    "my_module.py\n",
    "\n",
    "s = 'this is Python'\n",
    "a = [100,200,300]\n",
    "def foo(arg):\n",
    "    print(arg)\n",
    "class Foo:\n",
    "    pass"
   ]
  },
  {
   "cell_type": "code",
   "execution_count": 48,
   "metadata": {
    "collapsed": true
   },
   "outputs": [],
   "source": [
    "file = open('my_module.py', 'w')\n",
    "file.write(\n",
    "    \"\"\"s = 'this is Python'\n",
    "a = [100,200,300]\n",
    "def foo(arg):\n",
    "    print(arg)\n",
    "class Foo:\n",
    "    pass    \n",
    "\"\"\")\n",
    "file.close()"
   ]
  },
  {
   "cell_type": "code",
   "execution_count": 6,
   "metadata": {
    "collapsed": true
   },
   "outputs": [],
   "source": [
    "import my_module as m"
   ]
  },
  {
   "cell_type": "code",
   "execution_count": 7,
   "metadata": {},
   "outputs": [
    {
     "name": "stdout",
     "output_type": "stream",
     "text": [
      "this is Python\n"
     ]
    }
   ],
   "source": [
    "print(m.s)"
   ]
  },
  {
   "cell_type": "code",
   "execution_count": 8,
   "metadata": {},
   "outputs": [
    {
     "name": "stdout",
     "output_type": "stream",
     "text": [
      "[100, 200, 300]\n"
     ]
    }
   ],
   "source": [
    "print(m.a)"
   ]
  },
  {
   "cell_type": "code",
   "execution_count": 11,
   "metadata": {},
   "outputs": [
    {
     "name": "stdout",
     "output_type": "stream",
     "text": [
      "[0, 1, 2, 3, 4]\n"
     ]
    }
   ],
   "source": [
    "m.foo(list(range(5)))"
   ]
  },
  {
   "cell_type": "code",
   "execution_count": 13,
   "metadata": {
    "collapsed": true
   },
   "outputs": [],
   "source": [
    "x = my_module.Foo()"
   ]
  },
  {
   "cell_type": "code",
   "execution_count": 14,
   "metadata": {},
   "outputs": [
    {
     "data": {
      "text/plain": [
       "my_module.Foo"
      ]
     },
     "execution_count": 14,
     "metadata": {},
     "output_type": "execute_result"
    }
   ],
   "source": [
    "type(x)"
   ]
  },
  {
   "cell_type": "markdown",
   "metadata": {},
   "source": [
    "# Пути поиска модулей\n",
    "\n",
    "В любой момент времени когда подключается модуль с помощью **import**, Python ищет модуль с этим именем в списках своих путей, собранных из следующих источников:\n",
    "- Папка из которой был запущен интерпретатор Python \n",
    "- список каталогов внеутри **PYTHONPATH**, который нужно указать заранее\n",
    "- Стандартные модуди, установленные с помощью **pip**\n",
    "- модули, содержащиеся по путям **sys.path**\n",
    "\n",
    "(В случае, если модуль не был найден по данным путям, python выбросит ошибку *ModuleNotFoundError*)"
   ]
  },
  {
   "cell_type": "code",
   "execution_count": 15,
   "metadata": {},
   "outputs": [
    {
     "data": {
      "text/plain": [
       "['',\n",
       " 'C:\\\\Anaconda3\\\\python36.zip',\n",
       " 'C:\\\\Anaconda3\\\\DLLs',\n",
       " 'C:\\\\Anaconda3\\\\lib',\n",
       " 'C:\\\\Anaconda3',\n",
       " 'C:\\\\Users\\\\Lubnina-AN\\\\AppData\\\\Roaming\\\\Python\\\\Python36\\\\site-packages',\n",
       " 'C:\\\\Anaconda3\\\\lib\\\\site-packages',\n",
       " 'C:\\\\Anaconda3\\\\lib\\\\site-packages\\\\Sphinx-1.5.6-py3.6.egg',\n",
       " 'C:\\\\Anaconda3\\\\lib\\\\site-packages\\\\win32',\n",
       " 'C:\\\\Anaconda3\\\\lib\\\\site-packages\\\\win32\\\\lib',\n",
       " 'C:\\\\Anaconda3\\\\lib\\\\site-packages\\\\Pythonwin',\n",
       " 'C:\\\\Anaconda3\\\\lib\\\\site-packages\\\\setuptools-27.2.0-py3.6.egg',\n",
       " 'C:\\\\Anaconda3\\\\lib\\\\site-packages\\\\IPython\\\\extensions',\n",
       " 'C:\\\\Users\\\\Lubnina-AN\\\\.ipython']"
      ]
     },
     "execution_count": 15,
     "metadata": {},
     "output_type": "execute_result"
    }
   ],
   "source": [
    "import sys\n",
    "\n",
    "sys.path"
   ]
  },
  {
   "cell_type": "markdown",
   "metadata": {},
   "source": [
    "# Модуль importlib\n",
    "\n",
    "Данный модуль стандартной библиотеки Python обеспечивает реализацию опратора import Python, а также функции \\_\\_import\\_\\_().\n",
    "\n",
    "Позволяет динамически импортировать модули и дает возможность создать собственный импортер.\n",
    "\n",
    "## Динамический import\n",
    "\n",
    "**importlib** поддерживает динамическое импортирование модулей и позволяет загрузить модуль, имя которого было передано строкой."
   ]
  },
  {
   "cell_type": "markdown",
   "metadata": {},
   "source": [
    "foo.py\n",
    "\n",
    "def main():\n",
    "    print(__name__)\n",
    "    \n",
    "dymamic_import_module.py\n",
    "\n",
    "import importlib\n",
    "def dynamic_import(module):\n",
    "    return importlib.import_module(module)\n",
    "if __name__ = '__main__':\n",
    "    module = dynamic_import('foo')\n",
    "    moodule.main()"
   ]
  },
  {
   "cell_type": "code",
   "execution_count": 49,
   "metadata": {
    "collapsed": true
   },
   "outputs": [],
   "source": [
    "file = open('foo.py', 'w')\n",
    "file.write(\n",
    "    \"\"\"def main():\n",
    "print(__name__)\n",
    "\"\"\")\n",
    "file.close()\n",
    "\n",
    "file = open('dymamic_import_module.py', 'w')\n",
    "file.write(\n",
    "    \"\"\"import importlib\n",
    "def dynamic_import(module):\n",
    "    return importlib.import_module(module)\n",
    "if __name__ = '__main__':\n",
    "    module = dynamic_import('foo')\n",
    "    moodule.main()\n",
    "\"\"\")\n",
    "file.close()"
   ]
  },
  {
   "cell_type": "code",
   "execution_count": 17,
   "metadata": {},
   "outputs": [
    {
     "name": "stdout",
     "output_type": "stream",
     "text": [
      "Module: collections can be imported!\n",
      "['AsyncGenerator', 'AsyncIterable', 'AsyncIterator', 'Awaitable', 'ByteString', 'Callable', 'ChainMap', 'Collection', 'Container', 'Coroutine', 'Counter', 'Generator', 'Hashable', 'ItemsView', 'Iterable', 'Iterator', 'KeysView', 'Mapping', 'MappingView', 'MutableMapping', 'MutableSequence', 'MutableSet', 'OrderedDict', 'Reversible', 'Sequence', 'Set', 'Sized', 'UserDict', 'UserList', 'UserString', 'ValuesView', '_Link', '_OrderedDictItemsView', '_OrderedDictKeysView', '_OrderedDictValuesView', '__all__', '__builtins__', '__cached__', '__doc__', '__file__', '__loader__', '__name__', '__package__', '__path__', '__spec__', '_chain', '_class_template', '_collections_abc', '_count_elements', '_eq', '_field_template', '_heapq', '_iskeyword', '_itemgetter', '_proxy', '_recursive_repr', '_repeat', '_repr_template', '_starmap', '_sys', 'defaultdict', 'deque', 'namedtuple']\n"
     ]
    }
   ],
   "source": [
    "import importlib.util\n",
    "\n",
    "def check_module(module_name):\n",
    "    module_spec = importlib.util.find_spec(module_name)\n",
    "    if module_name is not None:\n",
    "        print ('Module: {} can be imported!'.format(module_name))\n",
    "        return module_spec\n",
    "\n",
    "def import_module_from_spec(module_spec):\n",
    "    module = importlib.util.module_from_spec(module_spec)\n",
    "    module_spec.loader.exec_module(module)\n",
    "    return module\n",
    "\n",
    "if __name__=='__main__':\n",
    "    module_spec = check_module('collections')\n",
    "    if module_spec:\n",
    "        module = import_module_from_spec(module_spec)\n",
    "        print(dir(module))"
   ]
  },
  {
   "cell_type": "markdown",
   "metadata": {},
   "source": [
    "Если, используя **importlib.import_module**, на вход мы передавали строку, то тут мы сначала, используя **importlib.find_spec**, пробуем найти спецификацию модуля, а затем, если она найдена, используя **importlib.util.module_from_spec**, загружаем модуль и в **module_spec,loader.exec_module** исполняем его.\n",
    "\n",
    "Так же importlib поддерживает загрузку спецификации модуля по пути и имени\n"
   ]
  },
  {
   "cell_type": "raw",
   "metadata": {},
   "source": [
    "module_spec = importlib.util.spec_from_file_location(module_name, module_file_path)"
   ]
  },
  {
   "cell_type": "markdown",
   "metadata": {},
   "source": [
    "Если спецификация найдена, то модуль можно загрузить, используя извесные мехаизмы из примера выше"
   ]
  },
  {
   "cell_type": "markdown",
   "metadata": {},
   "source": [
    "Модуль  **importlib** используется не часто, т.к. он привносит неявные(динамические) возможности подгрузки модулей, от этого он находит свое применение в задачах, когда требуется выполнить какие-либо действия в момент загрузки модкля, хитро создать фабрику классов и т.д. Он может быть полезен при создании систем, которые на вход принимают python-файлы, проверяют их и исполняют, например, системы спортивного программирования - hackerrank.com и похожие."
   ]
  },
  {
   "cell_type": "markdown",
   "metadata": {},
   "source": [
    "# Пакеты\n",
    "\n",
    "Во время разработки ПО, использования одних лишь модулей не достаточно, т.к. проект растет, хочется выделить отдельные модули в логически обособленные единицы - этим в Python являются пакеты\n",
    "\n",
    "Также как модули позволяютизбедать коллизии имен, пакеты позволяют избежать коллизий внутри имен модулей.\n",
    "\n",
    "Иерарзически пакеты строятся вокруг обычных папок операционной системы.\n",
    "\n",
    "Если внутри пакета создать файл \\_\\_init\\_\\_.py то при импорте пакета или модуля из него выполнится и \\_\\_init\\_\\_.py\n",
    "\n",
    "Это может быть полезно для определения глобальных переменных, свойственных для пакета, определения функций и т.д."
   ]
  },
  {
   "cell_type": "raw",
   "metadata": {},
   "source": [
    "pkg # папка в ОС\n",
    "\n",
    "- mod1.py\n",
    "- mod2.py\n",
    "-__init__.py"
   ]
  },
  {
   "cell_type": "code",
   "execution_count": 50,
   "metadata": {
    "collapsed": true
   },
   "outputs": [
    {
     "ename": "FileExistsError",
     "evalue": "[WinError 183] Невозможно создать файл, так как он уже существует: 'pkg'",
     "output_type": "error",
     "traceback": [
      "\u001b[1;31m---------------------------------------------------------------------------\u001b[0m",
      "\u001b[1;31mFileExistsError\u001b[0m                           Traceback (most recent call last)",
      "\u001b[1;32m<ipython-input-50-f7d24cd816fd>\u001b[0m in \u001b[0;36m<module>\u001b[1;34m()\u001b[0m\n\u001b[0;32m      1\u001b[0m \u001b[1;32mimport\u001b[0m \u001b[0mos\u001b[0m\u001b[1;33m\u001b[0m\u001b[0m\n\u001b[1;32m----> 2\u001b[1;33m \u001b[0mos\u001b[0m\u001b[1;33m.\u001b[0m\u001b[0mmakedirs\u001b[0m\u001b[1;33m(\u001b[0m\u001b[1;34m'pkg'\u001b[0m\u001b[1;33m)\u001b[0m\u001b[1;33m\u001b[0m\u001b[0m\n\u001b[0m",
      "\u001b[1;32mC:\\Anaconda3\\lib\\os.py\u001b[0m in \u001b[0;36mmakedirs\u001b[1;34m(name, mode, exist_ok)\u001b[0m\n\u001b[0;32m    218\u001b[0m             \u001b[1;32mreturn\u001b[0m\u001b[1;33m\u001b[0m\u001b[0m\n\u001b[0;32m    219\u001b[0m     \u001b[1;32mtry\u001b[0m\u001b[1;33m:\u001b[0m\u001b[1;33m\u001b[0m\u001b[0m\n\u001b[1;32m--> 220\u001b[1;33m         \u001b[0mmkdir\u001b[0m\u001b[1;33m(\u001b[0m\u001b[0mname\u001b[0m\u001b[1;33m,\u001b[0m \u001b[0mmode\u001b[0m\u001b[1;33m)\u001b[0m\u001b[1;33m\u001b[0m\u001b[0m\n\u001b[0m\u001b[0;32m    221\u001b[0m     \u001b[1;32mexcept\u001b[0m \u001b[0mOSError\u001b[0m\u001b[1;33m:\u001b[0m\u001b[1;33m\u001b[0m\u001b[0m\n\u001b[0;32m    222\u001b[0m         \u001b[1;31m# Cannot rely on checking for EEXIST, since the operating system\u001b[0m\u001b[1;33m\u001b[0m\u001b[1;33m\u001b[0m\u001b[0m\n",
      "\u001b[1;31mFileExistsError\u001b[0m: [WinError 183] Невозможно создать файл, так как он уже существует: 'pkg'"
     ]
    }
   ],
   "source": [
    "import os\n",
    "os.makedirs('pkg')"
   ]
  },
  {
   "cell_type": "markdown",
   "metadata": {},
   "source": [
    "mod1.py\n",
    "\n",
    "def foo():\n",
    "    print('module1 foo()')\n",
    "class Foo:\n",
    "    pass\n",
    "    \n",
    "mod2.py\n",
    "def bar():\n",
    "    print('module2 bar()')\n",
    "class Bar:\n",
    "    pass\n",
    "    \n",
    "__init__.py\n",
    "print('init in __init__.py')\n",
    "A = ['test1', 'test2']"
   ]
  },
  {
   "cell_type": "code",
   "execution_count": 51,
   "metadata": {
    "collapsed": true
   },
   "outputs": [],
   "source": [
    "file = open('pkg\\mod1.py', 'w')\n",
    "file.write(\n",
    "    \"\"\"def foo():\n",
    "print('module1 foo()')\n",
    "class Foo:\n",
    "    pass\n",
    "\"\"\")\n",
    "file.close()\n",
    "\n",
    "file = open('pkg\\mod2.py', 'w')\n",
    "file.write(\n",
    "    \"\"\"def bar():\n",
    "print('module2 bar()')\n",
    "class Bar:\n",
    "    pass\n",
    "\"\"\")\n",
    "file.close()\n",
    "\n",
    "file = open('pkg\\__init__.py', 'w')\n",
    "file.write(\n",
    "    \"\"\"print('init in __init__.py')\n",
    "A = ['test1', 'test2']\n",
    "\"\"\")\n",
    "file.close()"
   ]
  },
  {
   "cell_type": "code",
   "execution_count": 18,
   "metadata": {},
   "outputs": [
    {
     "name": "stdout",
     "output_type": "stream",
     "text": [
      "init in __init__.py\n"
     ]
    }
   ],
   "source": [
    "import pkg"
   ]
  },
  {
   "cell_type": "code",
   "execution_count": 19,
   "metadata": {},
   "outputs": [
    {
     "data": {
      "text/plain": [
       "['test1', 'test2']"
      ]
     },
     "execution_count": 19,
     "metadata": {},
     "output_type": "execute_result"
    }
   ],
   "source": [
    "pkg.A"
   ]
  },
  {
   "cell_type": "markdown",
   "metadata": {},
   "source": [
    "# Создание собственного whl\n",
    "\n",
    "\n",
    "- формат whl, позволяет упаковать проект для дальнейшего распространения"
   ]
  },
  {
   "cell_type": "markdown",
   "metadata": {},
   "source": [
    "создадим иерархию папок \n",
    "\n",
    "- python_course_package\n",
    "    - example_pkg\n",
    "    \n",
    "         \\_\\_init\\_\\_.py\n",
    "         \n",
    "         внутри \\_\\_init\\_\\_.py\n",
    "         print('test pakage')"
   ]
  },
  {
   "cell_type": "code",
   "execution_count": 40,
   "metadata": {
    "collapsed": true
   },
   "outputs": [
    {
     "ename": "FileExistsError",
     "evalue": "[WinError 183] Невозможно создать файл, так как он уже существует: 'python_course_package\\\\example_pkg'",
     "output_type": "error",
     "traceback": [
      "\u001b[1;31m---------------------------------------------------------------------------\u001b[0m",
      "\u001b[1;31mFileExistsError\u001b[0m                           Traceback (most recent call last)",
      "\u001b[1;32m<ipython-input-40-b814e3159d23>\u001b[0m in \u001b[0;36m<module>\u001b[1;34m()\u001b[0m\n\u001b[0;32m      1\u001b[0m \u001b[1;32mimport\u001b[0m \u001b[0mos\u001b[0m\u001b[1;33m\u001b[0m\u001b[0m\n\u001b[1;32m----> 2\u001b[1;33m \u001b[0mos\u001b[0m\u001b[1;33m.\u001b[0m\u001b[0mmakedirs\u001b[0m\u001b[1;33m(\u001b[0m\u001b[1;34m'python_course_package\\example_pkg'\u001b[0m\u001b[1;33m)\u001b[0m\u001b[1;33m\u001b[0m\u001b[0m\n\u001b[0m",
      "\u001b[1;32mC:\\Anaconda3\\lib\\os.py\u001b[0m in \u001b[0;36mmakedirs\u001b[1;34m(name, mode, exist_ok)\u001b[0m\n\u001b[0;32m    218\u001b[0m             \u001b[1;32mreturn\u001b[0m\u001b[1;33m\u001b[0m\u001b[0m\n\u001b[0;32m    219\u001b[0m     \u001b[1;32mtry\u001b[0m\u001b[1;33m:\u001b[0m\u001b[1;33m\u001b[0m\u001b[0m\n\u001b[1;32m--> 220\u001b[1;33m         \u001b[0mmkdir\u001b[0m\u001b[1;33m(\u001b[0m\u001b[0mname\u001b[0m\u001b[1;33m,\u001b[0m \u001b[0mmode\u001b[0m\u001b[1;33m)\u001b[0m\u001b[1;33m\u001b[0m\u001b[0m\n\u001b[0m\u001b[0;32m    221\u001b[0m     \u001b[1;32mexcept\u001b[0m \u001b[0mOSError\u001b[0m\u001b[1;33m:\u001b[0m\u001b[1;33m\u001b[0m\u001b[0m\n\u001b[0;32m    222\u001b[0m         \u001b[1;31m# Cannot rely on checking for EEXIST, since the operating system\u001b[0m\u001b[1;33m\u001b[0m\u001b[1;33m\u001b[0m\u001b[0m\n",
      "\u001b[1;31mFileExistsError\u001b[0m: [WinError 183] Невозможно создать файл, так как он уже существует: 'python_course_package\\\\example_pkg'"
     ]
    }
   ],
   "source": [
    "import os\n",
    "os.makedirs('python_course_package\\example_pkg')"
   ]
  },
  {
   "cell_type": "code",
   "execution_count": 41,
   "metadata": {
    "collapsed": true
   },
   "outputs": [],
   "source": [
    "file = open('python_course_package\\example_pkg\\__init__.py', 'w')"
   ]
  },
  {
   "cell_type": "code",
   "execution_count": 42,
   "metadata": {},
   "outputs": [
    {
     "data": {
      "text/plain": [
       "20"
      ]
     },
     "execution_count": 42,
     "metadata": {},
     "output_type": "execute_result"
    }
   ],
   "source": [
    "file.write(\"print('test pakage')\")"
   ]
  },
  {
   "cell_type": "code",
   "execution_count": 43,
   "metadata": {
    "collapsed": true
   },
   "outputs": [],
   "source": [
    "file.close()"
   ]
  },
  {
   "cell_type": "code",
   "execution_count": 44,
   "metadata": {
    "collapsed": true
   },
   "outputs": [],
   "source": [
    "file = open('python_course_package\\example_pkg\\setup.py', 'w')"
   ]
  },
  {
   "cell_type": "code",
   "execution_count": 45,
   "metadata": {},
   "outputs": [
    {
     "data": {
      "text/plain": [
       "458"
      ]
     },
     "execution_count": 45,
     "metadata": {},
     "output_type": "execute_result"
    }
   ],
   "source": [
    "file.write(\n",
    "    \"\"\"\n",
    "import setuptools\n",
    "setuptools.setup(\n",
    "    name = 'python_course_package',\n",
    "    version = '0.0.1', \n",
    "    author = 'name',\n",
    "    long_description = 'test package', \n",
    "    long_description_content_type = 'text/markdown',\n",
    "    packages = setuptools.find_packages(),\n",
    "    classifiers = [\n",
    "    'Programming Language :: Python :: 3', \n",
    "    'License :: OSI Approved :: MIT License', \n",
    "    'Operating System :: OS Independent', \n",
    "    ],\n",
    "    python_requires = '>=3.6', )\n",
    "    \n",
    "    \n",
    "\"\"\") # скрипт для сборки с помощью библиотеки setuptools "
   ]
  },
  {
   "cell_type": "code",
   "execution_count": 46,
   "metadata": {
    "collapsed": true
   },
   "outputs": [],
   "source": [
    "file.close()"
   ]
  },
  {
   "cell_type": "code",
   "execution_count": 37,
   "metadata": {},
   "outputs": [
    {
     "name": "stdout",
     "output_type": "stream",
     "text": [
      "Looking in indexes: http://mirror.ca.sbrf.ru/pypi/simple\n",
      "Requirement already satisfied: setuptools in c:\\users\\lubnina-an\\appdata\\roaming\\python\\python36\\site-packages (59.6.0)\n",
      "Requirement already satisfied: wheel in c:\\users\\lubnina-an\\appdata\\roaming\\python\\python36\\site-packages (0.37.1)\n"
     ]
    },
    {
     "name": "stderr",
     "output_type": "stream",
     "text": [
      "WARNING: pip is being invoked by an old script wrapper. This will fail in a future version of pip.\n",
      "Please see https://github.com/pypa/pip/issues/5599 for advice on fixing the underlying issue.\n",
      "To avoid this problem you can invoke Python with '-m pip' instead of running pip directly.\n"
     ]
    }
   ],
   "source": [
    "!pip install --user --upgrade setuptools wheel"
   ]
  },
  {
   "cell_type": "markdown",
   "metadata": {},
   "source": [
    "создадим новую библиотеку для Python из папки где находится setup.py"
   ]
  },
  {
   "cell_type": "code",
   "execution_count": 38,
   "metadata": {},
   "outputs": [
    {
     "name": "stderr",
     "output_type": "stream",
     "text": [
      "Python was not found but can be installed from the Microsoft Store: ms-windows-store://pdp/?productid=9NJ46SX7X90P\n"
     ]
    }
   ],
   "source": [
    "!python3 setup.py sdist bdist_wheel"
   ]
  },
  {
   "cell_type": "markdown",
   "metadata": {},
   "source": [
    "аргумент sdist создаст архив с библиотекой с дефолтным форматом для операционной системы - tar.gz для Unix подобных систем и zip для winows\n",
    "\n",
    "аргумент bdist_wheel создает дистрибъютив библиотеки с расширением whl \n",
    "\n",
    "после обраобтки получим, получим следующие папки"
   ]
  },
  {
   "cell_type": "raw",
   "metadata": {},
   "source": [
    "build example_pkg setup.py\n",
    "dist python_course_package.egg-info"
   ]
  },
  {
   "cell_type": "markdown",
   "metadata": {},
   "source": [
    "Упакованная библиотек находится в папке dist"
   ]
  },
  {
   "cell_type": "markdown",
   "metadata": {},
   "source": [
    "с помощью pip установим себе библиотеку python_course_package-0.0.1-py3-none-any.whl\n",
    "\n",
    "теперь можно ее импортировать "
   ]
  },
  {
   "cell_type": "markdown",
   "metadata": {},
   "source": [
    "# контекстные менеджеры"
   ]
  },
  {
   "cell_type": "code",
   "execution_count": null,
   "metadata": {
    "collapsed": true
   },
   "outputs": [],
   "source": [
    "f = open(\"file.txt\", \"r\")\n",
    "data = f.read()\n",
    "f.close()"
   ]
  },
  {
   "cell_type": "markdown",
   "metadata": {},
   "source": [
    "Для упрощения кода, когда нужно что-то «открыть», произвести логику, «закрыть», в Python реализовали синтаксический сахар — контекстные менеджеры.\n",
    "\n",
    "Менеджер контекста в Python — это объект класса, который реализует внутри себя магические методы __enter__() и __exit__(), благодаря которым объект можно использовать с оператором with.\n",
    "\n",
    "Когда выполнение программы доходит до места с оператором with, вызывается метод __enter__() объекта, обычно в нем реализуют логику подключения к БД, открытие соединения и т.д., после выполняется код внутри блока with, а в конце блок __exit__().\n",
    "\n",
    "Так выглядит открытие файла с помощью контекстного менеджера и оператора with:"
   ]
  },
  {
   "cell_type": "code",
   "execution_count": null,
   "metadata": {
    "collapsed": true
   },
   "outputs": [],
   "source": [
    "with open(path, 'w') as f_obj:\n",
    "    f_obj.write(some_data)"
   ]
  },
  {
   "cell_type": "markdown",
   "metadata": {},
   "source": [
    "Добавить к классу поведение контекстного менеджера можно, реализовав методы **\\_\\_enter\\_\\_()** и **\\_\\_exit\\_\\_()**. Рассмотрим класс для подключения к базе данных:"
   ]
  },
  {
   "cell_type": "code",
   "execution_count": null,
   "metadata": {
    "collapsed": true
   },
   "outputs": [],
   "source": [
    "import sqlite3\n",
    "    class DataConn:\n",
    "        def __init__(self, db_name):\n",
    "            \"\"\"Конструктор\"\"\"\n",
    "            self.db_name = db_name\n",
    "        def __enter__(self):\n",
    "            \"\"\"\n",
    "            Открываем подключение с базой данных.\n",
    "            \"\"\"\n",
    "            self.conn = sqlite3.connect(self.db_name)\n",
    "            return self.conn   \n",
    "        def __exit__(self, exc_type, exc_val, exc_tb):\n",
    "            \"\"\"\n",
    "            Закрываем подключение.\n",
    "            \"\"\"\n",
    "            self.conn.close()\n",
    "            if exc_val:\n",
    "                raise"
   ]
  },
  {
   "cell_type": "markdown",
   "metadata": {},
   "source": [
    "Метод **\\_\\_exit\\_\\_()** в отличие от **\\_\\_enter\\_\\_()** принимает три аргумента — тип класса ошибки, значение ошибки и трассировка ошибки. Эти аргументы будут равны None, если внутри блока with не будет ошибок. \n",
    "\n",
    "Если **\\_\\_exit\\_\\_()** вернет True, то в случае ошибки внутри блока with она не распространится дальше. Если вернет False, то ошибка распространится дальше, это свойство можно гибко использовать для случаев, когда произошедшая ошибка критична для данной системы."
   ]
  },
  {
   "cell_type": "markdown",
   "metadata": {},
   "source": [
    "В Python можно создавать контекстные менеджеры не только используя магические методы **\\_\\_enter\\_\\_()** и **\\_\\_exit\\_\\_()**, но и используя модуль contextlib.\n",
    "\n",
    "Данный модуль несет в себе декоратор contextmanager, который привносит в функцию поведение контекстного менеджера."
   ]
  },
  {
   "cell_type": "code",
   "execution_count": 1,
   "metadata": {
    "collapsed": true
   },
   "outputs": [],
   "source": [
    "from contextlib import contextmanager\n",
    "\n",
    "@contextmanager\n",
    "def file_open(path):\n",
    "    try:\n",
    "        file = open(path, 'w')\n",
    "        yield file\n",
    "    except Exception:\n",
    "        print(\"Error!\")\n",
    "    finally:\n",
    "        print('Closing file')\n",
    "        file.close()"
   ]
  },
  {
   "cell_type": "markdown",
   "metadata": {},
   "source": [
    "Тут ключевой особенностью является логическое разделение пользовательской функции на этапы.\n",
    "\n",
    "Первый этап: до оператора yield идет логика, схожая логикой внутри метода \\_\\_enter\\_\\_(), который нужно было бы реализовать внутри класса. \n",
    "\n",
    "Второй этап: оператор yield возвращает нужный объект, который используется внутри блока with.\n",
    "\n",
    "Третий этап: после выполнения блока with следует этап очистки ресурсов и обработки ошибок."
   ]
  },
  {
   "cell_type": "markdown",
   "metadata": {},
   "source": [
    "## Оператор yield\n",
    "\n",
    "Любая функция в Python, в теле которой встречается ключевое слово yield, называется генераторной функцией — при вызове она возвращает объект-генератор.\n",
    "\n",
    "Объект-генератор реализует интерфейс итератора, соответственно, с этим объектом можно работать, как с любым другим итерируемым объектом.\n",
    "\n",
    "В следующим примере используется yield для создания объекта-генератора:"
   ]
  },
  {
   "cell_type": "code",
   "execution_count": null,
   "metadata": {
    "collapsed": true
   },
   "outputs": [],
   "source": [
    "def gen_fun():\n",
    "    print('block 1')\n",
    "    yield 1\n",
    "    print('block 2')\n",
    "    yield 2\n",
    "    print('end')\n",
    "for i in gen_fun():\n",
    "    print(i)"
   ]
  },
  {
   "cell_type": "markdown",
   "metadata": {},
   "source": [
    "Сначала создается объект-генератор, затем for получает итератор посредством iter, после в цикле неявно вызывается next(), при каждом вызове которого работа функции возвращается на то место, где был вызван последний yield."
   ]
  },
  {
   "cell_type": "markdown",
   "metadata": {},
   "source": [
    "При разработке пользовательских классов, поведение итераторов позволяет реализовать магические методы \\_\\_iter\\_\\_() и \\_\\_next\\_\\_().\n",
    "\n",
    "Метод \\_\\_iter\\_\\/_() нужен, чтобы с объектом класса мог работать цикл for.\n",
    "\n",
    "Метод \\_\\_next\\_\\_() возвращает новый элемент последовательности и генерирует StopIteration, если последовательность закончилась.\n",
    "\n",
    "Пример:"
   ]
  },
  {
   "cell_type": "code",
   "execution_count": null,
   "metadata": {
    "collapsed": true
   },
   "outputs": [],
   "source": [
    "class SimpleIterator:\n",
    "    def __iter__(self):\n",
    "        return self\n",
    "\n",
    "    def __init__(self, limit):\n",
    "        self.limit = limit\n",
    "        self.counter = 0\n",
    "\n",
    "    def __next__(self):\n",
    "        if self.counter < self.limit:\n",
    "            self.counter += 1\n",
    "            return 1\n",
    "        else:\n",
    "            raise StopIteration"
   ]
  },
  {
   "cell_type": "markdown",
   "metadata": {},
   "source": [
    "# Обработка ошибок "
   ]
  },
  {
   "cell_type": "markdown",
   "metadata": {
    "collapsed": true
   },
   "source": [
    "## Синтаксические ошибки\n",
    "\n",
    "В Python можно выделить два типа ошибок:\n",
    "\n",
    "* Синтаксические ошибки, которые происходят из-за ошибок в синтаксисе Python.\n",
    "* Ошибки во время исполнения программы — они же исключения."
   ]
  },
  {
   "cell_type": "raw",
   "metadata": {},
   "source": [
    "SyntaxError: invalid syntax"
   ]
  },
  {
   "cell_type": "markdown",
   "metadata": {},
   "source": [
    "Такие ошибки быстро исправляются, а PyCharm имеет встроенную аналитику синтаксиса, что позволяет до запуска программы исправить допущенные неточности."
   ]
  },
  {
   "cell_type": "markdown",
   "metadata": {},
   "source": [
    "## Класс Exception, основные виды ошибок"
   ]
  },
  {
   "cell_type": "markdown",
   "metadata": {},
   "source": [
    "Exception\n",
    "Ошибки во время исполнения программы в Python принято называть exception или исключением.\n",
    "\n",
    "Такие ситуации характеризуются неверной логикой работы программы и говорят о том, что не все возможные ситуации обработаны корректно."
   ]
  },
  {
   "cell_type": "code",
   "execution_count": 2,
   "metadata": {},
   "outputs": [
    {
     "ename": "ZeroDivisionError",
     "evalue": "division by zero",
     "output_type": "error",
     "traceback": [
      "\u001b[1;31m---------------------------------------------------------------------------\u001b[0m",
      "\u001b[1;31mZeroDivisionError\u001b[0m                         Traceback (most recent call last)",
      "\u001b[1;32m<ipython-input-2-a91c1de96450>\u001b[0m in \u001b[0;36m<module>\u001b[1;34m()\u001b[0m\n\u001b[1;32m----> 1\u001b[1;33m \u001b[0mprint\u001b[0m\u001b[1;33m(\u001b[0m\u001b[1;36m0\u001b[0m \u001b[1;33m/\u001b[0m \u001b[1;36m0\u001b[0m\u001b[1;33m)\u001b[0m\u001b[1;33m\u001b[0m\u001b[0m\n\u001b[0m",
      "\u001b[1;31mZeroDivisionError\u001b[0m: division by zero"
     ]
    }
   ],
   "source": [
    "print(0 / 0)"
   ]
  },
  {
   "cell_type": "markdown",
   "metadata": {},
   "source": [
    "Но не только Python может порождать исключения во время работы программы, разработчик, используя ключевое слово raise может побудить собственное исключение:"
   ]
  },
  {
   "cell_type": "code",
   "execution_count": 3,
   "metadata": {},
   "outputs": [
    {
     "ename": "Exception",
     "evalue": "x should not exceed 5. The value of x was: 10",
     "output_type": "error",
     "traceback": [
      "\u001b[1;31m---------------------------------------------------------------------------\u001b[0m",
      "\u001b[1;31mException\u001b[0m                                 Traceback (most recent call last)",
      "\u001b[1;32m<ipython-input-3-2cf78294dd7b>\u001b[0m in \u001b[0;36m<module>\u001b[1;34m()\u001b[0m\n\u001b[0;32m      1\u001b[0m \u001b[0mx\u001b[0m \u001b[1;33m=\u001b[0m \u001b[1;36m10\u001b[0m\u001b[1;33m\u001b[0m\u001b[0m\n\u001b[0;32m      2\u001b[0m \u001b[1;32mif\u001b[0m \u001b[0mx\u001b[0m \u001b[1;33m>\u001b[0m \u001b[1;36m5\u001b[0m\u001b[1;33m:\u001b[0m\u001b[1;33m\u001b[0m\u001b[0m\n\u001b[1;32m----> 3\u001b[1;33m     \u001b[1;32mraise\u001b[0m \u001b[0mException\u001b[0m\u001b[1;33m(\u001b[0m\u001b[1;34m'x should not exceed 5. The value of x was: {}'\u001b[0m\u001b[1;33m.\u001b[0m\u001b[0mformat\u001b[0m\u001b[1;33m(\u001b[0m\u001b[0mx\u001b[0m\u001b[1;33m)\u001b[0m\u001b[1;33m)\u001b[0m\u001b[1;33m\u001b[0m\u001b[0m\n\u001b[0m",
      "\u001b[1;31mException\u001b[0m: x should not exceed 5. The value of x was: 10"
     ]
    }
   ],
   "source": [
    "x = 10\n",
    "if x > 5:\n",
    "    raise Exception('x should not exceed 5. The value of x was: {}'.format(x))"
   ]
  },
  {
   "cell_type": "markdown",
   "metadata": {},
   "source": [
    "После raise не обязательно должен идти класс исключения, но это является распространенной практикой, т.к. позволяет более точно описать исключительную ситуацию в системе.\n",
    "\n",
    "В Python базовым классом для исключений является класс **BaseException**."
   ]
  },
  {
   "cell_type": "markdown",
   "metadata": {},
   "source": [
    "SystemExit — исключение, порождаемое функцией sys.exit() при выходе из программы.\n",
    "\n",
    "KeyboardInterrupt — прерывание программы пользователем (обычно с помощью Ctrl+C).\n",
    "\n",
    "GeneratorExit порождается при вызове метода close() объекта generator.\n",
    "\n",
    "Exception является базовым классом для исключений, отличных от системных (SystemExit, KeyboardInterrupt, GeneratorExit).\n",
    "\n",
    "Также от этого класса должны быть унаследован пользовательский класс при создании собственного класса исключения.\n",
    "\n",
    "[Более подробно об иерархии исключений можно почитать тут][1]\n",
    "\n",
    "[1]:https://airbrake.io/blog/python-exception-handling/class-hierarchy"
   ]
  },
  {
   "cell_type": "markdown",
   "metadata": {},
   "source": [
    "## Ключевые слова try, except"
   ]
  },
  {
   "cell_type": "markdown",
   "metadata": {},
   "source": [
    "**Данные ключевые слова образуют блоки, внутри которых перехватываются исключения определенных типов.**"
   ]
  },
  {
   "cell_type": "markdown",
   "metadata": {},
   "source": [
    "Внутри try располагается «обычная» логика программы, внутри except — то, что нужно выполнить, если произошло исключение, например: логирование, запись в БД, прекращение работы и т.д."
   ]
  },
  {
   "cell_type": "code",
   "execution_count": 5,
   "metadata": {
    "collapsed": true
   },
   "outputs": [
    {
     "ename": "NameError",
     "evalue": "name 'y' is not defined",
     "output_type": "error",
     "traceback": [
      "\u001b[1;31m---------------------------------------------------------------------------\u001b[0m",
      "\u001b[1;31mNameError\u001b[0m                                 Traceback (most recent call last)",
      "\u001b[1;32m<ipython-input-5-55dfebb09e26>\u001b[0m in \u001b[0;36m<module>\u001b[1;34m()\u001b[0m\n\u001b[0;32m      1\u001b[0m \u001b[1;32mtry\u001b[0m\u001b[1;33m:\u001b[0m\u001b[1;33m\u001b[0m\u001b[0m\n\u001b[1;32m----> 2\u001b[1;33m     \u001b[0mprint\u001b[0m\u001b[1;33m(\u001b[0m \u001b[0mx\u001b[0m \u001b[1;33m/\u001b[0m \u001b[0my\u001b[0m\u001b[1;33m)\u001b[0m\u001b[1;33m\u001b[0m\u001b[0m\n\u001b[0m\u001b[0;32m      3\u001b[0m \u001b[1;32mexcept\u001b[0m \u001b[0mZeroDivisionError\u001b[0m\u001b[1;33m:\u001b[0m\u001b[1;33m\u001b[0m\u001b[0m\n\u001b[0;32m      4\u001b[0m     \u001b[0mprint\u001b[0m\u001b[1;33m(\u001b[0m\u001b[1;34m\"Ooops y is zero\"\u001b[0m\u001b[1;33m)\u001b[0m\u001b[1;33m\u001b[0m\u001b[0m\n",
      "\u001b[1;31mNameError\u001b[0m: name 'y' is not defined"
     ]
    }
   ],
   "source": [
    "try: \n",
    "    print( x / y)\n",
    "except ZeroDivisionError:\n",
    "    print(\"Ooops y is zero\")"
   ]
  },
  {
   "cell_type": "markdown",
   "metadata": {},
   "source": [
    "Хорошей практикой является явное использование классов исключений, в нашем случае **ZeroDivisionError**.\n",
    "\n",
    "Но параметр с классом исключения не является необязательным. Если он пропущен, то блок try-except будет перехватывать все исключения, порожденные в коде, то есть по умолчанию возьмет класс Exception."
   ]
  },
  {
   "cell_type": "code",
   "execution_count": null,
   "metadata": {
    "collapsed": true
   },
   "outputs": [],
   "source": [
    "try: \n",
    "    print( x / y)\n",
    "except:\n",
    "    print(\"I catch all\")"
   ]
  },
  {
   "cell_type": "markdown",
   "metadata": {},
   "source": [
    "Также можно использовать несколько классов исключений:"
   ]
  },
  {
   "cell_type": "code",
   "execution_count": null,
   "metadata": {
    "collapsed": true
   },
   "outputs": [],
   "source": [
    "try: \n",
    "    print( x / y)\n",
    "except ZeroDivisionError, ValueError, NumberError:\n",
    "    print(\"Ooops y is zero\")"
   ]
  },
  {
   "cell_type": "markdown",
   "metadata": {},
   "source": [
    "Эти классы можно перечислить через запятую, но обычно используют конструкцию из нескольких блоков except, чтобы на каждый класс исключения реагировать уникально."
   ]
  },
  {
   "cell_type": "code",
   "execution_count": null,
   "metadata": {
    "collapsed": true
   },
   "outputs": [],
   "source": [
    "try: \n",
    "    print( x / y)\n",
    "except ZeroDivisionError:\n",
    "    print(\"Ooops y is ZeroDivisionError\")\n",
    "except ValueError:\n",
    "    print(\"Ooops y is ValueError\")\n",
    "except NumberError:\n",
    "    print(\"Ooops y is NumberError\")"
   ]
  },
  {
   "cell_type": "markdown",
   "metadata": {},
   "source": [
    "При возникновении исключения идет проверка блоков except сверху вниз.\n",
    "\n",
    "Особенностью работы блока try является то, что исполнение кода идет только до первого исключения."
   ]
  },
  {
   "cell_type": "code",
   "execution_count": null,
   "metadata": {
    "collapsed": true
   },
   "outputs": [],
   "source": [
    "try: \n",
    "    print( x / y)\n",
    "    raise ValueError\n",
    "except ZeroDivisionError:\n",
    "    print(\"Ooops y is ZeroDivisionError\")\n",
    "except ValueError:\n",
    "    print(\"Ooops y is ValueError\")\n",
    "except NumberError:\n",
    "    print(\"Ooops y is NumberError\")"
   ]
  },
  {
   "cell_type": "markdown",
   "metadata": {},
   "source": [
    "Это означает, что конструкцией try-except лучше оборачивать только тот код, в котором может произойти исключение, в идеале — одну строчку.\n",
    "\n",
    "Также плохой практикой является использование внутри блока except ключевого слова pass, т.к. по сути — это подавление ошибки, что приводит к неуправляемому поведению в программе."
   ]
  },
  {
   "cell_type": "markdown",
   "metadata": {},
   "source": [
    "## Ключевое слово else в блоке try-except\n",
    "\n",
    "Если вам необходимо выполнить какую-то дополнительную логику в случае, если исключение не произошло, то для этого в конструкции try-except можно использовать ключевое слово else."
   ]
  },
  {
   "cell_type": "code",
   "execution_count": null,
   "metadata": {
    "collapsed": true
   },
   "outputs": [],
   "source": [
    "try: \n",
    "    print( x / y)\n",
    "except ZeroDivisionError:\n",
    "    print(\"Ooops y is ZeroDivisionError\")\n",
    "else:\n",
    "    print(\"No error\")"
   ]
  },
  {
   "cell_type": "markdown",
   "metadata": {},
   "source": [
    "## Ключевое слово finally в блоке try-except\n",
    "\n",
    "Часто необходимо выполнить код в любом случае, когда произошло исключение или нет, например — закрыть соединение с БД, закрыть файл, если во время его обработки произошло исключение. Для таких случаев предусмотрено ключевое слово finally.\n"
   ]
  },
  {
   "cell_type": "code",
   "execution_count": null,
   "metadata": {
    "collapsed": true
   },
   "outputs": [],
   "source": [
    "try: \n",
    "    print( x / y)\n",
    "except ZeroDivisionError:\n",
    "    print(\"Ooops y is ZeroDivisionError\")\n",
    "else:\n",
    "    print(\"No error\")\n",
    "finally:\n",
    "    print(\"its code always run\")"
   ]
  },
  {
   "cell_type": "markdown",
   "metadata": {},
   "source": [
    "Слова else и finally, в отличие от try-except, не являются обязательными и их использование ложится на усмотрение разработчика."
   ]
  },
  {
   "cell_type": "markdown",
   "metadata": {},
   "source": [
    "## Пользовательские классы ошибок\n",
    "В Python существует большое количество встроенных классов исключений которых обычно достаточно для разработки. Но во время работы часто возникает необходимо отловить исключительную ситуацию, которая специфичная для конкретного проекта. Для этого можно создать собственный класс исключений:"
   ]
  },
  {
   "cell_type": "code",
   "execution_count": 6,
   "metadata": {
    "collapsed": true
   },
   "outputs": [],
   "source": [
    "class MyExceptionClass(Exception):\n",
    "    def __init__(self, text):\n",
    "        self.txt = text"
   ]
  },
  {
   "cell_type": "markdown",
   "metadata": {},
   "source": [
    "Для определения собственных исключений, необходимо, чтобы они напрямую или опосредованно были наследниками класса Exception.\n"
   ]
  },
  {
   "cell_type": "code",
   "execution_count": 8,
   "metadata": {},
   "outputs": [
    {
     "name": "stdout",
     "output_type": "stream",
     "text": [
      "this is custom Exception\n"
     ]
    }
   ],
   "source": [
    "class MyExceptionClass(Exception):\n",
    "    def __init__(self, text):\n",
    "        self.txt = text\n",
    "x = 10\n",
    "try:\n",
    "    if x == 10:\n",
    "        raise MyExceptionClass(\"this is custom Exception\")\n",
    "except MyExceptionClass as mec:\n",
    "    print(mec)"
   ]
  },
  {
   "cell_type": "markdown",
   "metadata": {},
   "source": [
    "В этом примере мы вызываем собственно исключение с помощью raise и перехватываем с помощью try-except. Так как внутри класса Exception переопределен метод \\_\\_str\\_\\_(), поэтому в блоке try-except мы можем распечатать объект класса через print(), а не обращаться к переменной txt."
   ]
  },
  {
   "cell_type": "markdown",
   "metadata": {},
   "source": [
    "# Задания\n",
    "Задание 1\n",
    "\n",
    "Самостоятельно изучить [стандартные классы исключений в Python][1], чтобы приобрести кругозор по основным исключениям, которые могут встретиться в Python.\n",
    "\n",
    "Задание 2\n",
    "\n",
    "Написать класс для подключения к одной базе данных на выбор: sqlite, postgresql, mysql. Предусмотреть возможность выполнять SQL-запросы с помощью этого класса. Создать собственный класс исключений, который можно было бы применить в случае передачи некорректных параметров для выполнения SQL-запроса.\n",
    "\n",
    "[1]:https://docs.python.org/3/library/exceptions.html"
   ]
  },
  {
   "cell_type": "markdown",
   "metadata": {},
   "source": [
    "[Описание модуля sqlite][1]\n",
    "\n",
    "[1]:https://docs.python.org/2/library/sqlite3.html"
   ]
  }
 ],
 "metadata": {
  "kernelspec": {
   "display_name": "Python 3 (ipykernel)",
   "language": "python",
   "name": "python3"
  },
  "language_info": {
   "codemirror_mode": {
    "name": "ipython",
    "version": 3
   },
   "file_extension": ".py",
   "mimetype": "text/x-python",
   "name": "python",
   "nbconvert_exporter": "python",
   "pygments_lexer": "ipython3",
   "version": "3.9.7"
  }
 },
 "nbformat": 4,
 "nbformat_minor": 2
}
