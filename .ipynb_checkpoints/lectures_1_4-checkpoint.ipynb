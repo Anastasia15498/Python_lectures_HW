{
 "cells": [
  {
   "cell_type": "markdown",
   "metadata": {},
   "source": [
    "[![Open In Colab](https://colab.research.google.com/assets/colab-badge.svg)](https://colab.research.google.com/github/lectures-python/Python_lectures_HW/blob/main/lectures_1_4.ipynb)"
   ]
  },
  {
   "cell_type": "markdown",
   "metadata": {},
   "source": [
    "# Содержание \n",
    "\n",
    "- [Markdown](#part1)\n",
    "- [Математические и логические операции](#part1_1)\n",
    "- [Типы данных](#part2)\n",
    "   * [Списки](#part2_1)\n",
    "   * [Кортеж](#part2_2)\n",
    "   * [Очередь](#part2_3)\n",
    "   * [Множество](#part2_4)\n",
    "   * [Словарьи](#part2_5) \n",
    "   * [Строки](#part2_6)\n",
    "- [Основы функций](#part3)\n",
    "   * [Функции](#part3_1)\n",
    "   * [Lambda-выражения](#part3_2)\n",
    "   * [Рекурсия](#part3_3)\n",
    "   * [Декораторы](#part3_4)\n",
    "   * [Классы](#part3_5)\n",
    "\n",
    "- [Pandas](#part4)\n",
    "\n",
    "- [Визуализация](#part5)"
   ]
  },
  {
   "cell_type": "markdown",
   "metadata": {},
   "source": [
    "# Markdown <a name=\"part1\"></a>"
   ]
  },
  {
   "cell_type": "markdown",
   "metadata": {},
   "source": [
    "В Jupyther Notebook есть несколько типов окон ввода:\n",
    "    1. Code\n",
    "    2. Markdown\n",
    "    3. Raw NBConvert\n",
    "    4. Heading\n",
    "    \n",
    "* (Сейчас окно ввода формата **Markdown**)\n",
    "\n",
    "\n",
    "Нужный тип можно выбрать на панели выше или можно использовать горящие клавишы. Перечень горячих клавиш можно посмотреть нажав на панели задач кнопку с изображением клавиатуры.\n",
    "\n",
    "----------------------\n",
    "Для форматирования блокнота используется разметка Markdown. Все возможности разметки можно посмотреть [тут][1]\n",
    "\n",
    "[1]: http://ilfire.ru/kompyutery/shpargalka-po-sintaksisu-markdown-markdaun-so-vsemi-samymi-populyarnymi-tegami/#link12\n",
    "\n",
    "----------------------\n",
    "Также текст можно выделять цветом:\n",
    "<font color=purple>например *так* </font>\n",
    "<div class=\"alert alert-success\">\n",
    "или <b>так</b>\n",
    "</div>\n",
    "\n",
    "Есть еще много различных инструментов, которые позволят сделать твой отчет в Jupyter Notebook понятным и красивым. C нимим можно познакомится, перейдя по ссылке, которая была дана выше."
   ]
  },
  {
   "cell_type": "markdown",
   "metadata": {},
   "source": [
    "# Математические операции <a name=\"part1_1\"></a>"
   ]
  },
  {
   "cell_type": "code",
   "execution_count": 1,
   "metadata": {},
   "outputs": [],
   "source": [
    "x, y,z = 5, 5, -1 # присвоение объекту значения "
   ]
  },
  {
   "cell_type": "markdown",
   "metadata": {},
   "source": [
    "арифметические"
   ]
  },
  {
   "cell_type": "code",
   "execution_count": 2,
   "metadata": {},
   "outputs": [
    {
     "data": {
      "text/plain": [
       "10"
      ]
     },
     "execution_count": 2,
     "metadata": {},
     "output_type": "execute_result"
    }
   ],
   "source": [
    "x+y # сложение\n",
    "x-y # вычитание\n",
    "x/y # деление\n",
    "x*y # умножение\n",
    "x//y # целая часть от деления\n",
    "x%y # остаток от деления\n",
    "x**2 # возведение в степень\n",
    "abs(x) # модуль\n",
    "sum([x,y]) # сумма элементов массива"
   ]
  },
  {
   "cell_type": "markdown",
   "metadata": {},
   "source": [
    "операции сравнения"
   ]
  },
  {
   "cell_type": "code",
   "execution_count": 3,
   "metadata": {},
   "outputs": [
    {
     "data": {
      "text/plain": [
       "True"
      ]
     },
     "execution_count": 3,
     "metadata": {},
     "output_type": "execute_result"
    }
   ],
   "source": [
    "x > y\n",
    "x < y\n",
    "x >= y\n",
    "x <= y\n",
    "x!=y #не равно\n",
    "x == y # равно\n",
    "# результа булевый тип данных True False"
   ]
  },
  {
   "cell_type": "code",
   "execution_count": 4,
   "metadata": {},
   "outputs": [
    {
     "data": {
      "text/plain": [
       "True"
      ]
     },
     "execution_count": 4,
     "metadata": {},
     "output_type": "execute_result"
    }
   ],
   "source": [
    "True or False"
   ]
  },
  {
   "cell_type": "code",
   "execution_count": 5,
   "metadata": {},
   "outputs": [
    {
     "data": {
      "text/plain": [
       "True"
      ]
     },
     "execution_count": 5,
     "metadata": {},
     "output_type": "execute_result"
    }
   ],
   "source": [
    "True | False"
   ]
  },
  {
   "cell_type": "code",
   "execution_count": 6,
   "metadata": {},
   "outputs": [
    {
     "data": {
      "text/plain": [
       "False"
      ]
     },
     "execution_count": 6,
     "metadata": {},
     "output_type": "execute_result"
    }
   ],
   "source": [
    "True and False"
   ]
  },
  {
   "cell_type": "code",
   "execution_count": 7,
   "metadata": {},
   "outputs": [
    {
     "data": {
      "text/plain": [
       "False"
      ]
     },
     "execution_count": 7,
     "metadata": {},
     "output_type": "execute_result"
    }
   ],
   "source": [
    "True & False"
   ]
  },
  {
   "cell_type": "code",
   "execution_count": 8,
   "metadata": {},
   "outputs": [
    {
     "data": {
      "text/plain": [
       "True"
      ]
     },
     "execution_count": 8,
     "metadata": {},
     "output_type": "execute_result"
    }
   ],
   "source": [
    "True and not False"
   ]
  },
  {
   "cell_type": "code",
   "execution_count": 9,
   "metadata": {},
   "outputs": [
    {
     "data": {
      "text/plain": [
       "True"
      ]
     },
     "execution_count": 9,
     "metadata": {},
     "output_type": "execute_result"
    }
   ],
   "source": [
    "True is True"
   ]
  },
  {
   "cell_type": "code",
   "execution_count": 10,
   "metadata": {
    "scrolled": true
   },
   "outputs": [
    {
     "data": {
      "text/plain": [
       "False"
      ]
     },
     "execution_count": 10,
     "metadata": {},
     "output_type": "execute_result"
    }
   ],
   "source": [
    "True is not True"
   ]
  },
  {
   "cell_type": "code",
   "execution_count": 11,
   "metadata": {
    "scrolled": true
   },
   "outputs": [
    {
     "data": {
      "text/plain": [
       "['__abs__',\n",
       " '__add__',\n",
       " '__and__',\n",
       " '__bool__',\n",
       " '__ceil__',\n",
       " '__class__',\n",
       " '__delattr__',\n",
       " '__dir__',\n",
       " '__divmod__',\n",
       " '__doc__',\n",
       " '__eq__',\n",
       " '__float__',\n",
       " '__floor__',\n",
       " '__floordiv__',\n",
       " '__format__',\n",
       " '__ge__',\n",
       " '__getattribute__',\n",
       " '__getnewargs__',\n",
       " '__gt__',\n",
       " '__hash__',\n",
       " '__index__',\n",
       " '__init__',\n",
       " '__init_subclass__',\n",
       " '__int__',\n",
       " '__invert__',\n",
       " '__le__',\n",
       " '__lshift__',\n",
       " '__lt__',\n",
       " '__mod__',\n",
       " '__mul__',\n",
       " '__ne__',\n",
       " '__neg__',\n",
       " '__new__',\n",
       " '__or__',\n",
       " '__pos__',\n",
       " '__pow__',\n",
       " '__radd__',\n",
       " '__rand__',\n",
       " '__rdivmod__',\n",
       " '__reduce__',\n",
       " '__reduce_ex__',\n",
       " '__repr__',\n",
       " '__rfloordiv__',\n",
       " '__rlshift__',\n",
       " '__rmod__',\n",
       " '__rmul__',\n",
       " '__ror__',\n",
       " '__round__',\n",
       " '__rpow__',\n",
       " '__rrshift__',\n",
       " '__rshift__',\n",
       " '__rsub__',\n",
       " '__rtruediv__',\n",
       " '__rxor__',\n",
       " '__setattr__',\n",
       " '__sizeof__',\n",
       " '__str__',\n",
       " '__sub__',\n",
       " '__subclasshook__',\n",
       " '__truediv__',\n",
       " '__trunc__',\n",
       " '__xor__',\n",
       " 'as_integer_ratio',\n",
       " 'bit_length',\n",
       " 'conjugate',\n",
       " 'denominator',\n",
       " 'from_bytes',\n",
       " 'imag',\n",
       " 'numerator',\n",
       " 'real',\n",
       " 'to_bytes']"
      ]
     },
     "execution_count": 11,
     "metadata": {},
     "output_type": "execute_result"
    }
   ],
   "source": [
    "dir(True)"
   ]
  },
  {
   "cell_type": "code",
   "execution_count": 12,
   "metadata": {},
   "outputs": [
    {
     "data": {
      "text/plain": [
       "1"
      ]
     },
     "execution_count": 12,
     "metadata": {},
     "output_type": "execute_result"
    }
   ],
   "source": [
    "False.denominator"
   ]
  },
  {
   "cell_type": "markdown",
   "metadata": {
    "collapsed": true
   },
   "source": [
    "# Типы данных <a name=\"part2\"></a>"
   ]
  },
  {
   "cell_type": "markdown",
   "metadata": {},
   "source": [
    "* int целочисленный  (5)\n",
    "* float плавающая точка (5.5)\n",
    "* str строка ('string')\n",
    "* bool бинарный (True)\n",
    "* datetime data"
   ]
  },
  {
   "cell_type": "code",
   "execution_count": 13,
   "metadata": {
    "scrolled": true
   },
   "outputs": [
    {
     "data": {
      "text/plain": [
       "int"
      ]
     },
     "execution_count": 13,
     "metadata": {},
     "output_type": "execute_result"
    }
   ],
   "source": [
    "type(5)"
   ]
  },
  {
   "cell_type": "code",
   "execution_count": 14,
   "metadata": {},
   "outputs": [
    {
     "data": {
      "text/plain": [
       "float"
      ]
     },
     "execution_count": 14,
     "metadata": {},
     "output_type": "execute_result"
    }
   ],
   "source": [
    "type(5.5)"
   ]
  },
  {
   "cell_type": "code",
   "execution_count": 15,
   "metadata": {},
   "outputs": [
    {
     "data": {
      "text/plain": [
       "str"
      ]
     },
     "execution_count": 15,
     "metadata": {},
     "output_type": "execute_result"
    }
   ],
   "source": [
    "type('string')"
   ]
  },
  {
   "cell_type": "code",
   "execution_count": 16,
   "metadata": {
    "scrolled": false
   },
   "outputs": [
    {
     "data": {
      "text/plain": [
       "bool"
      ]
     },
     "execution_count": 16,
     "metadata": {},
     "output_type": "execute_result"
    }
   ],
   "source": [
    "type(True)"
   ]
  },
  {
   "cell_type": "code",
   "execution_count": 17,
   "metadata": {},
   "outputs": [
    {
     "data": {
      "text/plain": [
       "pandas._libs.tslibs.timestamps.Timestamp"
      ]
     },
     "execution_count": 17,
     "metadata": {},
     "output_type": "execute_result"
    }
   ],
   "source": [
    "from datetime import date\n",
    "from datetime import datetime\n",
    "import pandas as pd\n",
    "\n",
    "a = pd.to_datetime('2020-01-01', format = '%Y-%m-%d')\n",
    "type(a)"
   ]
  },
  {
   "cell_type": "code",
   "execution_count": 18,
   "metadata": {
    "scrolled": true
   },
   "outputs": [
    {
     "data": {
      "text/plain": [
       "datetime.date"
      ]
     },
     "execution_count": 18,
     "metadata": {},
     "output_type": "execute_result"
    }
   ],
   "source": [
    "b= datetime(2020,1,1).date()\n",
    "type(b)"
   ]
  },
  {
   "cell_type": "code",
   "execution_count": 19,
   "metadata": {},
   "outputs": [
    {
     "name": "stdout",
     "output_type": "stream",
     "text": [
      "2020-01-01 00:00:00 2020-01-01\n"
     ]
    }
   ],
   "source": [
    "print(a,b)"
   ]
  },
  {
   "cell_type": "code",
   "execution_count": 20,
   "metadata": {
    "scrolled": true
   },
   "outputs": [
    {
     "name": "stderr",
     "output_type": "stream",
     "text": [
      "C:\\Users\\lubni\\AppData\\Local\\Temp/ipykernel_25164/464372380.py:1: FutureWarning: Comparison of Timestamp with datetime.date is deprecated in order to match the standard library behavior.  In a future version these will be considered non-comparable.Use 'ts == pd.Timestamp(date)' or 'ts.date() == date' instead.\n",
      "  a==b\n"
     ]
    },
    {
     "data": {
      "text/plain": [
       "True"
      ]
     },
     "execution_count": 20,
     "metadata": {},
     "output_type": "execute_result"
    }
   ],
   "source": [
    "a==b"
   ]
  },
  {
   "cell_type": "markdown",
   "metadata": {
    "collapsed": true
   },
   "source": [
    "## Список (list)  <a name=\"part2_1\"></a>\n",
    "\n",
    "— это структура данных, которая хранит изменяемую последовательность произвольных элементов. Элементами списка могут быть любые объекты, например: числа, строки, словари, объекты классов, сами классы и другие списки."
   ]
  },
  {
   "cell_type": "code",
   "execution_count": 21,
   "metadata": {},
   "outputs": [
    {
     "data": {
      "text/plain": [
       "['н', 'о', 'в', 'ы', 'й', ' ', 'с', 'п', 'и', 'с', 'о', 'к']"
      ]
     },
     "execution_count": 21,
     "metadata": {},
     "output_type": "execute_result"
    }
   ],
   "source": [
    "list('новый список') # создание списка из строки"
   ]
  },
  {
   "cell_type": "code",
   "execution_count": 22,
   "metadata": {},
   "outputs": [
    {
     "data": {
      "text/plain": [
       "[1, 23, [], {}, '111']"
      ]
     },
     "execution_count": 22,
     "metadata": {},
     "output_type": "execute_result"
    }
   ],
   "source": [
    "s = [] # создание пустого списка\n",
    "l = [1,23, [], {}, \"111\"] # список, заполненный различным содержанием\n",
    "l"
   ]
  },
  {
   "cell_type": "code",
   "execution_count": 23,
   "metadata": {
    "scrolled": true
   },
   "outputs": [
    {
     "name": "stdout",
     "output_type": "stream",
     "text": [
      "s: [1]\n",
      "l: [1, 23, [], {}, '111']\n"
     ]
    },
    {
     "data": {
      "text/plain": [
       "23"
      ]
     },
     "execution_count": 23,
     "metadata": {},
     "output_type": "execute_result"
    }
   ],
   "source": [
    "s.append(1) # добавление в конец списка\n",
    "print('s:',s)\n",
    "print('l:',l)\n",
    "\n",
    "l[1] # взять элемент из списка L по индексу 1"
   ]
  },
  {
   "cell_type": "code",
   "execution_count": 24,
   "metadata": {},
   "outputs": [
    {
     "data": {
      "text/plain": [
       "[1, 1, 23, [], {}, '111']"
      ]
     },
     "execution_count": 24,
     "metadata": {},
     "output_type": "execute_result"
    }
   ],
   "source": [
    "s.extend(l) #объединение списков\n",
    "s"
   ]
  },
  {
   "cell_type": "code",
   "execution_count": 25,
   "metadata": {},
   "outputs": [
    {
     "data": {
      "text/plain": [
       "5"
      ]
     },
     "execution_count": 25,
     "metadata": {},
     "output_type": "execute_result"
    }
   ],
   "source": [
    "len(l) # длина списка l"
   ]
  },
  {
   "cell_type": "code",
   "execution_count": 26,
   "metadata": {},
   "outputs": [
    {
     "data": {
      "text/plain": [
       "[1, 23, [], {}, 'omg']"
      ]
     },
     "execution_count": 26,
     "metadata": {},
     "output_type": "execute_result"
    }
   ],
   "source": [
    "l[4] = \"omg\" # присвоить значение элементу списка\n",
    "l"
   ]
  },
  {
   "cell_type": "code",
   "execution_count": 27,
   "metadata": {
    "scrolled": true
   },
   "outputs": [
    {
     "data": {
      "text/plain": [
       "[1, 23, {}, 'omg']"
      ]
     },
     "execution_count": 27,
     "metadata": {},
     "output_type": "execute_result"
    }
   ],
   "source": [
    "l.pop(2) # удалить из списка элемент по индексу и вернуть его\n",
    "l"
   ]
  },
  {
   "cell_type": "code",
   "execution_count": 28,
   "metadata": {
    "scrolled": true
   },
   "outputs": [
    {
     "data": {
      "text/plain": [
       "[23, {}]"
      ]
     },
     "execution_count": 28,
     "metadata": {},
     "output_type": "execute_result"
    }
   ],
   "source": [
    "l[1:3]"
   ]
  },
  {
   "cell_type": "code",
   "execution_count": 29,
   "metadata": {},
   "outputs": [
    {
     "name": "stdout",
     "output_type": "stream",
     "text": [
      "[1, 23, {}, 'omg']\n"
     ]
    },
    {
     "data": {
      "text/plain": [
       "['omg', {}, 23, 1]"
      ]
     },
     "execution_count": 29,
     "metadata": {},
     "output_type": "execute_result"
    }
   ],
   "source": [
    "print(l)\n",
    "l[::-1] #разворот списка"
   ]
  },
  {
   "cell_type": "code",
   "execution_count": 30,
   "metadata": {},
   "outputs": [
    {
     "name": "stdout",
     "output_type": "stream",
     "text": [
      "[5, 4, '3', {}, 1]\n"
     ]
    }
   ],
   "source": [
    "my_list = [1,{}, '3', 4, 5]\n",
    "my_list.reverse() #еще один способ\n",
    "print(my_list)"
   ]
  },
  {
   "cell_type": "markdown",
   "metadata": {},
   "source": [
    "***Генераторы списков***\n",
    "\n",
    "List Comprehensions — это синтаксический сахар Python, который позволяет удобно генерировать новые списки:"
   ]
  },
  {
   "cell_type": "code",
   "execution_count": 31,
   "metadata": {
    "scrolled": true
   },
   "outputs": [
    {
     "data": {
      "text/plain": [
       "[0, 1, 4, 9, 16, 25, 36, 49, 64, 81]"
      ]
     },
     "execution_count": 31,
     "metadata": {},
     "output_type": "execute_result"
    }
   ],
   "source": [
    "squares = [x ** 2 for x in range(10)]\n",
    "squares"
   ]
  },
  {
   "cell_type": "markdown",
   "metadata": {},
   "source": [
    "Функция range(start, stop, step) — это стандартная функция Python, которая позволяет генерировать последовательность чисел. Range принимает три параметра: start, stop, step, где start — начало последовательности, stop — конец последовательности и step — шаг. По умолчания start = 0, step = 1.\n",
    "\n",
    "\n",
    "Как и в обычных циклах for, внутри list comprehensions можно использовать условия с применением условных выражений if - elif - else:"
   ]
  },
  {
   "cell_type": "code",
   "execution_count": 32,
   "metadata": {},
   "outputs": [],
   "source": [
    "odds = [x for x in range(10) if x % 2 != 0]"
   ]
  },
  {
   "cell_type": "code",
   "execution_count": 33,
   "metadata": {},
   "outputs": [
    {
     "data": {
      "text/plain": [
       "[0, 1, 4, 27, 16, 125, 36, 343, 64, 729]"
      ]
     },
     "execution_count": 33,
     "metadata": {},
     "output_type": "execute_result"
    }
   ],
   "source": [
    "[x ** 2 if x % 2 == 0 else x ** 3 for x in range(10)]"
   ]
  },
  {
   "cell_type": "code",
   "execution_count": 34,
   "metadata": {},
   "outputs": [
    {
     "data": {
      "text/plain": [
       "[(1, 5),\n",
       " (1, 4),\n",
       " (1, 3),\n",
       " (1, 2),\n",
       " (2, 5),\n",
       " (2, 4),\n",
       " (2, 3),\n",
       " (3, 5),\n",
       " (3, 4),\n",
       " (3, 2),\n",
       " (4, 5),\n",
       " (4, 3),\n",
       " (4, 2)]"
      ]
     },
     "execution_count": 34,
     "metadata": {},
     "output_type": "execute_result"
    }
   ],
   "source": [
    "second = [(x, y) for x in range(1, 5) for y in range(5, 1, -1) if x != y]\n",
    "second"
   ]
  },
  {
   "cell_type": "markdown",
   "metadata": {},
   "source": [
    "Бинарный Поиск со списками"
   ]
  },
  {
   "cell_type": "code",
   "execution_count": 35,
   "metadata": {},
   "outputs": [],
   "source": [
    "def BinarySearch(lys, val):\n",
    "    first = 0\n",
    "    last = len(lys)-1\n",
    "    index = -1\n",
    "    while (first <= last) and (index == -1):\n",
    "        mid = (first+last)//2\n",
    "        if lys[mid] == val:\n",
    "            index = mid\n",
    "        elif val<lys[mid]:\n",
    "            last = mid -1\n",
    "        else:\n",
    "            first = mid +1\n",
    "    return index"
   ]
  },
  {
   "cell_type": "markdown",
   "metadata": {},
   "source": [
    "## Кортеж (tuple) <a name = \"part2_2\"></a>\n",
    "\n",
    ", как и список, — это структура данных, которая хранит неизменяемую последовательность произвольных элементов. \n",
    "\n",
    "В отличие от списка, элементы кортежа должны быть определены во время его создания, следовательно, кортежи не поддерживают динамическое добавление и удаление элементов:"
   ]
  },
  {
   "cell_type": "code",
   "execution_count": 36,
   "metadata": {},
   "outputs": [
    {
     "name": "stdout",
     "output_type": "stream",
     "text": [
      "a = [1, 2, 3]\n",
      "b =  (1, 2, 3)\n",
      "a[0] = 1\n",
      "b[0] = 1\n"
     ]
    },
    {
     "ename": "TypeError",
     "evalue": "'tuple' object does not support item assignment",
     "output_type": "error",
     "traceback": [
      "\u001b[1;31m---------------------------------------------------------------------------\u001b[0m",
      "\u001b[1;31mTypeError\u001b[0m                                 Traceback (most recent call last)",
      "\u001b[1;32m~\\AppData\\Local\\Temp/ipykernel_25164/2146315182.py\u001b[0m in \u001b[0;36m<module>\u001b[1;34m\u001b[0m\n\u001b[0;32m      6\u001b[0m \u001b[0mprint\u001b[0m\u001b[1;33m(\u001b[0m\u001b[1;34m'b[0] ='\u001b[0m\u001b[1;33m,\u001b[0m\u001b[0mb\u001b[0m\u001b[1;33m[\u001b[0m\u001b[1;36m0\u001b[0m\u001b[1;33m]\u001b[0m\u001b[1;33m)\u001b[0m\u001b[1;33m\u001b[0m\u001b[1;33m\u001b[0m\u001b[0m\n\u001b[0;32m      7\u001b[0m \u001b[0ma\u001b[0m\u001b[1;33m[\u001b[0m\u001b[1;36m0\u001b[0m\u001b[1;33m]\u001b[0m\u001b[1;33m=\u001b[0m\u001b[1;36m5\u001b[0m\u001b[1;33m\u001b[0m\u001b[1;33m\u001b[0m\u001b[0m\n\u001b[1;32m----> 8\u001b[1;33m \u001b[0mb\u001b[0m\u001b[1;33m[\u001b[0m\u001b[1;36m0\u001b[0m\u001b[1;33m]\u001b[0m\u001b[1;33m=\u001b[0m\u001b[0mb\u001b[0m\u001b[1;33m\u001b[0m\u001b[1;33m\u001b[0m\u001b[0m\n\u001b[0m",
      "\u001b[1;31mTypeError\u001b[0m: 'tuple' object does not support item assignment"
     ]
    }
   ],
   "source": [
    "a = [1,2,3]\n",
    "b = (1,2,3)\n",
    "print('a =',a)\n",
    "print('b = ',b)\n",
    "print('a[0] =',a[0])\n",
    "print('b[0] =',b[0])\n",
    "a[0]=5\n",
    "b[0]=b"
   ]
  },
  {
   "cell_type": "code",
   "execution_count": null,
   "metadata": {},
   "outputs": [],
   "source": [
    "del a[0]\n",
    "a"
   ]
  },
  {
   "cell_type": "code",
   "execution_count": 37,
   "metadata": {},
   "outputs": [
    {
     "ename": "TypeError",
     "evalue": "'tuple' object doesn't support item deletion",
     "output_type": "error",
     "traceback": [
      "\u001b[1;31m---------------------------------------------------------------------------\u001b[0m",
      "\u001b[1;31mTypeError\u001b[0m                                 Traceback (most recent call last)",
      "\u001b[1;32m~\\AppData\\Local\\Temp/ipykernel_25164/12326120.py\u001b[0m in \u001b[0;36m<module>\u001b[1;34m\u001b[0m\n\u001b[1;32m----> 1\u001b[1;33m \u001b[1;32mdel\u001b[0m \u001b[0mb\u001b[0m\u001b[1;33m[\u001b[0m\u001b[1;36m0\u001b[0m\u001b[1;33m]\u001b[0m\u001b[1;33m\u001b[0m\u001b[1;33m\u001b[0m\u001b[0m\n\u001b[0m",
      "\u001b[1;31mTypeError\u001b[0m: 'tuple' object doesn't support item deletion"
     ]
    }
   ],
   "source": [
    "del b[0]"
   ]
  },
  {
   "cell_type": "markdown",
   "metadata": {},
   "source": [
    "**Именованные кортежи (namedtuple)** — это подкласс обычных кортежей, их удобство заключается в двух вещах:\n",
    "\n",
    "они неизменяемые, так же как и обычные кортежи и имеют все их свойства;\n",
    "\n",
    "каждый элемент кортежа доступен по уникальному строковому идентификатору. "
   ]
  },
  {
   "cell_type": "code",
   "execution_count": 38,
   "metadata": {},
   "outputs": [
    {
     "data": {
      "text/plain": [
       "Car(color='red', speed=200)"
      ]
     },
     "execution_count": 38,
     "metadata": {},
     "output_type": "execute_result"
    }
   ],
   "source": [
    "from collections import namedtuple\n",
    "Car = namedtuple('Car' , 'color speed')\n",
    "my_car = Car('red', 200)\n",
    "my_car"
   ]
  },
  {
   "cell_type": "code",
   "execution_count": 39,
   "metadata": {},
   "outputs": [
    {
     "data": {
      "text/plain": [
       "'red'"
      ]
     },
     "execution_count": 39,
     "metadata": {},
     "output_type": "execute_result"
    }
   ],
   "source": [
    "my_car.color"
   ]
  },
  {
   "cell_type": "code",
   "execution_count": 40,
   "metadata": {},
   "outputs": [
    {
     "data": {
      "text/plain": [
       "200"
      ]
     },
     "execution_count": 40,
     "metadata": {},
     "output_type": "execute_result"
    }
   ],
   "source": [
    "my_car.speed"
   ]
  },
  {
   "cell_type": "code",
   "execution_count": 41,
   "metadata": {},
   "outputs": [
    {
     "data": {
      "text/plain": [
       "'red'"
      ]
     },
     "execution_count": 41,
     "metadata": {},
     "output_type": "execute_result"
    }
   ],
   "source": [
    "my_car[0]"
   ]
  },
  {
   "cell_type": "code",
   "execution_count": 42,
   "metadata": {},
   "outputs": [
    {
     "data": {
      "text/plain": [
       "('red', 200)"
      ]
     },
     "execution_count": 42,
     "metadata": {},
     "output_type": "execute_result"
    }
   ],
   "source": [
    "tuple(my_car)"
   ]
  },
  {
   "cell_type": "markdown",
   "metadata": {},
   "source": [
    "### Полезно почитать \n",
    "\n",
    "[Тут написано проразницу между списками  кортежами][1]\n",
    "\n",
    "[Более подробно об операциях над списками и другими типами данных можно узнать тут][2]\n",
    "\n",
    "[1]:https://habr.com/ru/post/417783/\n",
    "[2]:https://docs.python.org/3/tutorial/datastructures.html"
   ]
  },
  {
   "cell_type": "markdown",
   "metadata": {},
   "source": [
    "## Очередь <a name= \"part2_3\"></a>"
   ]
  },
  {
   "cell_type": "markdown",
   "metadata": {},
   "source": [
    "**Deque** — это структура данных, которая реализует двустороннюю очередь.\n",
    "Она поддерживает добавление и удаление элементов с любого конца за время O(1):"
   ]
  },
  {
   "cell_type": "code",
   "execution_count": 43,
   "metadata": {},
   "outputs": [
    {
     "data": {
      "text/plain": [
       "deque([1, 2, 3])"
      ]
     },
     "execution_count": 43,
     "metadata": {},
     "output_type": "execute_result"
    }
   ],
   "source": [
    "import collections\n",
    "de = collections.deque([1,2,3])\n",
    "de"
   ]
  },
  {
   "cell_type": "code",
   "execution_count": 44,
   "metadata": {},
   "outputs": [
    {
     "data": {
      "text/plain": [
       "deque([1, 2, 3, 4])"
      ]
     },
     "execution_count": 44,
     "metadata": {},
     "output_type": "execute_result"
    }
   ],
   "source": [
    "de.append(4)\n",
    "de"
   ]
  },
  {
   "cell_type": "code",
   "execution_count": 45,
   "metadata": {},
   "outputs": [
    {
     "data": {
      "text/plain": [
       "deque([6, 1, 2, 3, 4])"
      ]
     },
     "execution_count": 45,
     "metadata": {},
     "output_type": "execute_result"
    }
   ],
   "source": [
    "de.appendleft(6)\n",
    "de"
   ]
  },
  {
   "cell_type": "code",
   "execution_count": 46,
   "metadata": {},
   "outputs": [
    {
     "data": {
      "text/plain": [
       "4"
      ]
     },
     "execution_count": 46,
     "metadata": {},
     "output_type": "execute_result"
    }
   ],
   "source": [
    "de.pop()"
   ]
  },
  {
   "cell_type": "code",
   "execution_count": 47,
   "metadata": {},
   "outputs": [
    {
     "data": {
      "text/plain": [
       "3"
      ]
     },
     "execution_count": 47,
     "metadata": {},
     "output_type": "execute_result"
    }
   ],
   "source": [
    "de.pop()"
   ]
  },
  {
   "cell_type": "code",
   "execution_count": 48,
   "metadata": {},
   "outputs": [
    {
     "data": {
      "text/plain": [
       "6"
      ]
     },
     "execution_count": 48,
     "metadata": {},
     "output_type": "execute_result"
    }
   ],
   "source": [
    "de.popleft()"
   ]
  },
  {
   "cell_type": "code",
   "execution_count": 49,
   "metadata": {},
   "outputs": [
    {
     "data": {
      "text/plain": [
       "1"
      ]
     },
     "execution_count": 49,
     "metadata": {},
     "output_type": "execute_result"
    }
   ],
   "source": [
    "de.popleft()"
   ]
  },
  {
   "cell_type": "code",
   "execution_count": 50,
   "metadata": {},
   "outputs": [
    {
     "data": {
      "text/plain": [
       "deque([2])"
      ]
     },
     "execution_count": 50,
     "metadata": {},
     "output_type": "execute_result"
    }
   ],
   "source": [
    "de"
   ]
  },
  {
   "cell_type": "markdown",
   "metadata": {},
   "source": [
    "Объекты deque в Python реализованы в виде двусвязных списков, что дает им отличную производительность для постановки в очередь и удаления из очереди, но низкую производительность O(n) для произвольного доступа к элементам в середине очереди.\n",
    "\n",
    "Поскольку deque одинаково хорошо поддерживает добавление и удаление элементов с обоих концов, на практике их удобно использовать для реализации очередей (FIFO — первый вошел, первый вышел) и стеков (FILO — первый вошел, последний вышел). "
   ]
  },
  {
   "cell_type": "markdown",
   "metadata": {},
   "source": [
    "## Множество (Set) <a name=\"part2_4\"></a>\n",
    "\n",
    "— это структура данных, которая хранит неупорядоченные уникальные хешируемые элементы. "
   ]
  },
  {
   "cell_type": "code",
   "execution_count": 52,
   "metadata": {},
   "outputs": [
    {
     "data": {
      "text/plain": [
       "set()"
      ]
     },
     "execution_count": 52,
     "metadata": {},
     "output_type": "execute_result"
    }
   ],
   "source": [
    "s = set() # создание пустого множества\n",
    "s"
   ]
  },
  {
   "cell_type": "code",
   "execution_count": 53,
   "metadata": {},
   "outputs": [
    {
     "data": {
      "text/plain": [
       "{1, 2, 3, 4, 5}"
      ]
     },
     "execution_count": 53,
     "metadata": {},
     "output_type": "execute_result"
    }
   ],
   "source": [
    "s = set((1,2,3,4,5)) # cоздание множества из кортежа\n",
    "s = set([1,2,3,4,5]) # создание множества из списка\n",
    "s = {1, 2, 3, 4, 5} # еще вариант создания множества\n",
    "s"
   ]
  },
  {
   "cell_type": "code",
   "execution_count": 54,
   "metadata": {},
   "outputs": [
    {
     "data": {
      "text/plain": [
       "{(), 1, 2, 3, 4, 5, 'test'}"
      ]
     },
     "execution_count": 54,
     "metadata": {},
     "output_type": "execute_result"
    }
   ],
   "source": [
    "s = {1, 2, 3, 4, 5, \"test\", ()}\n",
    "s"
   ]
  },
  {
   "cell_type": "code",
   "execution_count": 55,
   "metadata": {
    "scrolled": true
   },
   "outputs": [
    {
     "data": {
      "text/plain": [
       "{(), 1, 2, 3, 4, 5, 'new test', 'test'}"
      ]
     },
     "execution_count": 55,
     "metadata": {},
     "output_type": "execute_result"
    }
   ],
   "source": [
    "s.add(\"new test\") # добавление нового элемента\n",
    "s"
   ]
  },
  {
   "cell_type": "code",
   "execution_count": 56,
   "metadata": {
    "scrolled": true
   },
   "outputs": [
    {
     "data": {
      "text/plain": [
       "{(), 1, 2, 3, 4, 5, 'new test', 'test'}"
      ]
     },
     "execution_count": 56,
     "metadata": {},
     "output_type": "execute_result"
    }
   ],
   "source": [
    "s.add(3) # после добавления 3 все осталось без изменений\n",
    "s"
   ]
  },
  {
   "cell_type": "code",
   "execution_count": 57,
   "metadata": {},
   "outputs": [
    {
     "ename": "TypeError",
     "evalue": "unhashable type: 'list'",
     "output_type": "error",
     "traceback": [
      "\u001b[1;31m---------------------------------------------------------------------------\u001b[0m",
      "\u001b[1;31mTypeError\u001b[0m                                 Traceback (most recent call last)",
      "\u001b[1;32m~\\AppData\\Local\\Temp/ipykernel_25164/3070861815.py\u001b[0m in \u001b[0;36m<module>\u001b[1;34m\u001b[0m\n\u001b[1;32m----> 1\u001b[1;33m \u001b[0ms\u001b[0m\u001b[1;33m.\u001b[0m\u001b[0madd\u001b[0m\u001b[1;33m(\u001b[0m\u001b[1;33m[\u001b[0m\u001b[1;33m]\u001b[0m\u001b[1;33m)\u001b[0m \u001b[1;31m# нельзя добавить список, тк он нехешируемый\u001b[0m\u001b[1;33m\u001b[0m\u001b[1;33m\u001b[0m\u001b[0m\n\u001b[0m",
      "\u001b[1;31mTypeError\u001b[0m: unhashable type: 'list'"
     ]
    }
   ],
   "source": [
    "s.add([]) # нельзя добавить список, тк он нехешируемый"
   ]
  },
  {
   "cell_type": "code",
   "execution_count": 58,
   "metadata": {},
   "outputs": [
    {
     "data": {
      "text/plain": [
       "{(), 1, 2, 4, 5, 'new test', 'test'}"
      ]
     },
     "execution_count": 58,
     "metadata": {},
     "output_type": "execute_result"
    }
   ],
   "source": [
    "s.discard(3) # удаление элемента из множества\n",
    "s"
   ]
  },
  {
   "cell_type": "code",
   "execution_count": 59,
   "metadata": {},
   "outputs": [
    {
     "data": {
      "text/plain": [
       "{1, 2, 3, 4, 5, 6, 7, 8, 9, 10}"
      ]
     },
     "execution_count": 59,
     "metadata": {},
     "output_type": "execute_result"
    }
   ],
   "source": [
    "first_part = set((1,2,3,4,5))\n",
    "second_part = set((6,7,8,9,10))\n",
    "first_part.union(second_part) # объединение двух множеств"
   ]
  },
  {
   "cell_type": "code",
   "execution_count": 60,
   "metadata": {},
   "outputs": [
    {
     "data": {
      "text/plain": [
       "set()"
      ]
     },
     "execution_count": 60,
     "metadata": {},
     "output_type": "execute_result"
    }
   ],
   "source": [
    "first_part.intersection(second_part) # пересечение двух множеств"
   ]
  },
  {
   "cell_type": "code",
   "execution_count": 61,
   "metadata": {},
   "outputs": [
    {
     "data": {
      "text/plain": [
       "{1, 2, 3, 4, 5}"
      ]
     },
     "execution_count": 61,
     "metadata": {},
     "output_type": "execute_result"
    }
   ],
   "source": [
    "first_part"
   ]
  },
  {
   "cell_type": "markdown",
   "metadata": {},
   "source": [
    "*Set Comprehensions* — как и при генерации списков, Python поддерживает синтаксический сахар для генерации множеств: "
   ]
  },
  {
   "cell_type": "code",
   "execution_count": 62,
   "metadata": {},
   "outputs": [
    {
     "data": {
      "text/plain": [
       "{0, 1, 2}"
      ]
     },
     "execution_count": 62,
     "metadata": {},
     "output_type": "execute_result"
    }
   ],
   "source": [
    "{s for s in [1, 2, 1, 0]}"
   ]
  },
  {
   "cell_type": "code",
   "execution_count": 63,
   "metadata": {},
   "outputs": [
    {
     "data": {
      "text/plain": [
       "{0, 1, 4}"
      ]
     },
     "execution_count": 63,
     "metadata": {},
     "output_type": "execute_result"
    }
   ],
   "source": [
    "{s**2 for s in [1, 2, 1, 0]}"
   ]
  },
  {
   "cell_type": "code",
   "execution_count": 64,
   "metadata": {
    "scrolled": true
   },
   "outputs": [
    {
     "data": {
      "text/plain": [
       "{0, 1, 4, 9, 16, 25, 36, 49, 64, 81}"
      ]
     },
     "execution_count": 64,
     "metadata": {},
     "output_type": "execute_result"
    }
   ],
   "source": [
    "{s**2 for s in range(10)}"
   ]
  },
  {
   "cell_type": "markdown",
   "metadata": {},
   "source": [
    "Также можно использовать выражение if-elif-else:\n",
    "\n"
   ]
  },
  {
   "cell_type": "code",
   "execution_count": 65,
   "metadata": {},
   "outputs": [
    {
     "data": {
      "text/plain": [
       "{1, 3}"
      ]
     },
     "execution_count": 65,
     "metadata": {},
     "output_type": "execute_result"
    }
   ],
   "source": [
    "{s for s in [1, 2, 3] if s % 2}"
   ]
  },
  {
   "cell_type": "markdown",
   "metadata": {},
   "source": [
    "Использовать несколько циклов for:"
   ]
  },
  {
   "cell_type": "code",
   "execution_count": 66,
   "metadata": {},
   "outputs": [
    {
     "data": {
      "text/plain": [
       "{(3, 0), (3, 1), (4, 0), (4, 1)}"
      ]
     },
     "execution_count": 66,
     "metadata": {},
     "output_type": "execute_result"
    }
   ],
   "source": [
    "{(m, n) for n in range(2) for m in range(3, 5)}"
   ]
  },
  {
   "cell_type": "markdown",
   "metadata": {},
   "source": [
    "**Frozen Set**\n",
    "\n",
    "Неизменяемая версия множеств — уникальный и хешируемый набор элементов в структуре, так же, как и в обычном множестве. Отличается отсутствием возможности добавить или удалить новый элемент."
   ]
  },
  {
   "cell_type": "code",
   "execution_count": 67,
   "metadata": {},
   "outputs": [
    {
     "data": {
      "text/plain": [
       "frozenset({1, 2, 3})"
      ]
     },
     "execution_count": 67,
     "metadata": {},
     "output_type": "execute_result"
    }
   ],
   "source": [
    "a = frozenset((1,2,3))\n",
    "a"
   ]
  },
  {
   "cell_type": "code",
   "execution_count": 68,
   "metadata": {},
   "outputs": [
    {
     "ename": "AttributeError",
     "evalue": "'frozenset' object has no attribute 'add'",
     "output_type": "error",
     "traceback": [
      "\u001b[1;31m---------------------------------------------------------------------------\u001b[0m",
      "\u001b[1;31mAttributeError\u001b[0m                            Traceback (most recent call last)",
      "\u001b[1;32m~\\AppData\\Local\\Temp/ipykernel_25164/598822728.py\u001b[0m in \u001b[0;36m<module>\u001b[1;34m\u001b[0m\n\u001b[1;32m----> 1\u001b[1;33m \u001b[0ma\u001b[0m\u001b[1;33m.\u001b[0m\u001b[0madd\u001b[0m\u001b[1;33m(\u001b[0m\u001b[1;36m2\u001b[0m\u001b[1;33m)\u001b[0m \u001b[1;31m# ошибка\u001b[0m\u001b[1;33m\u001b[0m\u001b[1;33m\u001b[0m\u001b[0m\n\u001b[0m",
      "\u001b[1;31mAttributeError\u001b[0m: 'frozenset' object has no attribute 'add'"
     ]
    }
   ],
   "source": [
    "a.add(2) # ошибка"
   ]
  },
  {
   "cell_type": "markdown",
   "metadata": {},
   "source": [
    "### Полезно почитать \n",
    "\n",
    "[Более подробно об операциях над множествами можно узнать тут][1]\n",
    "[1]:https://docs.python.org/2/library/sets.html"
   ]
  },
  {
   "cell_type": "markdown",
   "metadata": {},
   "source": [
    "## Словари, OrderedDict, DefaultDict <a name=\"part2_5\"></a>\n",
    "\n",
    "**Словарь (Dict)** — это структура данных, которая хранит элементы по принципу ключ-значение.\n",
    "\n",
    " Словарь в Python является реализацией абстрактной структуры данных — хеш-таблица. "
   ]
  },
  {
   "cell_type": "code",
   "execution_count": 69,
   "metadata": {},
   "outputs": [
    {
     "data": {
      "text/plain": [
       "{'a': 1, 'abc': 2}"
      ]
     },
     "execution_count": 69,
     "metadata": {},
     "output_type": "execute_result"
    }
   ],
   "source": [
    "d = {} # создание словаря\n",
    "d = {\"a\":1, \"abc\":2}\n",
    "d"
   ]
  },
  {
   "cell_type": "code",
   "execution_count": 70,
   "metadata": {},
   "outputs": [
    {
     "data": {
      "text/plain": [
       "{}"
      ]
     },
     "execution_count": 70,
     "metadata": {},
     "output_type": "execute_result"
    }
   ],
   "source": [
    "d.clear() # очистка словаря\n",
    "d"
   ]
  },
  {
   "cell_type": "code",
   "execution_count": 71,
   "metadata": {},
   "outputs": [
    {
     "data": {
      "text/plain": [
       "{1: 2, 3: 4}"
      ]
     },
     "execution_count": 71,
     "metadata": {},
     "output_type": "execute_result"
    }
   ],
   "source": [
    "d = dict([(1,2), (3,4)]) # еще одна возможность создать словарь\n",
    "d"
   ]
  },
  {
   "cell_type": "code",
   "execution_count": 72,
   "metadata": {},
   "outputs": [
    {
     "data": {
      "text/plain": [
       "2"
      ]
     },
     "execution_count": 72,
     "metadata": {},
     "output_type": "execute_result"
    }
   ],
   "source": [
    "d[1] # взять элемент словаря по ключу"
   ]
  },
  {
   "cell_type": "code",
   "execution_count": 73,
   "metadata": {},
   "outputs": [
    {
     "ename": "KeyError",
     "evalue": "5",
     "output_type": "error",
     "traceback": [
      "\u001b[1;31m---------------------------------------------------------------------------\u001b[0m",
      "\u001b[1;31mKeyError\u001b[0m                                  Traceback (most recent call last)",
      "\u001b[1;32m~\\AppData\\Local\\Temp/ipykernel_25164/3091105667.py\u001b[0m in \u001b[0;36m<module>\u001b[1;34m\u001b[0m\n\u001b[1;32m----> 1\u001b[1;33m \u001b[0md\u001b[0m\u001b[1;33m[\u001b[0m\u001b[1;36m5\u001b[0m\u001b[1;33m]\u001b[0m \u001b[1;31m# ошибка, если такого ключа нет\u001b[0m\u001b[1;33m\u001b[0m\u001b[1;33m\u001b[0m\u001b[0m\n\u001b[0m",
      "\u001b[1;31mKeyError\u001b[0m: 5"
     ]
    }
   ],
   "source": [
    "d[5] # ошибка, если такого ключа нет"
   ]
  },
  {
   "cell_type": "code",
   "execution_count": 74,
   "metadata": {},
   "outputs": [
    {
     "data": {
      "text/plain": [
       "{1: 2, 3: 4, 7: 15}"
      ]
     },
     "execution_count": 74,
     "metadata": {},
     "output_type": "execute_result"
    }
   ],
   "source": [
    "d[7] = 15 # добавление нового ключа\n",
    "d"
   ]
  },
  {
   "cell_type": "code",
   "execution_count": 75,
   "metadata": {},
   "outputs": [
    {
     "data": {
      "text/plain": [
       "{1: 2, 3: 4, 7: 15, (1, 2): 144}"
      ]
     },
     "execution_count": 75,
     "metadata": {},
     "output_type": "execute_result"
    }
   ],
   "source": [
    "d[(1,2)] = 144 # добавление нового ключа, в качестве которого используется кортеж\n",
    "d"
   ]
  },
  {
   "cell_type": "code",
   "execution_count": 76,
   "metadata": {},
   "outputs": [
    {
     "ename": "TypeError",
     "evalue": "unhashable type: 'list'",
     "output_type": "error",
     "traceback": [
      "\u001b[1;31m---------------------------------------------------------------------------\u001b[0m",
      "\u001b[1;31mTypeError\u001b[0m                                 Traceback (most recent call last)",
      "\u001b[1;32m~\\AppData\\Local\\Temp/ipykernel_25164/2462627822.py\u001b[0m in \u001b[0;36m<module>\u001b[1;34m\u001b[0m\n\u001b[1;32m----> 1\u001b[1;33m \u001b[0md\u001b[0m\u001b[1;33m[\u001b[0m\u001b[1;33m[\u001b[0m\u001b[1;36m1\u001b[0m\u001b[1;33m]\u001b[0m\u001b[1;33m]\u001b[0m \u001b[1;33m=\u001b[0m \u001b[1;36m5\u001b[0m \u001b[1;31m# ошибка, т.к. список не может быть ключом словаря\u001b[0m\u001b[1;33m\u001b[0m\u001b[1;33m\u001b[0m\u001b[0m\n\u001b[0m",
      "\u001b[1;31mTypeError\u001b[0m: unhashable type: 'list'"
     ]
    }
   ],
   "source": [
    "d[[1]] = 5 # ошибка, т.к. список не может быть ключом словаря"
   ]
  },
  {
   "cell_type": "code",
   "execution_count": 77,
   "metadata": {},
   "outputs": [
    {
     "data": {
      "text/plain": [
       "dict_items([(1, 2), (3, 4), (7, 15), ((1, 2), 144)])"
      ]
     },
     "execution_count": 77,
     "metadata": {},
     "output_type": "execute_result"
    }
   ],
   "source": [
    "d.items() # показать пары ключ / значение"
   ]
  },
  {
   "cell_type": "code",
   "execution_count": 78,
   "metadata": {},
   "outputs": [
    {
     "data": {
      "text/plain": [
       "dict_keys([1, 3, 7, (1, 2)])"
      ]
     },
     "execution_count": 78,
     "metadata": {},
     "output_type": "execute_result"
    }
   ],
   "source": [
    "d.keys() # Ключи"
   ]
  },
  {
   "cell_type": "code",
   "execution_count": 79,
   "metadata": {},
   "outputs": [
    {
     "data": {
      "text/plain": [
       "dict_values([2, 4, 15, 144])"
      ]
     },
     "execution_count": 79,
     "metadata": {},
     "output_type": "execute_result"
    }
   ],
   "source": [
    "d.values() # Значения"
   ]
  },
  {
   "cell_type": "markdown",
   "metadata": {},
   "source": [
    "Dict Comprehensions — аналогично с list, set существует семантический сахар и для создания словарей."
   ]
  },
  {
   "cell_type": "code",
   "execution_count": 80,
   "metadata": {},
   "outputs": [
    {
     "data": {
      "text/plain": [
       "{0: 0, 1: 1, 2: 4, 3: 9, 4: 16, 5: 25, 6: 36}"
      ]
     },
     "execution_count": 80,
     "metadata": {},
     "output_type": "execute_result"
    }
   ],
   "source": [
    "d = {a: a ** 2 for a in range(7)}\n",
    "d"
   ]
  },
  {
   "cell_type": "code",
   "execution_count": 81,
   "metadata": {},
   "outputs": [
    {
     "data": {
      "text/plain": [
       "36"
      ]
     },
     "execution_count": 81,
     "metadata": {},
     "output_type": "execute_result"
    }
   ],
   "source": [
    "d.get(6)"
   ]
  },
  {
   "cell_type": "markdown",
   "metadata": {},
   "source": [
    "**OrderedDict**\n",
    "Подкласс словаря, в котором хранится порядок добавления ключей в словарь.\n",
    "\n",
    "Удобно использовать, когда нужно не только получать значения по ключу, но и время от времени итерироваться по структуре, зная, что вначале идут более ранние значения, а в конце более поздние:"
   ]
  },
  {
   "cell_type": "code",
   "execution_count": 82,
   "metadata": {},
   "outputs": [
    {
     "data": {
      "text/plain": [
       "OrderedDict([('one', 1), ('two', 2), ('three', 3)])"
      ]
     },
     "execution_count": 82,
     "metadata": {},
     "output_type": "execute_result"
    }
   ],
   "source": [
    "import collections\n",
    "d = collections.OrderedDict(one=1, two=2, three=3)\n",
    "d"
   ]
  },
  {
   "cell_type": "code",
   "execution_count": 83,
   "metadata": {},
   "outputs": [
    {
     "data": {
      "text/plain": [
       "OrderedDict([('one', 1), ('two', 2), ('three', 3), ('four', 4)])"
      ]
     },
     "execution_count": 83,
     "metadata": {},
     "output_type": "execute_result"
    }
   ],
   "source": [
    "d['four'] = 4\n",
    "d"
   ]
  },
  {
   "cell_type": "markdown",
   "metadata": {},
   "source": [
    "**DefaultDict**\n",
    "Подкласс словаря, особенностью которого является возможность задать значение по умолчанию, которое будет возвращено в случае обращения к словарю по ключу, который отсутствует. "
   ]
  },
  {
   "cell_type": "code",
   "execution_count": 84,
   "metadata": {},
   "outputs": [
    {
     "data": {
      "text/plain": [
       "['Rufus', 'Kathrin', 'Mr Sniffles']"
      ]
     },
     "execution_count": 84,
     "metadata": {},
     "output_type": "execute_result"
    }
   ],
   "source": [
    "from collections import defaultdict\n",
    "dd = defaultdict(list)\n",
    "# Accessing a missing key creates it and initializes it\n",
    "# using the default factory, i.e. list() in this example:\n",
    "dd['dogs'].append('Rufus')\n",
    "dd['dogs'].append('Kathrin')\n",
    "dd['dogs'].append('Mr Sniffles')\n",
    "dd['dogs']\n"
   ]
  },
  {
   "cell_type": "code",
   "execution_count": 85,
   "metadata": {
    "scrolled": true
   },
   "outputs": [
    {
     "data": {
      "text/plain": [
       "defaultdict(list, {'dogs': ['Rufus', 'Kathrin', 'Mr Sniffles']})"
      ]
     },
     "execution_count": 85,
     "metadata": {},
     "output_type": "execute_result"
    }
   ],
   "source": [
    "dd"
   ]
  },
  {
   "cell_type": "code",
   "execution_count": 86,
   "metadata": {},
   "outputs": [
    {
     "data": {
      "text/plain": [
       "240"
      ]
     },
     "execution_count": 86,
     "metadata": {},
     "output_type": "execute_result"
    }
   ],
   "source": [
    "import sys\n",
    "sys.getsizeof(dd) # размер объекта в байтах"
   ]
  },
  {
   "cell_type": "code",
   "execution_count": 87,
   "metadata": {},
   "outputs": [
    {
     "data": {
      "text/plain": [
       "120"
      ]
     },
     "execution_count": 87,
     "metadata": {},
     "output_type": "execute_result"
    }
   ],
   "source": [
    "sys.getsizeof([1,2,3,4,5])"
   ]
  },
  {
   "cell_type": "code",
   "execution_count": 88,
   "metadata": {
    "scrolled": true
   },
   "outputs": [
    {
     "data": {
      "text/plain": [
       "80"
      ]
     },
     "execution_count": 88,
     "metadata": {},
     "output_type": "execute_result"
    }
   ],
   "source": [
    "sys.getsizeof((1,2,3,4,5))"
   ]
  },
  {
   "cell_type": "markdown",
   "metadata": {},
   "source": [
    "### Полезно почитать \n",
    "\n",
    "[Более подробное описание операций над словарями можно посмотреть тут][1]\n",
    "[1]:https://docs.python.org/3/tutorial/datastructures.html"
   ]
  },
  {
   "cell_type": "code",
   "execution_count": 89,
   "metadata": {
    "scrolled": false
   },
   "outputs": [
    {
     "data": {
      "text/plain": [
       "3"
      ]
     },
     "execution_count": 89,
     "metadata": {},
     "output_type": "execute_result"
    }
   ],
   "source": [
    "BinarySearch(['Аня', 'Вика', 'Лена', 'Настя'], 'Настя')"
   ]
  },
  {
   "cell_type": "markdown",
   "metadata": {},
   "source": [
    "## Строки <a name = 'part2_6'></a>"
   ]
  },
  {
   "cell_type": "code",
   "execution_count": 90,
   "metadata": {},
   "outputs": [],
   "source": [
    "simple_str = '  Просто   строка  '"
   ]
  },
  {
   "cell_type": "code",
   "execution_count": 91,
   "metadata": {
    "scrolled": true
   },
   "outputs": [
    {
     "data": {
      "text/plain": [
       "['__add__',\n",
       " '__class__',\n",
       " '__contains__',\n",
       " '__delattr__',\n",
       " '__dir__',\n",
       " '__doc__',\n",
       " '__eq__',\n",
       " '__format__',\n",
       " '__ge__',\n",
       " '__getattribute__',\n",
       " '__getitem__',\n",
       " '__getnewargs__',\n",
       " '__gt__',\n",
       " '__hash__',\n",
       " '__init__',\n",
       " '__init_subclass__',\n",
       " '__iter__',\n",
       " '__le__',\n",
       " '__len__',\n",
       " '__lt__',\n",
       " '__mod__',\n",
       " '__mul__',\n",
       " '__ne__',\n",
       " '__new__',\n",
       " '__reduce__',\n",
       " '__reduce_ex__',\n",
       " '__repr__',\n",
       " '__rmod__',\n",
       " '__rmul__',\n",
       " '__setattr__',\n",
       " '__sizeof__',\n",
       " '__str__',\n",
       " '__subclasshook__',\n",
       " 'capitalize',\n",
       " 'casefold',\n",
       " 'center',\n",
       " 'count',\n",
       " 'encode',\n",
       " 'endswith',\n",
       " 'expandtabs',\n",
       " 'find',\n",
       " 'format',\n",
       " 'format_map',\n",
       " 'index',\n",
       " 'isalnum',\n",
       " 'isalpha',\n",
       " 'isascii',\n",
       " 'isdecimal',\n",
       " 'isdigit',\n",
       " 'isidentifier',\n",
       " 'islower',\n",
       " 'isnumeric',\n",
       " 'isprintable',\n",
       " 'isspace',\n",
       " 'istitle',\n",
       " 'isupper',\n",
       " 'join',\n",
       " 'ljust',\n",
       " 'lower',\n",
       " 'lstrip',\n",
       " 'maketrans',\n",
       " 'partition',\n",
       " 'removeprefix',\n",
       " 'removesuffix',\n",
       " 'replace',\n",
       " 'rfind',\n",
       " 'rindex',\n",
       " 'rjust',\n",
       " 'rpartition',\n",
       " 'rsplit',\n",
       " 'rstrip',\n",
       " 'split',\n",
       " 'splitlines',\n",
       " 'startswith',\n",
       " 'strip',\n",
       " 'swapcase',\n",
       " 'title',\n",
       " 'translate',\n",
       " 'upper',\n",
       " 'zfill']"
      ]
     },
     "execution_count": 91,
     "metadata": {},
     "output_type": "execute_result"
    }
   ],
   "source": [
    "dir(simple_str)"
   ]
  },
  {
   "cell_type": "code",
   "execution_count": 92,
   "metadata": {
    "scrolled": false
   },
   "outputs": [
    {
     "name": "stdout",
     "output_type": "stream",
     "text": [
      "['', '', 'Просто', '', '', 'строка', '', '']\n"
     ]
    },
    {
     "data": {
      "text/plain": [
       "'  Просто   строка  '"
      ]
     },
     "execution_count": 92,
     "metadata": {},
     "output_type": "execute_result"
    }
   ],
   "source": [
    "print(simple_str.split(' '))\n",
    "simple_str"
   ]
  },
  {
   "cell_type": "code",
   "execution_count": 93,
   "metadata": {},
   "outputs": [
    {
     "data": {
      "text/plain": [
       "',,Просто,,,строка,,'"
      ]
     },
     "execution_count": 93,
     "metadata": {},
     "output_type": "execute_result"
    }
   ],
   "source": [
    "','.join(simple_str.split(' '))"
   ]
  },
  {
   "cell_type": "code",
   "execution_count": 94,
   "metadata": {
    "scrolled": true
   },
   "outputs": [
    {
     "name": "stdout",
     "output_type": "stream",
     "text": [
      "Просто строка\n"
     ]
    }
   ],
   "source": [
    "print('просто строка'.capitalize())"
   ]
  },
  {
   "cell_type": "code",
   "execution_count": 95,
   "metadata": {
    "scrolled": true
   },
   "outputs": [
    {
     "name": "stdout",
     "output_type": "stream",
     "text": [
      "просто строка\n"
     ]
    }
   ],
   "source": [
    "print('Просто строка'.casefold())"
   ]
  },
  {
   "cell_type": "code",
   "execution_count": 96,
   "metadata": {},
   "outputs": [
    {
     "data": {
      "text/plain": [
       "True"
      ]
     },
     "execution_count": 96,
     "metadata": {},
     "output_type": "execute_result"
    }
   ],
   "source": [
    "'123'.isnumeric()"
   ]
  },
  {
   "cell_type": "markdown",
   "metadata": {},
   "source": [
    "[Подробнее про строки][1]\n",
    "[1]:https://docs.python.org/3/library/string.html"
   ]
  },
  {
   "cell_type": "markdown",
   "metadata": {},
   "source": [
    "Главная страница » Вопросы с собеседования » Строки » Сравнение строк в Python\n",
    "Сравнение строк в Python\n",
    "СТРОКИ\n",
    "В Python строка – это последовательность символов, причем отдельный символ тоже считается строкой. Все символы имеют разные значения Unicode или ASCII.\n",
    "\n",
    "Строки в Python можно сравнивать. При этом, по сути, сравниваются их символы. Сравнение происходит последовательно: первый символ одной строки сравнивается с первым символом другой. Если они равны, сравниваются символы на следующей позиции.\n",
    "\n",
    "Следует учитывать, что компьютер сравнивает не символы как таковые, а их значения в Unicode. Чем больше это значение, тем «больше» символ."
   ]
  },
  {
   "cell_type": "code",
   "execution_count": 97,
   "metadata": {},
   "outputs": [
    {
     "data": {
      "text/plain": [
       "True"
      ]
     },
     "execution_count": 97,
     "metadata": {},
     "output_type": "execute_result"
    }
   ],
   "source": [
    "'1' < '2'"
   ]
  },
  {
   "cell_type": "markdown",
   "metadata": {},
   "source": [
    " ------------"
   ]
  },
  {
   "cell_type": "markdown",
   "metadata": {},
   "source": [
    "# Основы функций <a name=\"part3\"></a>\n",
    "\n",
    "## Функция  <a name=\"part3_1\"></a>\n",
    "\n",
    "— это блок организованного, многократно используемого кода, который используется для выполнения одного связанного действия. Функции обеспечивают модульность и высокую степень повторного использования кода.\n",
    "\n",
    "\n",
    "Существуют встроенные функции Python — print(), len(), str() и т.д., и пользовательские"
   ]
  },
  {
   "cell_type": "code",
   "execution_count": 98,
   "metadata": {},
   "outputs": [],
   "source": [
    "def factorial(number): # без рекурсии\n",
    "\n",
    "    if number <0:\n",
    "        return print('Упс, число меньше нуля')\n",
    "    elif  number == 1 or number ==0:\n",
    "        return 1\n",
    "    else:\n",
    "        f = 1\n",
    "        while number!=1:\n",
    "            f*=number\n",
    "            number-=1\n",
    "        return f\n",
    "         "
   ]
  },
  {
   "cell_type": "code",
   "execution_count": 99,
   "metadata": {},
   "outputs": [],
   "source": [
    "def factorial_r(number): # с рекурсией\n",
    "\n",
    "    if number <0:\n",
    "        return print('Упс, число меньше нуля')\n",
    "    elif  number == 1 or number ==0:\n",
    "        return 1\n",
    "    else:\n",
    "        return number*(factorial(number-1))      "
   ]
  },
  {
   "cell_type": "code",
   "execution_count": 100,
   "metadata": {
    "scrolled": false
   },
   "outputs": [
    {
     "data": {
      "text/plain": [
       "120"
      ]
     },
     "execution_count": 100,
     "metadata": {},
     "output_type": "execute_result"
    }
   ],
   "source": [
    "factorial(5)"
   ]
  },
  {
   "cell_type": "code",
   "execution_count": 101,
   "metadata": {
    "scrolled": true
   },
   "outputs": [
    {
     "data": {
      "text/plain": [
       "28"
      ]
     },
     "execution_count": 101,
     "metadata": {},
     "output_type": "execute_result"
    }
   ],
   "source": [
    "sys.getsizeof(factorial(1)) "
   ]
  },
  {
   "cell_type": "code",
   "execution_count": 102,
   "metadata": {
    "scrolled": true
   },
   "outputs": [
    {
     "data": {
      "text/plain": [
       "120"
      ]
     },
     "execution_count": 102,
     "metadata": {},
     "output_type": "execute_result"
    }
   ],
   "source": [
    "factorial_r(5)"
   ]
  },
  {
   "cell_type": "code",
   "execution_count": 103,
   "metadata": {},
   "outputs": [
    {
     "data": {
      "text/plain": [
       "28"
      ]
     },
     "execution_count": 103,
     "metadata": {},
     "output_type": "execute_result"
    }
   ],
   "source": [
    "sys.getsizeof(factorial_r(1)) "
   ]
  },
  {
   "cell_type": "markdown",
   "metadata": {},
   "source": [
    "**Изменяемое число аргументов — \\*args, \\*\\*kwargs**\n",
    "\\*args — для неименованных аргументов.\n",
    "\n",
    "\\*\\*kwargs — для именованных аргументов.\n",
    "\n",
    "Такой подход применяется, когда количество аргументов в функции заранее неизвестно.\n",
    "\n",
    "**\\*args** — в этом случае переменные передаются как кортеж и доступны под тем именем, что указано при объявлении аргумента."
   ]
  },
  {
   "cell_type": "code",
   "execution_count": 104,
   "metadata": {},
   "outputs": [
    {
     "name": "stdout",
     "output_type": "stream",
     "text": [
      "8\n",
      "22\n",
      "17\n"
     ]
    }
   ],
   "source": [
    "def summator(*nums):\n",
    "    sum = 0\n",
    "    for n in nums:\n",
    "        sum += n\n",
    "    print(sum)\n",
    "summator(3, 5)\n",
    "summator(4, 5, 6, 7)\n",
    "summator(1, 2, 3, 5, 6)"
   ]
  },
  {
   "cell_type": "markdown",
   "metadata": {},
   "source": [
    "**\\*\\*kwargs** — в этом случае переменные передаются как словарь и доступны под тем именем, что указано при объявлении аргумента."
   ]
  },
  {
   "cell_type": "code",
   "execution_count": 105,
   "metadata": {},
   "outputs": [
    {
     "name": "stdout",
     "output_type": "stream",
     "text": [
      "kwargs type is <class 'dict'>\n",
      "one 1\n",
      "two 2\n",
      "three 3\n"
     ]
    }
   ],
   "source": [
    "def inside_kwargs(**kwargs):\n",
    "    print(\"kwargs type is\", type(kwargs))\n",
    "    for key, value in kwargs.items():\n",
    "        print(key, value)\n",
    "inside_kwargs(one=1, two=2, three=3)"
   ]
  },
  {
   "cell_type": "markdown",
   "metadata": {},
   "source": [
    "\\*args, \\*\\*kwargs — устоявшиеся названия переменных для передачи неизвестного количества переменных в функцию, но именовать их именно так не обязательно.\n",
    "\n",
    "\\*args, \\*\\*kwargs можно комбинировать, но в таком случае порядок важен и первым идет \\*args, затем \\*\\*kwargs."
   ]
  },
  {
   "cell_type": "markdown",
   "metadata": {},
   "source": [
    "## Lambda-выражения <a name='part3_2'></a>\n",
    "\n",
    "Lambda-выражения — это синтаксический сахар в Python, необходимый для создания анонимных / lambda функций."
   ]
  },
  {
   "cell_type": "code",
   "execution_count": 106,
   "metadata": {},
   "outputs": [],
   "source": [
    "f = lambda x: x + 1"
   ]
  },
  {
   "cell_type": "code",
   "execution_count": 107,
   "metadata": {
    "scrolled": true
   },
   "outputs": [
    {
     "data": {
      "text/plain": [
       "3"
      ]
     },
     "execution_count": 107,
     "metadata": {},
     "output_type": "execute_result"
    }
   ],
   "source": [
    "f(2)"
   ]
  },
  {
   "cell_type": "code",
   "execution_count": 108,
   "metadata": {},
   "outputs": [
    {
     "name": "stdout",
     "output_type": "stream",
     "text": [
      "['cyan', 'Goldenrod', 'purple', 'Salmon', 'turquoise']\n"
     ]
    }
   ],
   "source": [
    "colors = [\"Goldenrod\", \"purple\", \"Salmon\", \"turquoise\", \"cyan\"]\n",
    "print(sorted(colors, key=lambda s: s.casefold()))"
   ]
  },
  {
   "cell_type": "markdown",
   "metadata": {},
   "source": [
    "**map()**"
   ]
  },
  {
   "cell_type": "code",
   "execution_count": 109,
   "metadata": {},
   "outputs": [
    {
     "data": {
      "text/plain": [
       "[1, 2, 4, 8, 16, 32, 64, 128, 256, 512]"
      ]
     },
     "execution_count": 109,
     "metadata": {},
     "output_type": "execute_result"
    }
   ],
   "source": [
    "simple_list = range(10)\n",
    "\n",
    "square_2 = lambda x: 2**x\n",
    "\n",
    "list(map(square_2,simple_list))"
   ]
  },
  {
   "cell_type": "markdown",
   "metadata": {},
   "source": [
    "### Рекурсия <a name='part3_3'></a>\n",
    "\n",
    "Рекурсия — это вызов функции самой себя. Особенностью рекурсии является базовое условие — это условие, которое завершит цикл, если оно выполнено, в этом случае рекурсивная функция завершает свою работу. "
   ]
  },
  {
   "cell_type": "code",
   "execution_count": 110,
   "metadata": {},
   "outputs": [
    {
     "name": "stdout",
     "output_type": "stream",
     "text": [
      "5\n",
      "4\n",
      "3\n",
      "2\n",
      "1\n",
      "0\n",
      "15\n"
     ]
    }
   ],
   "source": [
    "def getTotal(n, total):\n",
    "    print(n)\n",
    "    if n == 0: # базовое условие\n",
    "        return total\n",
    "    else:\n",
    "        return getTotal(n-1, (total+(n)))\n",
    "\n",
    "print(getTotal(5, 0))"
   ]
  },
  {
   "cell_type": "markdown",
   "metadata": {},
   "source": [
    "В python есть возможность задать лимит на количество вызовов рекурсивной функции:"
   ]
  },
  {
   "cell_type": "code",
   "execution_count": 111,
   "metadata": {},
   "outputs": [],
   "source": [
    "sys.setrecursionlimit(10**6)"
   ]
  },
  {
   "cell_type": "markdown",
   "metadata": {
    "collapsed": true
   },
   "source": [
    "## Декораторы <a name='part3_4'>\n",
    "\n",
    "**Декоратор** — это в первую очередь структурный шаблон проектирования, предназначенный для динамического подключения дополнительного поведения к объекту."
   ]
  },
  {
   "cell_type": "markdown",
   "metadata": {},
   "source": [
    "В Python этот механизм вынесен на уровень синтаксического сахара благодаря нескольким особенностям языка.\n",
    "\n",
    "* Функция - это объект, ее можно присвоить переменной:"
   ]
  },
  {
   "cell_type": "code",
   "execution_count": 112,
   "metadata": {},
   "outputs": [
    {
     "name": "stdout",
     "output_type": "stream",
     "text": [
      "test\n",
      "test\n"
     ]
    }
   ],
   "source": [
    "def example_function(param1 = \"test\"):\n",
    "    return param1\n",
    "\n",
    "print(example_function())\n",
    "\n",
    "variable = example_function\n",
    "print(variable())"
   ]
  },
  {
   "cell_type": "markdown",
   "metadata": {},
   "source": [
    "* Функция может быть определена внутри другой функции: "
   ]
  },
  {
   "cell_type": "code",
   "execution_count": 113,
   "metadata": {},
   "outputs": [
    {
     "name": "stdout",
     "output_type": "stream",
     "text": [
      "test\n"
     ]
    }
   ],
   "source": [
    "def example_function():\n",
    "    def under_function(param1):\n",
    "        return(param1)\n",
    "    print(under_function(\"test\"))\n",
    "    \n",
    "example_function()"
   ]
  },
  {
   "cell_type": "markdown",
   "metadata": {},
   "source": [
    "* Функция может вернуть функцию как результат своей работы:"
   ]
  },
  {
   "cell_type": "code",
   "execution_count": 114,
   "metadata": {},
   "outputs": [
    {
     "name": "stdout",
     "output_type": "stream",
     "text": [
      "test\n"
     ]
    }
   ],
   "source": [
    "def example_function():\n",
    "    def under_function(param1):\n",
    "        return(param1)\n",
    "    return under_function\n",
    "variable = example_function()\n",
    "print(variable(\"test\"))"
   ]
  },
  {
   "cell_type": "markdown",
   "metadata": {},
   "source": [
    "* Функция может принимать другую функцию в качестве входного параметра:"
   ]
  },
  {
   "cell_type": "code",
   "execution_count": 115,
   "metadata": {},
   "outputs": [
    {
     "name": "stdout",
     "output_type": "stream",
     "text": [
      "print before func\n",
      "i am just printing\n",
      "print after func\n"
     ]
    }
   ],
   "source": [
    "def print_func():\n",
    "    print(\"i am just printing\")\n",
    "\n",
    "def example_function(func):\n",
    "    print(\"print before func\")\n",
    "    func()\n",
    "    print(\"print after func\")\n",
    "example_function(print_func)"
   ]
  },
  {
   "cell_type": "markdown",
   "metadata": {},
   "source": [
    "Комбинируя вышеперечисленные особенности, можно создать \"свой\" декоратор, не прибегая к сахару Python:"
   ]
  },
  {
   "cell_type": "code",
   "execution_count": 116,
   "metadata": {},
   "outputs": [
    {
     "name": "stdout",
     "output_type": "stream",
     "text": [
      "before\n",
      "i am just printinng this\n",
      "after\n"
     ]
    }
   ],
   "source": [
    "def self_decorator(function_to_decorate):\n",
    "    def wrap_original_function(): # объявляем вложенную функцию\n",
    "        print(\"before\")\n",
    "        function_to_decorate() # вызываем оригинальную функцию\n",
    "        print(\"after\")\n",
    "    return wrap_original_function # возвращаем функцию в качестве результата работы\n",
    "def easy_function(): # определяем простую функцию\n",
    "    print(\"i am just printinng this\")\n",
    "decorated_function = self_decorator(easy_function) # декорируем функцию\n",
    "decorated_function()"
   ]
  },
  {
   "cell_type": "markdown",
   "metadata": {},
   "source": [
    "Но, используя синтаксис декораторов, можно переписать предыдущий пример более коротко:"
   ]
  },
  {
   "cell_type": "code",
   "execution_count": 117,
   "metadata": {},
   "outputs": [
    {
     "name": "stdout",
     "output_type": "stream",
     "text": [
      "before\n",
      "i am just printing this\n",
      "after\n"
     ]
    }
   ],
   "source": [
    "def self_decorator(function_to_decorate):\n",
    "    def wrap_original_function(): # объявляем вложенную функцию\n",
    "        print(\"before\")\n",
    "        function_to_decorate() # вызываем оригинальную функцию\n",
    "        print(\"after\")\n",
    "    return wrap_original_function # возвращаем функцию в качестве результата работы\n",
    "\n",
    "@self_decorator\n",
    "def easy_function():\n",
    "    print(\"i am just printing this\")\n",
    "easy_function()"
   ]
  },
  {
   "cell_type": "markdown",
   "metadata": {},
   "source": [
    "Декоратор считающий время выполнения функции"
   ]
  },
  {
   "cell_type": "code",
   "execution_count": 118,
   "metadata": {},
   "outputs": [],
   "source": [
    "from IPython.core.interactiveshell import InteractiveShell # настройки вывода\n",
    "InteractiveShell.ast_node_interactivity = \"all\""
   ]
  },
  {
   "cell_type": "code",
   "execution_count": 119,
   "metadata": {},
   "outputs": [],
   "source": [
    "import time \n",
    "\n",
    "def time_decorator(func):\n",
    "    def _inner(*args, **kwargs):\n",
    "        start = time.time()\n",
    "        result = func(*args, **kwargs)\n",
    "        finish = time.time()\n",
    "        print('time =',\"{:e}\".format(finish-start))\n",
    "        return result\n",
    "    return _inner"
   ]
  },
  {
   "cell_type": "code",
   "execution_count": 120,
   "metadata": {
    "scrolled": false
   },
   "outputs": [],
   "source": [
    "def factorial_r(number): # с рекурсией\n",
    "    if number <0:\n",
    "        return print('Упс, число меньше нуля')\n",
    "    elif  number == 1 or number ==0:\n",
    "        return 1\n",
    "    else:\n",
    "        return number*(factorial_r(number-1))  \n",
    "    \n",
    "memo_dict ={0:1}\n",
    "\n",
    "def memo_factorial(number):\n",
    "    if number in memo_dict.keys():\n",
    "        return memo_dict[number]\n",
    "    else:\n",
    "        result = factorial_r(number)\n",
    "        memo_dict[number] = result\n",
    "        return result\n"
   ]
  },
  {
   "cell_type": "code",
   "execution_count": 121,
   "metadata": {},
   "outputs": [
    {
     "data": {
      "text/plain": [
       "120"
      ]
     },
     "execution_count": 121,
     "metadata": {},
     "output_type": "execute_result"
    }
   ],
   "source": [
    "factorial_r(5)"
   ]
  },
  {
   "cell_type": "code",
   "execution_count": 122,
   "metadata": {},
   "outputs": [],
   "source": [
    "@time_decorator\n",
    "def main(n,choice_algorithm = 'memo'):\n",
    "    if choice_algorithm =='memo':\n",
    "        print('run memo')\n",
    "        result = memo_factorial(n)\n",
    "    else:\n",
    "        print('run naive')\n",
    "        result = factorial_r(n)\n",
    "    print('factorial =',result)\n",
    "    "
   ]
  },
  {
   "cell_type": "code",
   "execution_count": 123,
   "metadata": {
    "scrolled": true
   },
   "outputs": [
    {
     "name": "stdout",
     "output_type": "stream",
     "text": [
      "run memo\n",
      "factorial = 2\n",
      "time = 0.000000e+00\n"
     ]
    }
   ],
   "source": [
    "main(2, choice_algorithm = 'memo')"
   ]
  },
  {
   "cell_type": "code",
   "execution_count": 124,
   "metadata": {
    "scrolled": false
   },
   "outputs": [
    {
     "data": {
      "text/plain": [
       "{0: 1, 2: 2}"
      ]
     },
     "execution_count": 124,
     "metadata": {},
     "output_type": "execute_result"
    }
   ],
   "source": [
    "memo_dict"
   ]
  },
  {
   "cell_type": "markdown",
   "metadata": {},
   "source": [
    "# Классы <a name='part3_5'></a>"
   ]
  },
  {
   "cell_type": "markdown",
   "metadata": {},
   "source": [
    "Объектно-ориентированное программирование — это парадигма разработки ПО, которая структурирует программу таким образом, что поведение и свойства сущностей объединяются в классы, конкретными реализациями которых являются объекты.\n",
    "\n",
    "Например: парковка с различными средствами передвижения. Класс — авто, класс — мотоцикл, у них есть свойства: марка, цвет, местоположение на парковке, есть поведение: начать движение, остановиться и т.д. Конкретные объекты этих классов — синий «Мерседес» на месте 11а или черный мотоцикл «Хонда» на месте 42б. \n",
    "\n",
    "Python является языком со множеством парадигм, помимо ООП, можно структурировать программы по методу процедурного программирования. Все зависит от технических требований к продукту.\n",
    "\n",
    "Для простейших вещей, например, таких как числа, строки и более сложные - списки, словари и т.д. в Python реализованы собственные классы. Важно отметить, что класс представляет собой шаблон для создания объектов, обеспечивающий начальные значения состояний: инициализация полей-переменных и реализация поведения функций или методов.\n",
    "\n",
    "Объекты (инстанс или экземпляр класса) \n",
    "\n",
    "Это уже конкретная реализация класса, заполненная пользовательскими данными и имеющая поведение, описанное в классе.\n",
    "\n",
    "Например, dict, заполненный несколькими значениями — это конкретный объект соответствующего класса, другой dict с другим набором значений — другой объект."
   ]
  },
  {
   "cell_type": "code",
   "execution_count": 125,
   "metadata": {},
   "outputs": [],
   "source": [
    "class Book:\n",
    "    pass # заглушка для пустых классов"
   ]
  },
  {
   "cell_type": "code",
   "execution_count": 126,
   "metadata": {},
   "outputs": [],
   "source": [
    "# класс книга\n",
    "class Book:\n",
    "    type_element = 'Книга' # атрибут который свойственен всем объектам класса\n",
    "    def __init__(self,name,author):\n",
    "        self.name = name #создание атрибута объекта.\n",
    "        self.author = author #создание атрибута объекта."
   ]
  },
  {
   "cell_type": "code",
   "execution_count": 127,
   "metadata": {},
   "outputs": [],
   "source": [
    "a = Book('Изучаем Python','Эрик Мэтиз')\n",
    "b = Book('Грокаем алгоритмы','Адитья Бхаргава')"
   ]
  },
  {
   "cell_type": "code",
   "execution_count": 128,
   "metadata": {},
   "outputs": [
    {
     "data": {
      "text/plain": [
       "'Изучаем Python'"
      ]
     },
     "execution_count": 128,
     "metadata": {},
     "output_type": "execute_result"
    }
   ],
   "source": [
    "a.name"
   ]
  },
  {
   "cell_type": "code",
   "execution_count": 129,
   "metadata": {},
   "outputs": [
    {
     "data": {
      "text/plain": [
       "'Эрик Мэтиз'"
      ]
     },
     "execution_count": 129,
     "metadata": {},
     "output_type": "execute_result"
    }
   ],
   "source": [
    "a.author"
   ]
  },
  {
   "cell_type": "markdown",
   "metadata": {},
   "source": [
    "Собственно говоря, создание объекта в Python происходит в два этапа:\n",
    "\n",
    "Создание объекта — магический метод __new__().\n",
    "Инициализация объекта с новыми атрибутами — магический метод __init__().\n",
    "Абстрактно это выглядит так:"
   ]
  },
  {
   "cell_type": "raw",
   "metadata": {},
   "source": [
    "class Foo:\n",
    "def __new__(cls):\n",
    "    return super().__new__(cls)\n",
    "\n",
    "def __init__(self):\n",
    "    pass"
   ]
  },
  {
   "cell_type": "markdown",
   "metadata": {},
   "source": [
    "Внутри метода \\_\\_new\\_\\_() средствами return вызывает создание объекта класса, посредством обращения к методу \\_\\_new\\_\\_() базового класса object, который является базовым классом для всех пользовательских классов в Python.\n",
    "\n",
    "Затем вызывается метод \\_\\_init\\_\\_(), в котором уже происходит создание атрибутов объекта, как в примере с классом Book.\n",
    "\n",
    "Обычно на практике метод \\_\\_new\\_\\_() переопределять не нужно, т.к. хватает реализации метода new() класса object. Просто нужно знать, что он всегда вызывается, и держать это в голове.\n",
    "\n",
    "* [магические методы статья][1]\n",
    "* [руководство][2]\n",
    "\n",
    "[1]:[https://habr.com/ru/post/186608/]\n",
    "[2]:[https://rszalski.github.io/magicmethods/]"
   ]
  },
  {
   "cell_type": "markdown",
   "metadata": {},
   "source": [
    "Методы объекта\n",
    "Как говорилось выше, в классах можно не только описывать атрибуты объекта, но и определять его поведение, которое производит определенные действия над этими атрибутами. Такие действия называются методами объекта.\n",
    "\n",
    "Так \\_\\_init\\_\\_() — это метод при котором объекту добавляются новые атрибуты:"
   ]
  },
  {
   "cell_type": "code",
   "execution_count": 130,
   "metadata": {},
   "outputs": [],
   "source": [
    "class Book:\n",
    "    type_element = 'Книга' # атрибут который свойственен всем объектам класса\n",
    "    def __init__(self,name,author):\n",
    "        self.name = name #создание атрибута объекта.\n",
    "        self.author = author #создание атрибута объекта.\n",
    "        \n",
    "    def __eq__(self, other):  # магический метод сравнения ==\n",
    "        if not isinstance(other, Book):\n",
    "            # don't attempt to compare against unrelated types\n",
    "            return NotImplemented\n",
    "\n",
    "        return self.name == other.name and self.author == other.author\n",
    "\n",
    "    def print_book(self): # метод\n",
    "            print(f'{self.name} {self.author}') # метод выводт название книги и автора\n",
    "\n",
    "    def set_year(self, year):\n",
    "        self.year = year # Добавление атрибута"
   ]
  },
  {
   "cell_type": "code",
   "execution_count": 131,
   "metadata": {
    "scrolled": true
   },
   "outputs": [
    {
     "data": {
      "text/plain": [
       "True"
      ]
     },
     "execution_count": 131,
     "metadata": {},
     "output_type": "execute_result"
    }
   ],
   "source": [
    "Book('Изучаем Python','Эрик Мэтиз')==Book('Изучаем Python','Эрик Мэтиз')"
   ]
  },
  {
   "cell_type": "code",
   "execution_count": 132,
   "metadata": {},
   "outputs": [],
   "source": [
    "a = Book('Изучаем Python','Эрик Мэтиз')\n",
    "b = Book('Грокаем алгоритмы','Адитья Бхаргава')"
   ]
  },
  {
   "cell_type": "code",
   "execution_count": 133,
   "metadata": {},
   "outputs": [
    {
     "data": {
      "text/plain": [
       "'Изучаем Python'"
      ]
     },
     "execution_count": 133,
     "metadata": {},
     "output_type": "execute_result"
    }
   ],
   "source": [
    "a.name"
   ]
  },
  {
   "cell_type": "code",
   "execution_count": 134,
   "metadata": {},
   "outputs": [
    {
     "data": {
      "text/plain": [
       "'Книга'"
      ]
     },
     "execution_count": 134,
     "metadata": {},
     "output_type": "execute_result"
    }
   ],
   "source": [
    "a.type_element"
   ]
  },
  {
   "cell_type": "code",
   "execution_count": 135,
   "metadata": {},
   "outputs": [],
   "source": [
    "a.set_year(2020)"
   ]
  },
  {
   "cell_type": "code",
   "execution_count": 136,
   "metadata": {
    "scrolled": true
   },
   "outputs": [
    {
     "data": {
      "text/plain": [
       "2020"
      ]
     },
     "execution_count": 136,
     "metadata": {},
     "output_type": "execute_result"
    }
   ],
   "source": [
    "a.year"
   ]
  },
  {
   "cell_type": "markdown",
   "metadata": {},
   "source": [
    "Попробуем реализовать класс Книжная полка\n",
    "\n",
    "* у полки есть размер (например максимальное количество книг 5)\n",
    "* должна быть возможность:\n",
    "    - посмотреть размер полки, \n",
    "    - количество занятых мест, \n",
    "    - свободных,\n",
    "    - добавлять объекты на полку\n",
    "    - удалять\n",
    "    - вывести список книг на полке \n"
   ]
  },
  {
   "cell_type": "code",
   "execution_count": 137,
   "metadata": {
    "scrolled": true
   },
   "outputs": [],
   "source": [
    "import pandas as pd\n",
    "class Shelf:\n",
    "    \"\"\" \"\"\"\n",
    "    def __init__(self, size):\n",
    "        self.size = size\n",
    "        self.books_list = []\n",
    "        \n",
    "    def add_book(self, book):\n",
    "        self.book = book\n",
    "        if len(self.books_list) == self.size:\n",
    "            print('На полке нет места')\n",
    "        elif len(self.books_list) < self.size:                \n",
    "            self.books_list.append(book)\n",
    "    def del_book(self,book):\n",
    "        if book in self.books_list:\n",
    "            self.books_list.remove(book)\n",
    "        else:\n",
    "            print('Такой книги нет')\n",
    "            \n",
    "    def show(self):\n",
    "        dict_shelf = {}\n",
    "        for i in self.books_list:\n",
    "            if f'{i.name} {i.author}' not in dict_shelf.keys():\n",
    "                dict_shelf[f'{i.name} {i.author}'] = 1\n",
    "            else:\n",
    "                dict_shelf[f'{i.name} {i.author}'] +=1\n",
    "        return pd.Series(data = dict_shelf)\n",
    "    \n",
    "    def free(self):\n",
    "        print(f'занято {len(self.books_list)} из {self.size}')\n",
    "        "
   ]
  },
  {
   "cell_type": "code",
   "execution_count": 138,
   "metadata": {
    "scrolled": true
   },
   "outputs": [
    {
     "data": {
      "text/plain": [
       "['__add__',\n",
       " '__class__',\n",
       " '__class_getitem__',\n",
       " '__contains__',\n",
       " '__delattr__',\n",
       " '__delitem__',\n",
       " '__dir__',\n",
       " '__doc__',\n",
       " '__eq__',\n",
       " '__format__',\n",
       " '__ge__',\n",
       " '__getattribute__',\n",
       " '__getitem__',\n",
       " '__gt__',\n",
       " '__hash__',\n",
       " '__iadd__',\n",
       " '__imul__',\n",
       " '__init__',\n",
       " '__init_subclass__',\n",
       " '__iter__',\n",
       " '__le__',\n",
       " '__len__',\n",
       " '__lt__',\n",
       " '__mul__',\n",
       " '__ne__',\n",
       " '__new__',\n",
       " '__reduce__',\n",
       " '__reduce_ex__',\n",
       " '__repr__',\n",
       " '__reversed__',\n",
       " '__rmul__',\n",
       " '__setattr__',\n",
       " '__setitem__',\n",
       " '__sizeof__',\n",
       " '__str__',\n",
       " '__subclasshook__',\n",
       " 'append',\n",
       " 'clear',\n",
       " 'copy',\n",
       " 'count',\n",
       " 'extend',\n",
       " 'index',\n",
       " 'insert',\n",
       " 'pop',\n",
       " 'remove',\n",
       " 'reverse',\n",
       " 'sort']"
      ]
     },
     "execution_count": 138,
     "metadata": {},
     "output_type": "execute_result"
    }
   ],
   "source": [
    "l = [1,2,3]\n",
    "dir(l)"
   ]
  },
  {
   "cell_type": "code",
   "execution_count": 139,
   "metadata": {},
   "outputs": [],
   "source": [
    "shelf_1= Shelf(5)"
   ]
  },
  {
   "cell_type": "code",
   "execution_count": 140,
   "metadata": {},
   "outputs": [],
   "source": [
    "a = Book('Изучаем Python','Эрик Мэтиз')\n",
    "b = Book('Грокаем алгоритмы','Адитья Бхаргава')"
   ]
  },
  {
   "cell_type": "code",
   "execution_count": 141,
   "metadata": {},
   "outputs": [],
   "source": [
    "shelf_1.add_book(a)\n",
    "shelf_1.add_book(b)"
   ]
  },
  {
   "cell_type": "code",
   "execution_count": 142,
   "metadata": {},
   "outputs": [
    {
     "data": {
      "text/plain": [
       "Изучаем Python Эрик Мэтиз            1\n",
       "Грокаем алгоритмы Адитья Бхаргава    1\n",
       "dtype: int64"
      ]
     },
     "execution_count": 142,
     "metadata": {},
     "output_type": "execute_result"
    }
   ],
   "source": [
    "shelf_1.show()"
   ]
  },
  {
   "cell_type": "code",
   "execution_count": 143,
   "metadata": {
    "scrolled": true
   },
   "outputs": [
    {
     "name": "stdout",
     "output_type": "stream",
     "text": [
      "занято 2 из 5\n"
     ]
    }
   ],
   "source": [
    "shelf_1.free()"
   ]
  },
  {
   "cell_type": "code",
   "execution_count": 144,
   "metadata": {},
   "outputs": [],
   "source": [
    "shelf_1.add_book(a)"
   ]
  },
  {
   "cell_type": "code",
   "execution_count": 145,
   "metadata": {},
   "outputs": [],
   "source": [
    "shelf_1.add_book(a)"
   ]
  },
  {
   "cell_type": "code",
   "execution_count": 146,
   "metadata": {},
   "outputs": [],
   "source": [
    "shelf_1.add_book(a)"
   ]
  },
  {
   "cell_type": "code",
   "execution_count": 147,
   "metadata": {},
   "outputs": [
    {
     "name": "stdout",
     "output_type": "stream",
     "text": [
      "На полке нет места\n"
     ]
    }
   ],
   "source": [
    "shelf_1.add_book(b)"
   ]
  },
  {
   "cell_type": "code",
   "execution_count": 148,
   "metadata": {},
   "outputs": [
    {
     "name": "stdout",
     "output_type": "stream",
     "text": [
      "занято 5 из 5\n"
     ]
    }
   ],
   "source": [
    "shelf_1.free()"
   ]
  },
  {
   "cell_type": "code",
   "execution_count": 149,
   "metadata": {},
   "outputs": [
    {
     "data": {
      "text/plain": [
       "Изучаем Python Эрик Мэтиз            4\n",
       "Грокаем алгоритмы Адитья Бхаргава    1\n",
       "dtype: int64"
      ]
     },
     "execution_count": 149,
     "metadata": {},
     "output_type": "execute_result"
    }
   ],
   "source": [
    "shelf_1.show()"
   ]
  },
  {
   "cell_type": "code",
   "execution_count": 150,
   "metadata": {},
   "outputs": [
    {
     "name": "stdout",
     "output_type": "stream",
     "text": [
      "На полке нет места\n"
     ]
    }
   ],
   "source": [
    "shelf_1.add_book(a)"
   ]
  },
  {
   "cell_type": "code",
   "execution_count": 151,
   "metadata": {},
   "outputs": [],
   "source": [
    "shelf_1.del_book(Book('Изучаем Python','Эрик Мэтиз'))"
   ]
  },
  {
   "cell_type": "code",
   "execution_count": 152,
   "metadata": {
    "scrolled": true
   },
   "outputs": [
    {
     "data": {
      "text/plain": [
       "Грокаем алгоритмы Адитья Бхаргава    1\n",
       "Изучаем Python Эрик Мэтиз            3\n",
       "dtype: int64"
      ]
     },
     "execution_count": 152,
     "metadata": {},
     "output_type": "execute_result"
    }
   ],
   "source": [
    "shelf_1.show()"
   ]
  },
  {
   "cell_type": "code",
   "execution_count": 153,
   "metadata": {},
   "outputs": [
    {
     "name": "stdout",
     "output_type": "stream",
     "text": [
      "занято 4 из 5\n"
     ]
    }
   ],
   "source": [
    "shelf_1.free()"
   ]
  },
  {
   "cell_type": "code",
   "execution_count": 154,
   "metadata": {},
   "outputs": [
    {
     "data": {
      "text/plain": [
       "['__class__',\n",
       " '__delattr__',\n",
       " '__dict__',\n",
       " '__dir__',\n",
       " '__doc__',\n",
       " '__eq__',\n",
       " '__format__',\n",
       " '__ge__',\n",
       " '__getattribute__',\n",
       " '__gt__',\n",
       " '__hash__',\n",
       " '__init__',\n",
       " '__init_subclass__',\n",
       " '__le__',\n",
       " '__lt__',\n",
       " '__module__',\n",
       " '__ne__',\n",
       " '__new__',\n",
       " '__reduce__',\n",
       " '__reduce_ex__',\n",
       " '__repr__',\n",
       " '__setattr__',\n",
       " '__sizeof__',\n",
       " '__str__',\n",
       " '__subclasshook__',\n",
       " '__weakref__',\n",
       " 'add_book',\n",
       " 'book',\n",
       " 'books_list',\n",
       " 'del_book',\n",
       " 'free',\n",
       " 'show',\n",
       " 'size']"
      ]
     },
     "execution_count": 154,
     "metadata": {},
     "output_type": "execute_result"
    }
   ],
   "source": [
    "dir(shelf_1)"
   ]
  },
  {
   "cell_type": "markdown",
   "metadata": {},
   "source": [
    "# Pandas <a name=\"part4\"></a>"
   ]
  },
  {
   "cell_type": "markdown",
   "metadata": {},
   "source": [
    "* DataFrame - двумерный массив данных\n",
    "* Series - одномерный массив данных с индексацией\n",
    "\n",
    "В pandas можно открыть данные разных форматов:\n",
    "* .read_csv('data.csv') \n",
    "* .read_json('data.json')\n",
    "* .read_html(url) # url = \"https://www.fdic.gov/resources/resolutions/bank-failures/failed-bank-list\"\n",
    "* .read_excel('data.xlsx')\n",
    "* .read_pickle(\"foo.pkl\")\n",
    "\n",
    "и др.\n",
    "\n",
    "Записать данные в файлы разных форматов по аналогии \n",
    "* df.to_csv('data.csv') и т.д.\n",
    "\n",
    "[Документация pandas][1]\n",
    "[1]:[https://pandas.pydata.org/docs/index.html]\n",
    "\n"
   ]
  },
  {
   "cell_type": "code",
   "execution_count": 155,
   "metadata": {},
   "outputs": [],
   "source": [
    "#импортируем библиотеки numpyи pandas\n",
    "import numpy as np \n",
    "import pandas as pd\n",
    "\n",
    "#импортируем библиотеку datetime для работы с датами \n",
    "import datetime as dt\n",
    "from datetime import datetime, date\n",
    "\n",
    "#Задаем некоторые опции библиотеки pandas, которые настраивают вывод \n",
    "pd.set_option('display.notebook_repr_html', True)\n",
    "pd.set_option('display.max_columns', None)\n",
    "pd.set_option('display.max_rows', 10)\n",
    "pd.set_option('display.width', None)\n",
    "\n",
    "#импортируем библиотеки matplotlib и seaborn для построения графиков\n",
    "import matplotlib.pyplot as plt\n",
    "import seaborn as sns\n",
    "\n",
    "%matplotlib inline\n"
   ]
  },
  {
   "cell_type": "markdown",
   "metadata": {},
   "source": [
    "Возможности pandas на примерах\n",
    "\n",
    "[описание данных можно найти тут][1]\n",
    "[1]:[https://github.com/mwaskom/seaborn-data]"
   ]
  },
  {
   "cell_type": "code",
   "execution_count": 156,
   "metadata": {},
   "outputs": [],
   "source": [
    "taxis = sns.load_dataset(\"taxis\")"
   ]
  },
  {
   "cell_type": "code",
   "execution_count": 157,
   "metadata": {
    "scrolled": false
   },
   "outputs": [
    {
     "data": {
      "text/html": [
       "<div>\n",
       "<style scoped>\n",
       "    .dataframe tbody tr th:only-of-type {\n",
       "        vertical-align: middle;\n",
       "    }\n",
       "\n",
       "    .dataframe tbody tr th {\n",
       "        vertical-align: top;\n",
       "    }\n",
       "\n",
       "    .dataframe thead th {\n",
       "        text-align: right;\n",
       "    }\n",
       "</style>\n",
       "<table border=\"1\" class=\"dataframe\">\n",
       "  <thead>\n",
       "    <tr style=\"text-align: right;\">\n",
       "      <th></th>\n",
       "      <th>pickup</th>\n",
       "      <th>dropoff</th>\n",
       "      <th>passengers</th>\n",
       "      <th>distance</th>\n",
       "      <th>fare</th>\n",
       "      <th>tip</th>\n",
       "      <th>tolls</th>\n",
       "      <th>total</th>\n",
       "      <th>color</th>\n",
       "      <th>payment</th>\n",
       "      <th>pickup_zone</th>\n",
       "      <th>dropoff_zone</th>\n",
       "      <th>pickup_borough</th>\n",
       "      <th>dropoff_borough</th>\n",
       "    </tr>\n",
       "  </thead>\n",
       "  <tbody>\n",
       "    <tr>\n",
       "      <th>0</th>\n",
       "      <td>2019-03-23 20:21:09</td>\n",
       "      <td>2019-03-23 20:27:24</td>\n",
       "      <td>1</td>\n",
       "      <td>1.60</td>\n",
       "      <td>7.0</td>\n",
       "      <td>2.15</td>\n",
       "      <td>0.0</td>\n",
       "      <td>12.95</td>\n",
       "      <td>yellow</td>\n",
       "      <td>credit card</td>\n",
       "      <td>Lenox Hill West</td>\n",
       "      <td>UN/Turtle Bay South</td>\n",
       "      <td>Manhattan</td>\n",
       "      <td>Manhattan</td>\n",
       "    </tr>\n",
       "    <tr>\n",
       "      <th>1</th>\n",
       "      <td>2019-03-04 16:11:55</td>\n",
       "      <td>2019-03-04 16:19:00</td>\n",
       "      <td>1</td>\n",
       "      <td>0.79</td>\n",
       "      <td>5.0</td>\n",
       "      <td>0.00</td>\n",
       "      <td>0.0</td>\n",
       "      <td>9.30</td>\n",
       "      <td>yellow</td>\n",
       "      <td>cash</td>\n",
       "      <td>Upper West Side South</td>\n",
       "      <td>Upper West Side South</td>\n",
       "      <td>Manhattan</td>\n",
       "      <td>Manhattan</td>\n",
       "    </tr>\n",
       "    <tr>\n",
       "      <th>2</th>\n",
       "      <td>2019-03-27 17:53:01</td>\n",
       "      <td>2019-03-27 18:00:25</td>\n",
       "      <td>1</td>\n",
       "      <td>1.37</td>\n",
       "      <td>7.5</td>\n",
       "      <td>2.36</td>\n",
       "      <td>0.0</td>\n",
       "      <td>14.16</td>\n",
       "      <td>yellow</td>\n",
       "      <td>credit card</td>\n",
       "      <td>Alphabet City</td>\n",
       "      <td>West Village</td>\n",
       "      <td>Manhattan</td>\n",
       "      <td>Manhattan</td>\n",
       "    </tr>\n",
       "    <tr>\n",
       "      <th>3</th>\n",
       "      <td>2019-03-10 01:23:59</td>\n",
       "      <td>2019-03-10 01:49:51</td>\n",
       "      <td>1</td>\n",
       "      <td>7.70</td>\n",
       "      <td>27.0</td>\n",
       "      <td>6.15</td>\n",
       "      <td>0.0</td>\n",
       "      <td>36.95</td>\n",
       "      <td>yellow</td>\n",
       "      <td>credit card</td>\n",
       "      <td>Hudson Sq</td>\n",
       "      <td>Yorkville West</td>\n",
       "      <td>Manhattan</td>\n",
       "      <td>Manhattan</td>\n",
       "    </tr>\n",
       "    <tr>\n",
       "      <th>4</th>\n",
       "      <td>2019-03-30 13:27:42</td>\n",
       "      <td>2019-03-30 13:37:14</td>\n",
       "      <td>3</td>\n",
       "      <td>2.16</td>\n",
       "      <td>9.0</td>\n",
       "      <td>1.10</td>\n",
       "      <td>0.0</td>\n",
       "      <td>13.40</td>\n",
       "      <td>yellow</td>\n",
       "      <td>credit card</td>\n",
       "      <td>Midtown East</td>\n",
       "      <td>Yorkville West</td>\n",
       "      <td>Manhattan</td>\n",
       "      <td>Manhattan</td>\n",
       "    </tr>\n",
       "    <tr>\n",
       "      <th>5</th>\n",
       "      <td>2019-03-11 10:37:23</td>\n",
       "      <td>2019-03-11 10:47:31</td>\n",
       "      <td>1</td>\n",
       "      <td>0.49</td>\n",
       "      <td>7.5</td>\n",
       "      <td>2.16</td>\n",
       "      <td>0.0</td>\n",
       "      <td>12.96</td>\n",
       "      <td>yellow</td>\n",
       "      <td>credit card</td>\n",
       "      <td>Times Sq/Theatre District</td>\n",
       "      <td>Midtown East</td>\n",
       "      <td>Manhattan</td>\n",
       "      <td>Manhattan</td>\n",
       "    </tr>\n",
       "    <tr>\n",
       "      <th>6</th>\n",
       "      <td>2019-03-26 21:07:31</td>\n",
       "      <td>2019-03-26 21:17:29</td>\n",
       "      <td>1</td>\n",
       "      <td>3.65</td>\n",
       "      <td>13.0</td>\n",
       "      <td>2.00</td>\n",
       "      <td>0.0</td>\n",
       "      <td>18.80</td>\n",
       "      <td>yellow</td>\n",
       "      <td>credit card</td>\n",
       "      <td>Battery Park City</td>\n",
       "      <td>Two Bridges/Seward Park</td>\n",
       "      <td>Manhattan</td>\n",
       "      <td>Manhattan</td>\n",
       "    </tr>\n",
       "    <tr>\n",
       "      <th>7</th>\n",
       "      <td>2019-03-22 12:47:13</td>\n",
       "      <td>2019-03-22 12:58:17</td>\n",
       "      <td>0</td>\n",
       "      <td>1.40</td>\n",
       "      <td>8.5</td>\n",
       "      <td>0.00</td>\n",
       "      <td>0.0</td>\n",
       "      <td>11.80</td>\n",
       "      <td>yellow</td>\n",
       "      <td>NaN</td>\n",
       "      <td>Murray Hill</td>\n",
       "      <td>Flatiron</td>\n",
       "      <td>Manhattan</td>\n",
       "      <td>Manhattan</td>\n",
       "    </tr>\n",
       "    <tr>\n",
       "      <th>8</th>\n",
       "      <td>2019-03-23 11:48:50</td>\n",
       "      <td>2019-03-23 12:06:14</td>\n",
       "      <td>1</td>\n",
       "      <td>3.63</td>\n",
       "      <td>15.0</td>\n",
       "      <td>1.00</td>\n",
       "      <td>0.0</td>\n",
       "      <td>19.30</td>\n",
       "      <td>yellow</td>\n",
       "      <td>credit card</td>\n",
       "      <td>East Harlem South</td>\n",
       "      <td>Midtown Center</td>\n",
       "      <td>Manhattan</td>\n",
       "      <td>Manhattan</td>\n",
       "    </tr>\n",
       "    <tr>\n",
       "      <th>9</th>\n",
       "      <td>2019-03-08 16:18:37</td>\n",
       "      <td>2019-03-08 16:26:57</td>\n",
       "      <td>1</td>\n",
       "      <td>1.52</td>\n",
       "      <td>8.0</td>\n",
       "      <td>1.00</td>\n",
       "      <td>0.0</td>\n",
       "      <td>13.30</td>\n",
       "      <td>yellow</td>\n",
       "      <td>credit card</td>\n",
       "      <td>Lincoln Square East</td>\n",
       "      <td>Central Park</td>\n",
       "      <td>Manhattan</td>\n",
       "      <td>Manhattan</td>\n",
       "    </tr>\n",
       "  </tbody>\n",
       "</table>\n",
       "</div>"
      ],
      "text/plain": [
       "                pickup              dropoff  passengers  distance  fare   tip  \\\n",
       "0  2019-03-23 20:21:09  2019-03-23 20:27:24           1      1.60   7.0  2.15   \n",
       "1  2019-03-04 16:11:55  2019-03-04 16:19:00           1      0.79   5.0  0.00   \n",
       "2  2019-03-27 17:53:01  2019-03-27 18:00:25           1      1.37   7.5  2.36   \n",
       "3  2019-03-10 01:23:59  2019-03-10 01:49:51           1      7.70  27.0  6.15   \n",
       "4  2019-03-30 13:27:42  2019-03-30 13:37:14           3      2.16   9.0  1.10   \n",
       "5  2019-03-11 10:37:23  2019-03-11 10:47:31           1      0.49   7.5  2.16   \n",
       "6  2019-03-26 21:07:31  2019-03-26 21:17:29           1      3.65  13.0  2.00   \n",
       "7  2019-03-22 12:47:13  2019-03-22 12:58:17           0      1.40   8.5  0.00   \n",
       "8  2019-03-23 11:48:50  2019-03-23 12:06:14           1      3.63  15.0  1.00   \n",
       "9  2019-03-08 16:18:37  2019-03-08 16:26:57           1      1.52   8.0  1.00   \n",
       "\n",
       "   tolls  total   color      payment                pickup_zone  \\\n",
       "0    0.0  12.95  yellow  credit card            Lenox Hill West   \n",
       "1    0.0   9.30  yellow         cash      Upper West Side South   \n",
       "2    0.0  14.16  yellow  credit card              Alphabet City   \n",
       "3    0.0  36.95  yellow  credit card                  Hudson Sq   \n",
       "4    0.0  13.40  yellow  credit card               Midtown East   \n",
       "5    0.0  12.96  yellow  credit card  Times Sq/Theatre District   \n",
       "6    0.0  18.80  yellow  credit card          Battery Park City   \n",
       "7    0.0  11.80  yellow          NaN                Murray Hill   \n",
       "8    0.0  19.30  yellow  credit card          East Harlem South   \n",
       "9    0.0  13.30  yellow  credit card        Lincoln Square East   \n",
       "\n",
       "              dropoff_zone pickup_borough dropoff_borough  \n",
       "0      UN/Turtle Bay South      Manhattan       Manhattan  \n",
       "1    Upper West Side South      Manhattan       Manhattan  \n",
       "2             West Village      Manhattan       Manhattan  \n",
       "3           Yorkville West      Manhattan       Manhattan  \n",
       "4           Yorkville West      Manhattan       Manhattan  \n",
       "5             Midtown East      Manhattan       Manhattan  \n",
       "6  Two Bridges/Seward Park      Manhattan       Manhattan  \n",
       "7                 Flatiron      Manhattan       Manhattan  \n",
       "8           Midtown Center      Manhattan       Manhattan  \n",
       "9             Central Park      Manhattan       Manhattan  "
      ]
     },
     "execution_count": 157,
     "metadata": {},
     "output_type": "execute_result"
    }
   ],
   "source": [
    "taxis.head(10)"
   ]
  },
  {
   "cell_type": "code",
   "execution_count": 158,
   "metadata": {
    "scrolled": true
   },
   "outputs": [
    {
     "name": "stdout",
     "output_type": "stream",
     "text": [
      "<class 'pandas.core.frame.DataFrame'>\n",
      "RangeIndex: 6433 entries, 0 to 6432\n",
      "Data columns (total 14 columns):\n",
      " #   Column           Non-Null Count  Dtype  \n",
      "---  ------           --------------  -----  \n",
      " 0   pickup           6433 non-null   object \n",
      " 1   dropoff          6433 non-null   object \n",
      " 2   passengers       6433 non-null   int64  \n",
      " 3   distance         6433 non-null   float64\n",
      " 4   fare             6433 non-null   float64\n",
      " 5   tip              6433 non-null   float64\n",
      " 6   tolls            6433 non-null   float64\n",
      " 7   total            6433 non-null   float64\n",
      " 8   color            6433 non-null   object \n",
      " 9   payment          6389 non-null   object \n",
      " 10  pickup_zone      6407 non-null   object \n",
      " 11  dropoff_zone     6388 non-null   object \n",
      " 12  pickup_borough   6407 non-null   object \n",
      " 13  dropoff_borough  6388 non-null   object \n",
      "dtypes: float64(5), int64(1), object(8)\n",
      "memory usage: 703.7+ KB\n"
     ]
    }
   ],
   "source": [
    "taxis.info()"
   ]
  },
  {
   "cell_type": "code",
   "execution_count": 159,
   "metadata": {
    "scrolled": true
   },
   "outputs": [
    {
     "name": "stdout",
     "output_type": "stream",
     "text": [
      "payment\n",
      "['credit card' 'cash' nan]\n",
      "\n",
      "pickup_zone\n",
      "['Lenox Hill West' 'Upper West Side South' 'Alphabet City' 'Hudson Sq'\n",
      " 'Midtown East' 'Times Sq/Theatre District' 'Battery Park City'\n",
      " 'Murray Hill' 'East Harlem South' 'Lincoln Square East'\n",
      " 'LaGuardia Airport' 'Lincoln Square West' 'Financial District North'\n",
      " 'Upper West Side North' 'East Chelsea' 'Midtown Center' 'Gramercy'\n",
      " 'Penn Station/Madison Sq West' 'Sutton Place/Turtle Bay North'\n",
      " 'West Chelsea/Hudson Yards' 'Clinton East' 'Clinton West'\n",
      " 'UN/Turtle Bay South' 'Midtown South' 'Midtown North' 'Garment District'\n",
      " 'Lenox Hill East' 'Flatiron' 'TriBeCa/Civic Center' nan\n",
      " 'Upper East Side North' 'West Village' 'Greenwich Village South'\n",
      " 'JFK Airport' 'East Village' 'Union Sq' 'Yorkville West' 'Central Park'\n",
      " 'Meatpacking/West Village West' 'Kips Bay' 'Morningside Heights'\n",
      " 'Astoria' 'East Tremont' 'Upper East Side South'\n",
      " 'Financial District South' 'Bloomingdale' 'Queensboro Hill' 'SoHo'\n",
      " 'Brooklyn Heights' 'Yorkville East' 'Manhattan Valley'\n",
      " 'DUMBO/Vinegar Hill' 'Little Italy/NoLiTa' 'Mott Haven/Port Morris'\n",
      " 'Greenwich Village North' 'Stuyvesant Heights' 'Lower East Side'\n",
      " 'East Harlem North' 'Chinatown' 'Fort Greene' 'Steinway' 'Central Harlem'\n",
      " 'Crown Heights North' 'Seaport' 'Two Bridges/Seward Park' 'Boerum Hill'\n",
      " 'Williamsburg (South Side)' 'Rosedale' 'Flushing' 'Old Astoria'\n",
      " 'Soundview/Castle Hill' 'Stuy Town/Peter Cooper Village'\n",
      " 'World Trade Center' 'Sunnyside' 'Washington Heights South'\n",
      " 'Prospect Heights' 'East New York' 'Hamilton Heights' 'Cobble Hill'\n",
      " 'Long Island City/Queens Plaza' 'Central Harlem North' 'Manhattanville'\n",
      " 'East Flatbush/Farragut' 'Elmhurst' 'East Concourse/Concourse Village'\n",
      " 'Park Slope' 'Greenpoint' 'Williamsburg (North Side)'\n",
      " 'Long Island City/Hunters Point' 'South Ozone Park' 'Ridgewood'\n",
      " 'Downtown Brooklyn/MetroTech' 'Queensbridge/Ravenswood'\n",
      " 'Williamsbridge/Olinville' 'Bedford' 'Gowanus' 'Jackson Heights'\n",
      " 'South Jamaica' 'Bushwick North' 'West Concourse' 'Queens Village'\n",
      " 'Windsor Terrace' 'Flatlands' 'Van Cortlandt Village' 'Woodside'\n",
      " 'East Williamsburg' 'Fordham South' 'East Elmhurst' 'Kew Gardens'\n",
      " 'Flushing Meadows-Corona Park' 'Marine Park/Mill Basin' 'Carroll Gardens'\n",
      " 'Canarsie' 'East Flatbush/Remsen Village' 'Jamaica' 'Marble Hill'\n",
      " 'Bushwick South' 'Erasmus' 'Claremont/Bathgate' 'Pelham Bay'\n",
      " 'Soundview/Bruckner' 'South Williamsburg' 'Battery Park' 'Forest Hills'\n",
      " 'Maspeth' 'Bronx Park' 'Starrett City' 'Brighton Beach' 'Brownsville'\n",
      " 'Highbridge Park' 'Bensonhurst East' 'Mount Hope'\n",
      " 'Prospect-Lefferts Gardens' 'Bayside' 'Douglaston' 'Midwood'\n",
      " 'North Corona' 'Homecrest' 'Westchester Village/Unionport'\n",
      " 'University Heights/Morris Heights' 'Inwood' 'Washington Heights North'\n",
      " 'Flatbush/Ditmas Park' 'Rego Park' 'Riverdale/North Riverdale/Fieldston'\n",
      " 'Jamaica Estates' 'Borough Park' 'Sunset Park West' 'Belmont'\n",
      " 'Auburndale' 'Schuylerville/Edgewater Park' 'Co-Op City'\n",
      " 'Crown Heights South' 'Spuyten Duyvil/Kingsbridge' 'Morrisania/Melrose'\n",
      " 'Hollis' 'Parkchester' 'Coney Island' 'East Flushing' 'Richmond Hill'\n",
      " 'Bedford Park' 'Highbridge' 'Clinton Hill' 'Sheepshead Bay' 'Madison'\n",
      " 'Dyker Heights' 'Cambria Heights' 'Pelham Parkway' 'Hunts Point'\n",
      " 'Melrose South' 'Springfield Gardens North' 'Bay Ridge'\n",
      " 'Elmhurst/Maspeth' 'Crotona Park East' 'Bronxdale'\n",
      " 'Briarwood/Jamaica Hills' 'Van Nest/Morris Park' 'Murray Hill-Queens'\n",
      " 'Kingsbridge Heights' 'Whitestone' 'Saint Albans'\n",
      " 'Allerton/Pelham Gardens' 'Howard Beach' 'Norwood' 'Bensonhurst West'\n",
      " 'Columbia Street' 'Middle Village' 'Prospect Park' 'Ozone Park'\n",
      " 'Gravesend' 'Glendale' 'Kew Gardens Hills' 'Woodlawn/Wakefield'\n",
      " 'West Farms/Bronx River' 'Hillcrest/Pomonok']\n",
      "\n",
      "dropoff_zone\n",
      "['UN/Turtle Bay South' 'Upper West Side South' 'West Village'\n",
      " 'Yorkville West' 'Midtown East' 'Two Bridges/Seward Park' 'Flatiron'\n",
      " 'Midtown Center' 'Central Park' 'Astoria' 'Manhattan Valley'\n",
      " 'Times Sq/Theatre District' 'Clinton East'\n",
      " 'Meatpacking/West Village West' 'East Harlem South' 'East Chelsea'\n",
      " 'Kips Bay' 'Murray Hill' 'Sutton Place/Turtle Bay North' 'Midtown North'\n",
      " 'Gramercy' 'Midtown South' 'Seaport' 'Lenox Hill West'\n",
      " 'East Harlem North' 'Garment District' 'West Chelsea/Hudson Yards'\n",
      " 'Clinton West' 'Lenox Hill East' 'Carroll Gardens' nan\n",
      " 'Washington Heights South' 'Battery Park City'\n",
      " 'Penn Station/Madison Sq West' 'Union Sq' 'Sunnyside'\n",
      " 'Lincoln Square West' 'Upper East Side North' 'Financial District North'\n",
      " 'Lower East Side' 'Yorkville East' 'Upper West Side North'\n",
      " 'Jackson Heights' 'Upper East Side South' 'Chinatown'\n",
      " 'Stuy Town/Peter Cooper Village' 'Morningside Heights'\n",
      " 'Lincoln Square East' 'Little Italy/NoLiTa' 'Downtown Brooklyn/MetroTech'\n",
      " 'DUMBO/Vinegar Hill' 'Greenwich Village South' 'LaGuardia Airport'\n",
      " 'East Village' 'JFK Airport' 'Marble Hill' 'Greenwich Village North'\n",
      " 'Williamsburg (North Side)' 'Brooklyn Heights'\n",
      " 'Riverdale/North Riverdale/Fieldston' 'Steinway' 'Sheepshead Bay'\n",
      " 'Crown Heights North' 'TriBeCa/Civic Center' 'Midwood' 'Alphabet City'\n",
      " 'Boerum Hill' 'Financial District South' 'Cypress Hills' 'Park Slope'\n",
      " 'Central Harlem' 'North Corona' 'Greenpoint'\n",
      " 'Long Island City/Hunters Point' 'Hillcrest/Pomonok' 'Bloomingdale'\n",
      " 'Baisley Park' 'Crown Heights South' 'Soundview/Castle Hill'\n",
      " 'World Trade Center' 'Randalls Island' 'Melrose South' 'Columbia Street'\n",
      " 'Williamsburg (South Side)' 'SoHo' 'Hudson Sq' 'Fort Greene'\n",
      " 'Cobble Hill' 'Clinton Hill' 'Central Harlem North' 'East Flushing'\n",
      " 'Old Astoria' 'Forest Hills' 'Briarwood/Jamaica Hills' 'East New York'\n",
      " 'Ridgewood' 'Elmhurst' 'East Williamsburg' 'Williamsbridge/Olinville'\n",
      " 'University Heights/Morris Heights' 'Bushwick South'\n",
      " 'Flushing Meadows-Corona Park' 'Long Island City/Queens Plaza'\n",
      " 'Manhattanville' 'Elmhurst/Maspeth' 'Inwood' 'Woodhaven'\n",
      " 'Hamilton Heights' 'Middle Village' 'Prospect Heights' 'Richmond Hill'\n",
      " 'Mount Hope' 'Bushwick North' 'Canarsie' 'Gowanus'\n",
      " 'Washington Heights North' 'Westchester Village/Unionport'\n",
      " 'Queens Village' 'Woodside' 'Bedford' 'Highbridge' 'Stuyvesant Heights'\n",
      " 'Queensbridge/Ravenswood' 'East Flatbush/Farragut'\n",
      " 'Mott Haven/Port Morris' 'Prospect-Lefferts Gardens' 'Sunset Park West'\n",
      " 'South Jamaica' 'Howard Beach' 'South Williamsburg' 'Woodlawn/Wakefield'\n",
      " 'Rego Park' 'West Concourse' 'Manhattan Beach' 'Battery Park' 'Bronxdale'\n",
      " 'West Brighton' 'Flatlands' 'Glendale' 'East Concourse/Concourse Village'\n",
      " 'Ozone Park' 'South Ozone Park' 'Norwood' 'Parkchester' 'East Tremont'\n",
      " 'Douglaston' 'Windsor Terrace' 'Bensonhurst West' 'Kew Gardens'\n",
      " 'Flatbush/Ditmas Park' 'Starrett City' 'Roosevelt Island' 'Bay Ridge'\n",
      " 'Saint Albans' 'Pelham Parkway' 'Prospect Park' 'Jamaica'\n",
      " 'Murray Hill-Queens' 'Stapleton' 'Maspeth' 'Dyker Heights'\n",
      " 'Allerton/Pelham Gardens' 'Co-Op City' 'Belmont' 'Bensonhurst East'\n",
      " 'Kew Gardens Hills' 'Crotona Park East' 'Van Cortlandt Village'\n",
      " 'Springfield Gardens South' 'Corona' 'Brownsville' 'Red Hook' 'Bayside'\n",
      " 'Van Nest/Morris Park' 'Gravesend' 'Oakland Gardens' 'Claremont/Bathgate'\n",
      " 'Ocean Hill' 'Brighton Beach' 'Spuyten Duyvil/Kingsbridge'\n",
      " 'Kingsbridge Heights' 'Soundview/Bruckner' 'Fresh Meadows'\n",
      " 'East Elmhurst' 'Hunts Point' 'Cambria Heights' 'Whitestone'\n",
      " 'East Flatbush/Remsen Village' 'Rosedale' 'Inwood Hill Park'\n",
      " 'Bedford Park' 'Jamaica Estates' 'Borough Park' 'Flushing' 'Auburndale'\n",
      " 'Bath Beach' 'Queensboro Hill' 'Morrisania/Melrose' 'Madison' 'Homecrest'\n",
      " 'Eastchester' 'College Point' 'Brooklyn Navy Yard'\n",
      " 'Marine Park/Mill Basin']\n",
      "\n",
      "pickup_borough\n",
      "['Manhattan' 'Queens' nan 'Bronx' 'Brooklyn']\n",
      "\n",
      "dropoff_borough\n",
      "['Manhattan' 'Queens' 'Brooklyn' nan 'Bronx' 'Staten Island']\n",
      "\n"
     ]
    }
   ],
   "source": [
    "for i in ['payment','pickup_zone', 'dropoff_zone',\n",
    "       'pickup_borough', 'dropoff_borough']:\n",
    "    print(i)\n",
    "    print(taxis[i].unique())\n",
    "    print()"
   ]
  },
  {
   "cell_type": "code",
   "execution_count": 160,
   "metadata": {},
   "outputs": [
    {
     "name": "stdout",
     "output_type": "stream",
     "text": [
      "\" payment \"\n",
      "credit card    4577\n",
      "cash           1812\n",
      "Name: payment, dtype: int64\n",
      "NaN 44\n",
      "\n",
      "\" pickup_zone \"\n",
      "Midtown Center                         230\n",
      "Upper East Side South                  211\n",
      "Penn Station/Madison Sq West           210\n",
      "Clinton East                           208\n",
      "Midtown East                           198\n",
      "                                      ... \n",
      "Homecrest                                1\n",
      "Bedford Park                             1\n",
      "Riverdale/North Riverdale/Fieldston      1\n",
      "Hollis                                   1\n",
      "Hillcrest/Pomonok                        1\n",
      "Name: pickup_zone, Length: 194, dtype: int64\n",
      "NaN 26\n",
      "\n",
      "\" dropoff_zone \"\n",
      "Upper East Side North        245\n",
      "Murray Hill                  220\n",
      "Midtown Center               215\n",
      "Upper East Side South        177\n",
      "Midtown East                 176\n",
      "                            ... \n",
      "Bensonhurst East               1\n",
      "Springfield Gardens South      1\n",
      "East Flushing                  1\n",
      "Brighton Beach                 1\n",
      "Ozone Park                     1\n",
      "Name: dropoff_zone, Length: 203, dtype: int64\n",
      "NaN 45\n",
      "\n",
      "\" pickup_borough \"\n",
      "Manhattan    5268\n",
      "Queens        657\n",
      "Brooklyn      383\n",
      "Bronx          99\n",
      "Name: pickup_borough, dtype: int64\n",
      "NaN 26\n",
      "\n",
      "\" dropoff_borough \"\n",
      "Manhattan        5206\n",
      "Queens            542\n",
      "Brooklyn          501\n",
      "Bronx             137\n",
      "Staten Island       2\n",
      "Name: dropoff_borough, dtype: int64\n",
      "NaN 45\n",
      "\n"
     ]
    }
   ],
   "source": [
    "for i in ['payment','pickup_zone', 'dropoff_zone',\n",
    "       'pickup_borough', 'dropoff_borough']:\n",
    "    print('\\\"',i,'\\\"')\n",
    "    print(taxis[i].value_counts())\n",
    "    print('NaN',taxis[i].isnull().sum())\n",
    "    print()"
   ]
  },
  {
   "cell_type": "code",
   "execution_count": 161,
   "metadata": {
    "scrolled": true
   },
   "outputs": [
    {
     "data": {
      "text/plain": [
       "Index(['pickup', 'dropoff', 'passengers', 'distance', 'fare', 'tip', 'tolls',\n",
       "       'total', 'color', 'payment', 'pickup_zone', 'dropoff_zone',\n",
       "       'pickup_borough', 'dropoff_borough'],\n",
       "      dtype='object')"
      ]
     },
     "execution_count": 161,
     "metadata": {},
     "output_type": "execute_result"
    }
   ],
   "source": [
    "taxis.columns"
   ]
  },
  {
   "cell_type": "markdown",
   "metadata": {},
   "source": [
    "**.apply() аналог map() в pandas**"
   ]
  },
  {
   "cell_type": "code",
   "execution_count": null,
   "metadata": {},
   "outputs": [],
   "source": []
  },
  {
   "cell_type": "markdown",
   "metadata": {},
   "source": [
    "### Запуск Python в терминале "
   ]
  },
  {
   "cell_type": "code",
   "execution_count": null,
   "metadata": {
    "scrolled": false
   },
   "outputs": [],
   "source": [
    "!python --version"
   ]
  },
  {
   "cell_type": "code",
   "execution_count": null,
   "metadata": {},
   "outputs": [],
   "source": [
    ">>> Python\n",
    ">>> print('Hello world!')\n",
    ">>> exit() "
   ]
  },
  {
   "cell_type": "code",
   "execution_count": 163,
   "metadata": {
    "scrolled": false
   },
   "outputs": [
    {
     "name": "stdout",
     "output_type": "stream",
     "text": [
      "The Zen of Python, by Tim Peters\n",
      "\n",
      "Beautiful is better than ugly.\n",
      "Explicit is better than implicit.\n",
      "Simple is better than complex.\n",
      "Complex is better than complicated.\n",
      "Flat is better than nested.\n",
      "Sparse is better than dense.\n",
      "Readability counts.\n",
      "Special cases aren't special enough to break the rules.\n",
      "Although practicality beats purity.\n",
      "Errors should never pass silently.\n",
      "Unless explicitly silenced.\n",
      "In the face of ambiguity, refuse the temptation to guess.\n",
      "There should be one-- and preferably only one --obvious way to do it.\n",
      "Although that way may not be obvious at first unless you're Dutch.\n",
      "Now is better than never.\n",
      "Although never is often better than *right* now.\n",
      "If the implementation is hard to explain, it's a bad idea.\n",
      "If the implementation is easy to explain, it may be a good idea.\n",
      "Namespaces are one honking great idea -- let's do more of those!\n"
     ]
    }
   ],
   "source": [
    "import this"
   ]
  },
  {
   "cell_type": "code",
   "execution_count": null,
   "metadata": {},
   "outputs": [],
   "source": []
  },
  {
   "cell_type": "code",
   "execution_count": null,
   "metadata": {},
   "outputs": [],
   "source": []
  },
  {
   "cell_type": "code",
   "execution_count": null,
   "metadata": {},
   "outputs": [],
   "source": []
  }
 ],
 "metadata": {
  "kernelspec": {
   "display_name": "Python 3 (ipykernel)",
   "language": "python",
   "name": "python3"
  },
  "language_info": {
   "codemirror_mode": {
    "name": "ipython",
    "version": 3
   },
   "file_extension": ".py",
   "mimetype": "text/x-python",
   "name": "python",
   "nbconvert_exporter": "python",
   "pygments_lexer": "ipython3",
   "version": "3.9.7"
  }
 },
 "nbformat": 4,
 "nbformat_minor": 2
}
