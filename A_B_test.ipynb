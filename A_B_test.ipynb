{
 "cells": [
  {
   "cell_type": "markdown",
   "id": "861178eb",
   "metadata": {},
   "source": [
    "Краткое описание игры\n",
    "Cradle of Empires – это успешная казуальная free-2play игра для мобильных\n",
    "устройств, стоящая на стыке трех жанров: Match-3, City Builder, Adventure. Ниже\n",
    "насколько возможно кратко (полное описание могло бы занять несколько\n",
    "страниц) описаны некоторые точки игровой механики.\n",
    "Играя в уровни Match-3 игрок получает ресурсы (золото, еда, материалы),\n",
    "которые может потратить на строительство или улучшение новых зданий,\n",
    "которые, в свою очередь, открывают доступ к новым уровням, возможностям,\n",
    "бонусам.\n",
    "Кроме того, ресурсы могут быть потрачены на заказы сделок в тотемах, которые\n",
    "дают игроку бонусы определенных видов (Молоток, Миксер, Молния и т.д.).\n",
    "Кроме бонусов из тотемов, в игре присутствуют другие виды игровых сущностей,\n",
    "призванных облегчить игроку прогресс по игре (идолы, амулеты и т.д.).\n",
    "Движение игрока по игре направляется квестовой системой, в основе которой\n",
    "лежит сбор различных предметов, которые также получаются за успешное\n",
    "прохождение уровней. Предметы используются при сборе коллекций.\n",
    "В игре присутствует премиальная валюта – кристаллы, которые могут быть\n",
    "потрачены на ускорение большинства игровых действий, покупку игровых\n",
    "сущностей и т.д.\n",
    "\n",
    "**Суть задания**\n",
    "\n",
    "\n",
    "В документе, прилагаемом к заданию представлены данные по набору\n",
    "показателей из двух версий игры. Данные собраны за сопоставимые по\n",
    "продолжительности периоды и по сопоставимым по размеру группам игроков.\n",
    "Версия 1.0 отличается от версии 2.0 лишь одним параметром – скоростью\n",
    "производства бонусов в тотемах (тотемы представляют собой источник\n",
    "бесплатных бонусов для игрока. Бонусы производятся в тотеме за счёт ресурсов, в\n",
    "текущей версии Cradle of Empires, которую можно скачать со сторов, доступны с\n",
    "11 уровня славы, раньше, в анализируемых версиях v1 и v2, были доступны с 4\n",
    "уровня). Остальные параметры игры изменены не были.\n",
    "На базе представленных данных требуется составить аналитическую записку,\n",
    "которая бы отвечала на следующие вопросы:\n",
    "* Какое влияние произведенное изменение оказало на игру в целом? Было\n",
    "ли оно положительным или отрицательным? Обоснуйте свой ответ.\n",
    "* На какие игровые показатели изменение скорости производства бонусов\n",
    "в тотемах оказало наибольшее влияние и почему? Сформулируйте и\n",
    "обоснуйте гипотезы, которые бы освещали возможные причины такого\n",
    "влияния. Рассматривать все взаимосвязи необязательно – только те,\n",
    "которые вы посчитаете наиболее значимыми.\n",
    "* Есть ли на рассматриваемом игровом промежутке проблемы,\n",
    "требующие решения разработчиков? Что на Ваш взгляд можно было бы\n",
    "и изменить и как?\n",
    "* Какие еще данные помогли бы Вам лучше разобраться в игре, ее\n",
    "проблемах, просто стоят внимания с Вашей точки зрения? Почему?\n",
    "\n",
    "\n",
    "Кроме того, Вы вольны осветить и другие вопросы, если посчитаете их стоящими\n",
    "внимания.\n",
    "Формат оформления записки свободный.\n",
    "Приветствуется применение математического и статистического аппарата\n",
    "(например, регрессионного анализа или других релевантных задаче методов), а\n",
    "также применение соответствующего задаче инструментария (например, R,\n",
    "Python). Написанные скрипты можно приложить к Вашему решению. В целом, чем\n",
    "шире вы покажете свои способности в обозначенных областях, тем лучше."
   ]
  },
  {
   "cell_type": "markdown",
   "id": "203d929f",
   "metadata": {},
   "source": [
    "Краткое описание данных Данные представлены в формате CSV и требуют небольшой первичной обработки. Данные не из игры, однако сфабрикованы на их базе.\n",
    "\n",
    "* Version – версия игры \n",
    "* Id – внутри-игровой уникальный идентификатор пользователя\n",
    "* Level – уровень славы (аналог уровней опыта в других играх)\n",
    "* M3 start – количество стартов macth-3 уровней\n",
    "* M3 finish – количество успешных завершений match-3 уровней\n",
    "* Crystal free – количество кристаллов, полученное из бесплатных источников (просмотр рекламы, ежедневные награды)\n",
    "* Get gold – сумма полученного за уровень золота \n",
    "* Get food – сумма полученной за уровень еды\n",
    "* Get stuff – сумма полученных за уровень материалов\n",
    "* Buy gold – сумма купленного за премиум-валюту золота\n",
    "* Buy food – сумма купленной за премиум-валюту еды\n",
    "* Buy stuff – сумма купленных за премиум-валюту материалов\n",
    "* Get bonus – количество полученных из тотемов бонусов\n",
    "* Buy bonus – количество купленных за премиум-валюту бонусов\n",
    "* Quest complete – количество выполненных квестов\n",
    "* Buy energy – количество купленных за премиум-валюту энергетиков\n",
    "* Buy charge – количество купленных за премиум-валюту зарядок\n",
    "* Buy amulet – количество купленных за премиум-валюту амулетов (свитков с заклинаниями)\n",
    "* Collection complete – количество заряженных коллекций (для зарядки которых необходимы такие предметы как "
   ]
  },
  {
   "cell_type": "code",
   "execution_count": 1,
   "id": "a13fd028",
   "metadata": {},
   "outputs": [],
   "source": [
    "import pandas as pd"
   ]
  },
  {
   "cell_type": "markdown",
   "id": "4d5ad8e2",
   "metadata": {},
   "source": [
    "* H0 - средние равны\n",
    "* H1 - средние не равны"
   ]
  },
  {
   "cell_type": "code",
   "execution_count": 2,
   "id": "8853caa3",
   "metadata": {},
   "outputs": [],
   "source": [
    "df = pd.read_csv('Game Analyst.csv')"
   ]
  },
  {
   "cell_type": "code",
   "execution_count": 3,
   "id": "7548eff4",
   "metadata": {},
   "outputs": [
    {
     "data": {
      "text/html": [
       "<div>\n",
       "<style scoped>\n",
       "    .dataframe tbody tr th:only-of-type {\n",
       "        vertical-align: middle;\n",
       "    }\n",
       "\n",
       "    .dataframe tbody tr th {\n",
       "        vertical-align: top;\n",
       "    }\n",
       "\n",
       "    .dataframe thead th {\n",
       "        text-align: right;\n",
       "    }\n",
       "</style>\n",
       "<table border=\"1\" class=\"dataframe\">\n",
       "  <thead>\n",
       "    <tr style=\"text-align: right;\">\n",
       "      <th></th>\n",
       "      <th>Version</th>\n",
       "      <th>id</th>\n",
       "      <th>Level</th>\n",
       "      <th>M3 start</th>\n",
       "      <th>M3 finish</th>\n",
       "      <th>Crystall free</th>\n",
       "      <th>Get gold</th>\n",
       "      <th>Get food</th>\n",
       "      <th>Get stuff</th>\n",
       "      <th>Buy gold</th>\n",
       "      <th>Buy food</th>\n",
       "      <th>Buy stuff</th>\n",
       "      <th>Get bonus</th>\n",
       "      <th>Buy bonus</th>\n",
       "      <th>Quest complete</th>\n",
       "      <th>Buy energy</th>\n",
       "      <th>Buy charge</th>\n",
       "      <th>Buy amulet</th>\n",
       "      <th>Collection complete</th>\n",
       "    </tr>\n",
       "  </thead>\n",
       "  <tbody>\n",
       "    <tr>\n",
       "      <th>0</th>\n",
       "      <td>v2</td>\n",
       "      <td>958203</td>\n",
       "      <td>1</td>\n",
       "      <td>5</td>\n",
       "      <td>5</td>\n",
       "      <td>5</td>\n",
       "      <td>1069</td>\n",
       "      <td>0</td>\n",
       "      <td>0</td>\n",
       "      <td>0</td>\n",
       "      <td>0</td>\n",
       "      <td>0</td>\n",
       "      <td>0</td>\n",
       "      <td>0</td>\n",
       "      <td>2</td>\n",
       "      <td>0</td>\n",
       "      <td>0</td>\n",
       "      <td>0</td>\n",
       "      <td>0</td>\n",
       "    </tr>\n",
       "    <tr>\n",
       "      <th>1</th>\n",
       "      <td>v1</td>\n",
       "      <td>519908</td>\n",
       "      <td>10</td>\n",
       "      <td>184</td>\n",
       "      <td>156</td>\n",
       "      <td>19</td>\n",
       "      <td>57252</td>\n",
       "      <td>28704</td>\n",
       "      <td>25584</td>\n",
       "      <td>1145</td>\n",
       "      <td>861</td>\n",
       "      <td>512</td>\n",
       "      <td>76</td>\n",
       "      <td>9</td>\n",
       "      <td>16</td>\n",
       "      <td>4</td>\n",
       "      <td>12</td>\n",
       "      <td>6</td>\n",
       "      <td>4</td>\n",
       "    </tr>\n",
       "    <tr>\n",
       "      <th>2</th>\n",
       "      <td>v2</td>\n",
       "      <td>888712</td>\n",
       "      <td>7</td>\n",
       "      <td>93</td>\n",
       "      <td>78</td>\n",
       "      <td>17</td>\n",
       "      <td>30186</td>\n",
       "      <td>8112</td>\n",
       "      <td>5928</td>\n",
       "      <td>1207</td>\n",
       "      <td>406</td>\n",
       "      <td>59</td>\n",
       "      <td>10</td>\n",
       "      <td>27</td>\n",
       "      <td>13</td>\n",
       "      <td>6</td>\n",
       "      <td>4</td>\n",
       "      <td>5</td>\n",
       "      <td>3</td>\n",
       "    </tr>\n",
       "    <tr>\n",
       "      <th>3</th>\n",
       "      <td>v1</td>\n",
       "      <td>571031</td>\n",
       "      <td>4</td>\n",
       "      <td>38</td>\n",
       "      <td>32</td>\n",
       "      <td>11</td>\n",
       "      <td>6784</td>\n",
       "      <td>1184</td>\n",
       "      <td>1768</td>\n",
       "      <td>271</td>\n",
       "      <td>83</td>\n",
       "      <td>0</td>\n",
       "      <td>16</td>\n",
       "      <td>6</td>\n",
       "      <td>10</td>\n",
       "      <td>0</td>\n",
       "      <td>3</td>\n",
       "      <td>0</td>\n",
       "      <td>2</td>\n",
       "    </tr>\n",
       "    <tr>\n",
       "      <th>4</th>\n",
       "      <td>v2</td>\n",
       "      <td>911796</td>\n",
       "      <td>3</td>\n",
       "      <td>27</td>\n",
       "      <td>26</td>\n",
       "      <td>9</td>\n",
       "      <td>4966</td>\n",
       "      <td>780</td>\n",
       "      <td>0</td>\n",
       "      <td>248</td>\n",
       "      <td>47</td>\n",
       "      <td>0</td>\n",
       "      <td>0</td>\n",
       "      <td>5</td>\n",
       "      <td>4</td>\n",
       "      <td>1</td>\n",
       "      <td>0</td>\n",
       "      <td>0</td>\n",
       "      <td>0</td>\n",
       "    </tr>\n",
       "    <tr>\n",
       "      <th>...</th>\n",
       "      <td>...</td>\n",
       "      <td>...</td>\n",
       "      <td>...</td>\n",
       "      <td>...</td>\n",
       "      <td>...</td>\n",
       "      <td>...</td>\n",
       "      <td>...</td>\n",
       "      <td>...</td>\n",
       "      <td>...</td>\n",
       "      <td>...</td>\n",
       "      <td>...</td>\n",
       "      <td>...</td>\n",
       "      <td>...</td>\n",
       "      <td>...</td>\n",
       "      <td>...</td>\n",
       "      <td>...</td>\n",
       "      <td>...</td>\n",
       "      <td>...</td>\n",
       "      <td>...</td>\n",
       "    </tr>\n",
       "    <tr>\n",
       "      <th>4355</th>\n",
       "      <td>v1</td>\n",
       "      <td>600309</td>\n",
       "      <td>5</td>\n",
       "      <td>92</td>\n",
       "      <td>51</td>\n",
       "      <td>10</td>\n",
       "      <td>14943</td>\n",
       "      <td>5049</td>\n",
       "      <td>2397</td>\n",
       "      <td>598</td>\n",
       "      <td>252</td>\n",
       "      <td>96</td>\n",
       "      <td>23</td>\n",
       "      <td>23</td>\n",
       "      <td>9</td>\n",
       "      <td>5</td>\n",
       "      <td>3</td>\n",
       "      <td>2</td>\n",
       "      <td>1</td>\n",
       "    </tr>\n",
       "    <tr>\n",
       "      <th>4356</th>\n",
       "      <td>v2</td>\n",
       "      <td>870161</td>\n",
       "      <td>7</td>\n",
       "      <td>103</td>\n",
       "      <td>83</td>\n",
       "      <td>14</td>\n",
       "      <td>29050</td>\n",
       "      <td>8798</td>\n",
       "      <td>5893</td>\n",
       "      <td>581</td>\n",
       "      <td>264</td>\n",
       "      <td>177</td>\n",
       "      <td>8</td>\n",
       "      <td>33</td>\n",
       "      <td>16</td>\n",
       "      <td>8</td>\n",
       "      <td>7</td>\n",
       "      <td>4</td>\n",
       "      <td>4</td>\n",
       "    </tr>\n",
       "    <tr>\n",
       "      <th>4357</th>\n",
       "      <td>v2</td>\n",
       "      <td>973279</td>\n",
       "      <td>1</td>\n",
       "      <td>4</td>\n",
       "      <td>4</td>\n",
       "      <td>5</td>\n",
       "      <td>1072</td>\n",
       "      <td>0</td>\n",
       "      <td>0</td>\n",
       "      <td>0</td>\n",
       "      <td>0</td>\n",
       "      <td>0</td>\n",
       "      <td>0</td>\n",
       "      <td>0</td>\n",
       "      <td>2</td>\n",
       "      <td>0</td>\n",
       "      <td>0</td>\n",
       "      <td>0</td>\n",
       "      <td>0</td>\n",
       "    </tr>\n",
       "    <tr>\n",
       "      <th>4358</th>\n",
       "      <td>v1</td>\n",
       "      <td>540314</td>\n",
       "      <td>8</td>\n",
       "      <td>181</td>\n",
       "      <td>94</td>\n",
       "      <td>13</td>\n",
       "      <td>28200</td>\n",
       "      <td>14006</td>\n",
       "      <td>10810</td>\n",
       "      <td>1692</td>\n",
       "      <td>1120</td>\n",
       "      <td>216</td>\n",
       "      <td>39</td>\n",
       "      <td>29</td>\n",
       "      <td>13</td>\n",
       "      <td>8</td>\n",
       "      <td>4</td>\n",
       "      <td>3</td>\n",
       "      <td>2</td>\n",
       "    </tr>\n",
       "    <tr>\n",
       "      <th>4359</th>\n",
       "      <td>v2</td>\n",
       "      <td>888712</td>\n",
       "      <td>8</td>\n",
       "      <td>208</td>\n",
       "      <td>100</td>\n",
       "      <td>19</td>\n",
       "      <td>38700</td>\n",
       "      <td>16800</td>\n",
       "      <td>13100</td>\n",
       "      <td>774</td>\n",
       "      <td>336</td>\n",
       "      <td>262</td>\n",
       "      <td>10</td>\n",
       "      <td>57</td>\n",
       "      <td>16</td>\n",
       "      <td>8</td>\n",
       "      <td>3</td>\n",
       "      <td>7</td>\n",
       "      <td>3</td>\n",
       "    </tr>\n",
       "  </tbody>\n",
       "</table>\n",
       "<p>4360 rows × 19 columns</p>\n",
       "</div>"
      ],
      "text/plain": [
       "     Version      id  Level  M3 start  M3 finish  Crystall free  Get gold  \\\n",
       "0         v2  958203      1         5          5              5      1069   \n",
       "1         v1  519908     10       184        156             19     57252   \n",
       "2         v2  888712      7        93         78             17     30186   \n",
       "3         v1  571031      4        38         32             11      6784   \n",
       "4         v2  911796      3        27         26              9      4966   \n",
       "...      ...     ...    ...       ...        ...            ...       ...   \n",
       "4355      v1  600309      5        92         51             10     14943   \n",
       "4356      v2  870161      7       103         83             14     29050   \n",
       "4357      v2  973279      1         4          4              5      1072   \n",
       "4358      v1  540314      8       181         94             13     28200   \n",
       "4359      v2  888712      8       208        100             19     38700   \n",
       "\n",
       "      Get food  Get stuff  Buy gold  Buy food  Buy stuff  Get bonus  \\\n",
       "0            0          0         0         0          0          0   \n",
       "1        28704      25584      1145       861        512         76   \n",
       "2         8112       5928      1207       406         59         10   \n",
       "3         1184       1768       271        83          0         16   \n",
       "4          780          0       248        47          0          0   \n",
       "...        ...        ...       ...       ...        ...        ...   \n",
       "4355      5049       2397       598       252         96         23   \n",
       "4356      8798       5893       581       264        177          8   \n",
       "4357         0          0         0         0          0          0   \n",
       "4358     14006      10810      1692      1120        216         39   \n",
       "4359     16800      13100       774       336        262         10   \n",
       "\n",
       "      Buy bonus  Quest complete  Buy energy  Buy charge  Buy amulet  \\\n",
       "0             0               2           0           0           0   \n",
       "1             9              16           4          12           6   \n",
       "2            27              13           6           4           5   \n",
       "3             6              10           0           3           0   \n",
       "4             5               4           1           0           0   \n",
       "...         ...             ...         ...         ...         ...   \n",
       "4355         23               9           5           3           2   \n",
       "4356         33              16           8           7           4   \n",
       "4357          0               2           0           0           0   \n",
       "4358         29              13           8           4           3   \n",
       "4359         57              16           8           3           7   \n",
       "\n",
       "      Collection complete  \n",
       "0                       0  \n",
       "1                       4  \n",
       "2                       3  \n",
       "3                       2  \n",
       "4                       0  \n",
       "...                   ...  \n",
       "4355                    1  \n",
       "4356                    4  \n",
       "4357                    0  \n",
       "4358                    2  \n",
       "4359                    3  \n",
       "\n",
       "[4360 rows x 19 columns]"
      ]
     },
     "execution_count": 3,
     "metadata": {},
     "output_type": "execute_result"
    }
   ],
   "source": [
    "df"
   ]
  },
  {
   "cell_type": "code",
   "execution_count": 5,
   "id": "adcc2835",
   "metadata": {
    "scrolled": true
   },
   "outputs": [
    {
     "data": {
      "text/plain": [
       "1     300\n",
       "2     294\n",
       "3     285\n",
       "4     273\n",
       "5     257\n",
       "6     212\n",
       "7     181\n",
       "8     174\n",
       "9     142\n",
       "10    131\n",
       "Name: Level, dtype: int64"
      ]
     },
     "execution_count": 5,
     "metadata": {},
     "output_type": "execute_result"
    }
   ],
   "source": [
    "A['Level'].value_counts()"
   ]
  },
  {
   "cell_type": "code",
   "execution_count": 8,
   "id": "bf24c13c",
   "metadata": {},
   "outputs": [],
   "source": [
    "A = df[(df['Version']=='v1')&(df['Level']==6)]['Buy gold'].values\n",
    "B = df[(df['Version']=='v2')&(df['Level']==6)]['Buy gold'].values"
   ]
  },
  {
   "cell_type": "code",
   "execution_count": 11,
   "id": "ce96e81c",
   "metadata": {},
   "outputs": [
    {
     "data": {
      "text/plain": [
       "<AxesSubplot:>"
      ]
     },
     "execution_count": 11,
     "metadata": {},
     "output_type": "execute_result"
    },
    {
     "data": {
      "image/png": "[encoded data removed]",
      "text/plain": [
       "<Figure size 432x288 with 1 Axes>"
      ]
     },
     "metadata": {
      "needs_background": "light"
     },
     "output_type": "display_data"
    }
   ],
   "source": [
    "pd.Series(A).hist()"
   ]
  },
  {
   "cell_type": "code",
   "execution_count": 12,
   "id": "aa475051",
   "metadata": {},
   "outputs": [
    {
     "data": {
      "text/plain": [
       "<AxesSubplot:>"
      ]
     },
     "execution_count": 12,
     "metadata": {},
     "output_type": "execute_result"
    },
    {
     "data": {
      "image/png": "[encoded data removed]",
      "text/plain": [
       "<Figure size 432x288 with 1 Axes>"
      ]
     },
     "metadata": {
      "needs_background": "light"
     },
     "output_type": "display_data"
    }
   ],
   "source": [
    "pd.Series(B).hist()"
   ]
  },
  {
   "cell_type": "code",
   "execution_count": 16,
   "id": "3259dd2d",
   "metadata": {},
   "outputs": [],
   "source": [
    "import random\n",
    "import numpy as np"
   ]
  },
  {
   "cell_type": "code",
   "execution_count": 14,
   "id": "24db3fe7",
   "metadata": {
    "collapsed": true
   },
   "outputs": [
    {
     "data": {
      "text/plain": [
       "['BPF',\n",
       " 'LOG4',\n",
       " 'NV_MAGICCONST',\n",
       " 'RECIP_BPF',\n",
       " 'Random',\n",
       " 'SG_MAGICCONST',\n",
       " 'SystemRandom',\n",
       " 'TWOPI',\n",
       " '_Sequence',\n",
       " '_Set',\n",
       " '__all__',\n",
       " '__builtins__',\n",
       " '__cached__',\n",
       " '__doc__',\n",
       " '__file__',\n",
       " '__loader__',\n",
       " '__name__',\n",
       " '__package__',\n",
       " '__spec__',\n",
       " '_accumulate',\n",
       " '_acos',\n",
       " '_bisect',\n",
       " '_ceil',\n",
       " '_cos',\n",
       " '_e',\n",
       " '_exp',\n",
       " '_floor',\n",
       " '_inst',\n",
       " '_log',\n",
       " '_os',\n",
       " '_pi',\n",
       " '_random',\n",
       " '_repeat',\n",
       " '_sha512',\n",
       " '_sin',\n",
       " '_sqrt',\n",
       " '_test',\n",
       " '_test_generator',\n",
       " '_urandom',\n",
       " '_warn',\n",
       " 'betavariate',\n",
       " 'choice',\n",
       " 'choices',\n",
       " 'expovariate',\n",
       " 'gammavariate',\n",
       " 'gauss',\n",
       " 'getrandbits',\n",
       " 'getstate',\n",
       " 'lognormvariate',\n",
       " 'normalvariate',\n",
       " 'paretovariate',\n",
       " 'randbytes',\n",
       " 'randint',\n",
       " 'random',\n",
       " 'randrange',\n",
       " 'sample',\n",
       " 'seed',\n",
       " 'setstate',\n",
       " 'shuffle',\n",
       " 'triangular',\n",
       " 'uniform',\n",
       " 'vonmisesvariate',\n",
       " 'weibullvariate']"
      ]
     },
     "execution_count": 14,
     "metadata": {},
     "output_type": "execute_result"
    }
   ],
   "source": [
    "dir(random)"
   ]
  },
  {
   "cell_type": "code",
   "execution_count": 22,
   "id": "eb1869eb",
   "metadata": {},
   "outputs": [],
   "source": [
    "a_mean_semp = []\n",
    "for i in range(200):\n",
    "    a_mean_semp.append(np.mean(random.choices(A, k=len(A))))\n",
    "    \n",
    "b_mean_semp = []\n",
    "for i in range(200):\n",
    "    b_mean_semp.append(np.mean(random.choices(A, k=len(B))))"
   ]
  },
  {
   "cell_type": "code",
   "execution_count": 18,
   "id": "ee8b22ab",
   "metadata": {},
   "outputs": [
    {
     "data": {
      "text/plain": [
       "<AxesSubplot:>"
      ]
     },
     "execution_count": 18,
     "metadata": {},
     "output_type": "execute_result"
    },
    {
     "data": {
      "image/png": "[encoded data removed]",
      "text/plain": [
       "<Figure size 432x288 with 1 Axes>"
      ]
     },
     "metadata": {
      "needs_background": "light"
     },
     "output_type": "display_data"
    }
   ],
   "source": [
    "pd.Series(A).hist()"
   ]
  },
  {
   "cell_type": "code",
   "execution_count": 20,
   "id": "fb6ee62e",
   "metadata": {},
   "outputs": [
    {
     "data": {
      "text/plain": [
       "650.311320754717"
      ]
     },
     "execution_count": 20,
     "metadata": {},
     "output_type": "execute_result"
    }
   ],
   "source": [
    "np.mean(A)"
   ]
  },
  {
   "cell_type": "code",
   "execution_count": 21,
   "id": "2970d0a2",
   "metadata": {},
   "outputs": [
    {
     "data": {
      "text/plain": [
       "652.8414386792452"
      ]
     },
     "execution_count": 21,
     "metadata": {},
     "output_type": "execute_result"
    }
   ],
   "source": [
    "np.mean(a_mean_semp)"
   ]
  },
  {
   "cell_type": "code",
   "execution_count": 19,
   "id": "06b9a637",
   "metadata": {
    "scrolled": true
   },
   "outputs": [
    {
     "data": {
      "text/plain": [
       "<AxesSubplot:>"
      ]
     },
     "execution_count": 19,
     "metadata": {},
     "output_type": "execute_result"
    },
    {
     "data": {
      "image/png": "[encoded data removed]",
      "text/plain": [
       "<Figure size 432x288 with 1 Axes>"
      ]
     },
     "metadata": {
      "needs_background": "light"
     },
     "output_type": "display_data"
    }
   ],
   "source": [
    "pd.Series(a_mean_semp).hist()"
   ]
  },
  {
   "cell_type": "code",
   "execution_count": 23,
   "id": "307ce225",
   "metadata": {},
   "outputs": [
    {
     "data": {
      "text/plain": [
       "<AxesSubplot:>"
      ]
     },
     "execution_count": 23,
     "metadata": {},
     "output_type": "execute_result"
    },
    {
     "data": {
      "image/png": "[encoded data removed]",
      "text/plain": [
       "<Figure size 432x288 with 1 Axes>"
      ]
     },
     "metadata": {
      "needs_background": "light"
     },
     "output_type": "display_data"
    }
   ],
   "source": [
    "pd.Series(b_mean_semp).hist()"
   ]
  },
  {
   "cell_type": "code",
   "execution_count": 25,
   "id": "44bba420",
   "metadata": {},
   "outputs": [
    {
     "data": {
      "text/plain": [
       "650.7835849056603"
      ]
     },
     "execution_count": 25,
     "metadata": {},
     "output_type": "execute_result"
    }
   ],
   "source": [
    "np.mean(a_mean_semp)"
   ]
  },
  {
   "cell_type": "code",
   "execution_count": 24,
   "id": "00ff6a75",
   "metadata": {
    "scrolled": true
   },
   "outputs": [
    {
     "data": {
      "text/plain": [
       "652.0633756345177"
      ]
     },
     "execution_count": 24,
     "metadata": {},
     "output_type": "execute_result"
    }
   ],
   "source": [
    "np.mean(b_mean_semp)"
   ]
  },
  {
   "cell_type": "code",
   "execution_count": 27,
   "id": "76cf2fa1",
   "metadata": {},
   "outputs": [
    {
     "data": {
      "text/plain": [
       "168.56572702919186"
      ]
     },
     "execution_count": 27,
     "metadata": {},
     "output_type": "execute_result"
    }
   ],
   "source": [
    "np.var(a_mean_semp)"
   ]
  },
  {
   "cell_type": "code",
   "execution_count": 28,
   "id": "061f051e",
   "metadata": {},
   "outputs": [
    {
     "data": {
      "text/plain": [
       "153.42634903695017"
      ]
     },
     "execution_count": 28,
     "metadata": {},
     "output_type": "execute_result"
    }
   ],
   "source": [
    "np.var(b_mean_semp)"
   ]
  },
  {
   "cell_type": "code",
   "execution_count": 26,
   "id": "6c421b36",
   "metadata": {},
   "outputs": [],
   "source": [
    "import scipy.stats as st"
   ]
  },
  {
   "cell_type": "code",
   "execution_count": 33,
   "id": "45af4b6d",
   "metadata": {},
   "outputs": [],
   "source": [
    "alpha = 0.05\n",
    "result = st.ttest_ind(a_mean_semp, b_mean_semp, equal_var = False)"
   ]
  },
  {
   "cell_type": "code",
   "execution_count": 34,
   "id": "1e8b44c0",
   "metadata": {},
   "outputs": [
    {
     "name": "stdout",
     "output_type": "stream",
     "text": [
      "различия НЕ значимы\n"
     ]
    }
   ],
   "source": [
    "if result.pvalue <alpha:\n",
    "    print('различия значимы')\n",
    "else:\n",
    "    print('различия НЕ значимы')"
   ]
  },
  {
   "cell_type": "code",
   "execution_count": null,
   "id": "7f1b0dcf",
   "metadata": {},
   "outputs": [],
   "source": []
  }
 ],
 "metadata": {
  "kernelspec": {
   "display_name": "Python 3 (ipykernel)",
   "language": "python",
   "name": "python3"
  },
  "language_info": {
   "codemirror_mode": {
    "name": "ipython",
    "version": 3
   },
   "file_extension": ".py",
   "mimetype": "text/x-python",
   "name": "python",
   "nbconvert_exporter": "python",
   "pygments_lexer": "ipython3",
   "version": "3.9.7"
  }
 },
 "nbformat": 4,
 "nbformat_minor": 5
}
