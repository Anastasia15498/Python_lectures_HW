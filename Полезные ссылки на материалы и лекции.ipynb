{
 "cells": [
  {
   "cell_type": "markdown",
   "id": "23ae283a",
   "metadata": {},
   "source": [
    "# [Ссылка на гугл диск с лекциями][1]\n",
    "\n",
    "[Уроки GitHub][2]\n",
    "\n",
    "[Видео инструкция по GitHub Desktop][3]\n",
    "\n",
    "\n",
    "[1]:[https://drive.google.com/drive/folders/15Ka74y97phsn9DU1m6EvEIzHkyrfcesW?usp=sharing]\n",
    "[2]:[https://githowto.com/ru]\n",
    "[3]:[https://www.youtube.com/watch?v=7aBx57MbSCE]"
   ]
  },
  {
   "cell_type": "markdown",
   "id": "fd8f2e1e",
   "metadata": {},
   "source": [
    "# Доп литература и обзоры курсов платных и бесплатных\n",
    "[Курс видео лекций по алгоритмам][1]\n",
    "\n",
    "[Литература][2]\n",
    "\n",
    " \n",
    "*Есть в СберУниверситете*\n",
    "\n",
    "·       Изучаем Python Эрик М.Э.\n",
    "\n",
    "·       Python Персиваль Г.\n",
    "\n",
    "·       Грокаем алгоритмы Бхаргава А.\n",
    "\n",
    "·       Основы Python. Научитесь думать как программист. Аллен Б. Дауни\n",
    "\n",
    "·       Элегантный SciPy Нуньесиглесиас Х., Уолт В.А., Дэшноу Х.\n",
    "\n",
    "·       Python для сложных задач. Плас Д.Ж.\n",
    "\n",
    "·       Данные: визуализируй, расскажи, используй. Сторителлинг в аналитике.Коул Нассбаумер Нафлик\n",
    "\n",
    "·       Изучаем pandas Хейдт М.\n",
    "\n",
    " \n",
    "\n",
    " \n",
    "\n",
    "[Обзор бесплатных курсов][3]\n",
    " \n",
    "\n",
    "[Обзор платных курсов][4]\n",
    "\n",
    "\n",
    "\n",
    "[1]:[https://www.youtube.com/c/pavelmavrin/playlists]\n",
    "[2]:[https://proglib.io/p/top-15-knig-po-python-ot-novichka-do-professionala-2020-04-07]\n",
    "[3]:[https://habr.com/ru/company/katalog_kursov_ru/blog/686632/]\n",
    "[4]:[https://zen.yandex.ru/media/id/59773a0848c85e9c7afc5f02/top40-kursov-po-python-vkliuchaia-besplatnye-programmirovanie-s-nulia-bonus-603f50918da63757af15c106]"
   ]
  }
 ],
 "metadata": {
  "kernelspec": {
   "display_name": "Python 3 (ipykernel)",
   "language": "python",
   "name": "python3"
  },
  "language_info": {
   "codemirror_mode": {
    "name": "ipython",
    "version": 3
   },
   "file_extension": ".py",
   "mimetype": "text/x-python",
   "name": "python",
   "nbconvert_exporter": "python",
   "pygments_lexer": "ipython3",
   "version": "3.9.7"
  }
 },
 "nbformat": 4,
 "nbformat_minor": 5
}
